{
 "cells": [
  {
   "cell_type": "markdown",
   "id": "43ce497b",
   "metadata": {},
   "source": [
    "# Loan Application Status Prediction\n",
    "\n",
    "Project Description\n",
    "\n",
    "This dataset includes details of applicants who have applied for loan. The dataset includesdetails like credit history, loan amount, their income, dependents etc. \n",
    "Independent Variables:\n",
    "1. Loan_ID - This refer to the unique identifier of the applicant&#39;s affirmed purchases\n",
    "2. Gender - This refers to either of the two main categories (male and female) into which\n",
    "applicants are divided on the basis of their reproductive functions\n",
    "3. Married - This refers to applicant being in a state of matrimony\n",
    "4. Dependents - This refres to persons who depends on the applicants for survival\n",
    "5. Education - This refers to number of years in which applicant received systematic\n",
    "instruction, especially at a school or university\n",
    "6. Self_Employed - This refers to applicant working for oneself as a freelancer or the owner\n",
    "of a business rather than for an employer\n",
    "7. Applicant Income - This refers to disposable income available for the applicant&#39;s use\n",
    "under State law.\n",
    "8. CoapplicantIncome - This refers to disposable income available for the people that\n",
    "participate in the loan application process alongside the main applicant use under State\n",
    "law.\n",
    "9. Loan_Amount - This refers to the amount of money an applicant owe at any given time.\n",
    "10. Loan_Amount_Term - This refers to the duaration in which the loan is availed to the\n",
    "applicant\n",
    "11. Credit History - This refers to a record of applicant&#39;s ability to repay debts and\n",
    "demonstrated responsibility in repaying them.\n",
    "12. Property_Area - This refers to the total area within the boundaries of the property as set\n",
    "out in Schedule.\n",
    "13. Loan_Status - This refres to whether applicant is eligible to be availed the Loan\n",
    "requested.\n",
    "You have to build a model that can predict whether the loan of the applicant will be\n",
    "approved(Loan_status) or not on the basis of the details provided in the dataset. \n",
    "Dataset Link- https://github.com/dsrscientist/DSData/blob/master/loan_prediction.csv"
   ]
  },
  {
   "cell_type": "markdown",
   "id": "6dfadb38",
   "metadata": {},
   "source": [
    "# IMPORTING LIBRARIES"
   ]
  },
  {
   "cell_type": "code",
   "execution_count": 1,
   "id": "c34a9b77",
   "metadata": {},
   "outputs": [],
   "source": [
    "import pandas as pd \n",
    "import numpy as np\n",
    "import warnings\n",
    "warnings.filterwarnings('ignore')"
   ]
  },
  {
   "cell_type": "markdown",
   "id": "7cca10ea",
   "metadata": {},
   "source": [
    "# GETTING THE DATASET"
   ]
  },
  {
   "cell_type": "code",
   "execution_count": 2,
   "id": "43c20265",
   "metadata": {},
   "outputs": [
    {
     "data": {
      "text/html": [
       "<div>\n",
       "<style scoped>\n",
       "    .dataframe tbody tr th:only-of-type {\n",
       "        vertical-align: middle;\n",
       "    }\n",
       "\n",
       "    .dataframe tbody tr th {\n",
       "        vertical-align: top;\n",
       "    }\n",
       "\n",
       "    .dataframe thead th {\n",
       "        text-align: right;\n",
       "    }\n",
       "</style>\n",
       "<table border=\"1\" class=\"dataframe\">\n",
       "  <thead>\n",
       "    <tr style=\"text-align: right;\">\n",
       "      <th></th>\n",
       "      <th>Loan_ID</th>\n",
       "      <th>Gender</th>\n",
       "      <th>Married</th>\n",
       "      <th>Dependents</th>\n",
       "      <th>Education</th>\n",
       "      <th>Self_Employed</th>\n",
       "      <th>ApplicantIncome</th>\n",
       "      <th>CoapplicantIncome</th>\n",
       "      <th>LoanAmount</th>\n",
       "      <th>Loan_Amount_Term</th>\n",
       "      <th>Credit_History</th>\n",
       "      <th>Property_Area</th>\n",
       "      <th>Loan_Status</th>\n",
       "    </tr>\n",
       "  </thead>\n",
       "  <tbody>\n",
       "    <tr>\n",
       "      <th>0</th>\n",
       "      <td>LP001002</td>\n",
       "      <td>Male</td>\n",
       "      <td>No</td>\n",
       "      <td>0</td>\n",
       "      <td>Graduate</td>\n",
       "      <td>No</td>\n",
       "      <td>5849</td>\n",
       "      <td>0.0</td>\n",
       "      <td>NaN</td>\n",
       "      <td>360.0</td>\n",
       "      <td>1.0</td>\n",
       "      <td>Urban</td>\n",
       "      <td>Y</td>\n",
       "    </tr>\n",
       "    <tr>\n",
       "      <th>1</th>\n",
       "      <td>LP001003</td>\n",
       "      <td>Male</td>\n",
       "      <td>Yes</td>\n",
       "      <td>1</td>\n",
       "      <td>Graduate</td>\n",
       "      <td>No</td>\n",
       "      <td>4583</td>\n",
       "      <td>1508.0</td>\n",
       "      <td>128.0</td>\n",
       "      <td>360.0</td>\n",
       "      <td>1.0</td>\n",
       "      <td>Rural</td>\n",
       "      <td>N</td>\n",
       "    </tr>\n",
       "    <tr>\n",
       "      <th>2</th>\n",
       "      <td>LP001005</td>\n",
       "      <td>Male</td>\n",
       "      <td>Yes</td>\n",
       "      <td>0</td>\n",
       "      <td>Graduate</td>\n",
       "      <td>Yes</td>\n",
       "      <td>3000</td>\n",
       "      <td>0.0</td>\n",
       "      <td>66.0</td>\n",
       "      <td>360.0</td>\n",
       "      <td>1.0</td>\n",
       "      <td>Urban</td>\n",
       "      <td>Y</td>\n",
       "    </tr>\n",
       "    <tr>\n",
       "      <th>3</th>\n",
       "      <td>LP001006</td>\n",
       "      <td>Male</td>\n",
       "      <td>Yes</td>\n",
       "      <td>0</td>\n",
       "      <td>Not Graduate</td>\n",
       "      <td>No</td>\n",
       "      <td>2583</td>\n",
       "      <td>2358.0</td>\n",
       "      <td>120.0</td>\n",
       "      <td>360.0</td>\n",
       "      <td>1.0</td>\n",
       "      <td>Urban</td>\n",
       "      <td>Y</td>\n",
       "    </tr>\n",
       "    <tr>\n",
       "      <th>4</th>\n",
       "      <td>LP001008</td>\n",
       "      <td>Male</td>\n",
       "      <td>No</td>\n",
       "      <td>0</td>\n",
       "      <td>Graduate</td>\n",
       "      <td>No</td>\n",
       "      <td>6000</td>\n",
       "      <td>0.0</td>\n",
       "      <td>141.0</td>\n",
       "      <td>360.0</td>\n",
       "      <td>1.0</td>\n",
       "      <td>Urban</td>\n",
       "      <td>Y</td>\n",
       "    </tr>\n",
       "  </tbody>\n",
       "</table>\n",
       "</div>"
      ],
      "text/plain": [
       "    Loan_ID Gender Married Dependents     Education Self_Employed  \\\n",
       "0  LP001002   Male      No          0      Graduate            No   \n",
       "1  LP001003   Male     Yes          1      Graduate            No   \n",
       "2  LP001005   Male     Yes          0      Graduate           Yes   \n",
       "3  LP001006   Male     Yes          0  Not Graduate            No   \n",
       "4  LP001008   Male      No          0      Graduate            No   \n",
       "\n",
       "   ApplicantIncome  CoapplicantIncome  LoanAmount  Loan_Amount_Term  \\\n",
       "0             5849                0.0         NaN             360.0   \n",
       "1             4583             1508.0       128.0             360.0   \n",
       "2             3000                0.0        66.0             360.0   \n",
       "3             2583             2358.0       120.0             360.0   \n",
       "4             6000                0.0       141.0             360.0   \n",
       "\n",
       "   Credit_History Property_Area Loan_Status  \n",
       "0             1.0         Urban           Y  \n",
       "1             1.0         Rural           N  \n",
       "2             1.0         Urban           Y  \n",
       "3             1.0         Urban           Y  \n",
       "4             1.0         Urban           Y  "
      ]
     },
     "execution_count": 2,
     "metadata": {},
     "output_type": "execute_result"
    }
   ],
   "source": [
    "df=pd.read_csv('loan_application_status_prediction.csv')\n",
    "df.head()"
   ]
  },
  {
   "cell_type": "markdown",
   "id": "73fbe98e",
   "metadata": {},
   "source": [
    "# EDA"
   ]
  },
  {
   "cell_type": "code",
   "execution_count": 3,
   "id": "1d3af982",
   "metadata": {},
   "outputs": [
    {
     "data": {
      "text/plain": [
       "Index(['Loan_ID', 'Gender', 'Married', 'Dependents', 'Education',\n",
       "       'Self_Employed', 'ApplicantIncome', 'CoapplicantIncome', 'LoanAmount',\n",
       "       'Loan_Amount_Term', 'Credit_History', 'Property_Area', 'Loan_Status'],\n",
       "      dtype='object')"
      ]
     },
     "execution_count": 3,
     "metadata": {},
     "output_type": "execute_result"
    }
   ],
   "source": [
    "df.columns"
   ]
  },
  {
   "cell_type": "code",
   "execution_count": 4,
   "id": "09d2d139",
   "metadata": {},
   "outputs": [
    {
     "data": {
      "text/plain": [
       "(614, 13)"
      ]
     },
     "execution_count": 4,
     "metadata": {},
     "output_type": "execute_result"
    }
   ],
   "source": [
    "df.shape"
   ]
  },
  {
   "cell_type": "code",
   "execution_count": 5,
   "id": "97e43b46",
   "metadata": {},
   "outputs": [
    {
     "data": {
      "text/plain": [
       "Loan_ID               0\n",
       "Gender               13\n",
       "Married               3\n",
       "Dependents           15\n",
       "Education             0\n",
       "Self_Employed        32\n",
       "ApplicantIncome       0\n",
       "CoapplicantIncome     0\n",
       "LoanAmount           22\n",
       "Loan_Amount_Term     14\n",
       "Credit_History       50\n",
       "Property_Area         0\n",
       "Loan_Status           0\n",
       "dtype: int64"
      ]
     },
     "execution_count": 5,
     "metadata": {},
     "output_type": "execute_result"
    }
   ],
   "source": [
    "df.isnull().sum()"
   ]
  },
  {
   "cell_type": "code",
   "execution_count": 6,
   "id": "000aaad4",
   "metadata": {},
   "outputs": [
    {
     "data": {
      "text/plain": [
       "Loan_ID               object\n",
       "Gender                object\n",
       "Married               object\n",
       "Dependents            object\n",
       "Education             object\n",
       "Self_Employed         object\n",
       "ApplicantIncome        int64\n",
       "CoapplicantIncome    float64\n",
       "LoanAmount           float64\n",
       "Loan_Amount_Term     float64\n",
       "Credit_History       float64\n",
       "Property_Area         object\n",
       "Loan_Status           object\n",
       "dtype: object"
      ]
     },
     "execution_count": 6,
     "metadata": {},
     "output_type": "execute_result"
    }
   ],
   "source": [
    "df.dtypes"
   ]
  },
  {
   "cell_type": "code",
   "execution_count": 7,
   "id": "5e62affa",
   "metadata": {},
   "outputs": [
    {
     "data": {
      "text/plain": [
       "Y    422\n",
       "N    192\n",
       "Name: Loan_Status, dtype: int64"
      ]
     },
     "execution_count": 7,
     "metadata": {},
     "output_type": "execute_result"
    }
   ],
   "source": [
    "df['Loan_Status'].value_counts()"
   ]
  },
  {
   "cell_type": "markdown",
   "id": "c6397aba",
   "metadata": {},
   "source": [
    "# REMOVING DUPLICATES"
   ]
  },
  {
   "cell_type": "code",
   "execution_count": 8,
   "id": "e7bb0e11",
   "metadata": {},
   "outputs": [
    {
     "data": {
      "text/plain": [
       "0"
      ]
     },
     "execution_count": 8,
     "metadata": {},
     "output_type": "execute_result"
    }
   ],
   "source": [
    "df['Loan_ID'].duplicated().sum()"
   ]
  },
  {
   "cell_type": "code",
   "execution_count": 9,
   "id": "402e9652",
   "metadata": {},
   "outputs": [
    {
     "data": {
      "text/plain": [
       "611"
      ]
     },
     "execution_count": 9,
     "metadata": {},
     "output_type": "execute_result"
    }
   ],
   "source": [
    "df['Gender'].duplicated().sum()"
   ]
  },
  {
   "cell_type": "code",
   "execution_count": 10,
   "id": "58c1c4af",
   "metadata": {},
   "outputs": [
    {
     "data": {
      "text/plain": [
       "611"
      ]
     },
     "execution_count": 10,
     "metadata": {},
     "output_type": "execute_result"
    }
   ],
   "source": [
    "df['Married'].duplicated().sum()"
   ]
  },
  {
   "cell_type": "code",
   "execution_count": 11,
   "id": "eb1a2f46",
   "metadata": {},
   "outputs": [
    {
     "data": {
      "text/plain": [
       "609"
      ]
     },
     "execution_count": 11,
     "metadata": {},
     "output_type": "execute_result"
    }
   ],
   "source": [
    "df['Dependents'].duplicated().sum()"
   ]
  },
  {
   "cell_type": "code",
   "execution_count": 12,
   "id": "aa9e5ebe",
   "metadata": {},
   "outputs": [
    {
     "data": {
      "text/plain": [
       "612"
      ]
     },
     "execution_count": 12,
     "metadata": {},
     "output_type": "execute_result"
    }
   ],
   "source": [
    "df['Education'].duplicated().sum()"
   ]
  },
  {
   "cell_type": "code",
   "execution_count": 13,
   "id": "6d1f2646",
   "metadata": {},
   "outputs": [
    {
     "data": {
      "text/plain": [
       "611"
      ]
     },
     "execution_count": 13,
     "metadata": {},
     "output_type": "execute_result"
    }
   ],
   "source": [
    "df['Self_Employed'].duplicated().sum()"
   ]
  },
  {
   "cell_type": "code",
   "execution_count": 14,
   "id": "1c8e4408",
   "metadata": {},
   "outputs": [
    {
     "data": {
      "text/plain": [
       "109"
      ]
     },
     "execution_count": 14,
     "metadata": {},
     "output_type": "execute_result"
    }
   ],
   "source": [
    "df['ApplicantIncome'].duplicated().sum()"
   ]
  },
  {
   "cell_type": "code",
   "execution_count": 15,
   "id": "6d802286",
   "metadata": {},
   "outputs": [
    {
     "data": {
      "text/plain": [
       "327"
      ]
     },
     "execution_count": 15,
     "metadata": {},
     "output_type": "execute_result"
    }
   ],
   "source": [
    "df['CoapplicantIncome'].duplicated().sum()"
   ]
  },
  {
   "cell_type": "code",
   "execution_count": 16,
   "id": "3d2129b9",
   "metadata": {},
   "outputs": [
    {
     "data": {
      "text/plain": [
       "410"
      ]
     },
     "execution_count": 16,
     "metadata": {},
     "output_type": "execute_result"
    }
   ],
   "source": [
    "df['LoanAmount'].duplicated().sum()"
   ]
  },
  {
   "cell_type": "code",
   "execution_count": 17,
   "id": "236f832b",
   "metadata": {},
   "outputs": [
    {
     "data": {
      "text/plain": [
       "603"
      ]
     },
     "execution_count": 17,
     "metadata": {},
     "output_type": "execute_result"
    }
   ],
   "source": [
    "df['Loan_Amount_Term'].duplicated().sum()"
   ]
  },
  {
   "cell_type": "code",
   "execution_count": 18,
   "id": "61b9452b",
   "metadata": {},
   "outputs": [
    {
     "data": {
      "text/plain": [
       "611"
      ]
     },
     "execution_count": 18,
     "metadata": {},
     "output_type": "execute_result"
    }
   ],
   "source": [
    "df['Credit_History'].duplicated().sum()"
   ]
  },
  {
   "cell_type": "code",
   "execution_count": 19,
   "id": "8fd61601",
   "metadata": {},
   "outputs": [
    {
     "data": {
      "text/plain": [
       "611"
      ]
     },
     "execution_count": 19,
     "metadata": {},
     "output_type": "execute_result"
    }
   ],
   "source": [
    "df['Property_Area'].duplicated().sum()"
   ]
  },
  {
   "cell_type": "code",
   "execution_count": 20,
   "id": "8977d52a",
   "metadata": {},
   "outputs": [
    {
     "data": {
      "text/plain": [
       "612"
      ]
     },
     "execution_count": 20,
     "metadata": {},
     "output_type": "execute_result"
    }
   ],
   "source": [
    "df['Loan_Status'].duplicated().sum()"
   ]
  },
  {
   "cell_type": "code",
   "execution_count": 21,
   "id": "c7382f1f",
   "metadata": {},
   "outputs": [
    {
     "data": {
      "text/html": [
       "<div>\n",
       "<style scoped>\n",
       "    .dataframe tbody tr th:only-of-type {\n",
       "        vertical-align: middle;\n",
       "    }\n",
       "\n",
       "    .dataframe tbody tr th {\n",
       "        vertical-align: top;\n",
       "    }\n",
       "\n",
       "    .dataframe thead th {\n",
       "        text-align: right;\n",
       "    }\n",
       "</style>\n",
       "<table border=\"1\" class=\"dataframe\">\n",
       "  <thead>\n",
       "    <tr style=\"text-align: right;\">\n",
       "      <th></th>\n",
       "      <th>Loan_ID</th>\n",
       "      <th>Gender</th>\n",
       "      <th>Married</th>\n",
       "      <th>Dependents</th>\n",
       "      <th>Education</th>\n",
       "      <th>Self_Employed</th>\n",
       "      <th>ApplicantIncome</th>\n",
       "      <th>CoapplicantIncome</th>\n",
       "      <th>LoanAmount</th>\n",
       "      <th>Loan_Amount_Term</th>\n",
       "      <th>Credit_History</th>\n",
       "      <th>Property_Area</th>\n",
       "      <th>Loan_Status</th>\n",
       "    </tr>\n",
       "  </thead>\n",
       "  <tbody>\n",
       "    <tr>\n",
       "      <th>0</th>\n",
       "      <td>LP001002</td>\n",
       "      <td>Male</td>\n",
       "      <td>No</td>\n",
       "      <td>0</td>\n",
       "      <td>Graduate</td>\n",
       "      <td>No</td>\n",
       "      <td>5849</td>\n",
       "      <td>0.0</td>\n",
       "      <td>NaN</td>\n",
       "      <td>360.0</td>\n",
       "      <td>1.0</td>\n",
       "      <td>Urban</td>\n",
       "      <td>Y</td>\n",
       "    </tr>\n",
       "    <tr>\n",
       "      <th>1</th>\n",
       "      <td>LP001003</td>\n",
       "      <td>Male</td>\n",
       "      <td>Yes</td>\n",
       "      <td>1</td>\n",
       "      <td>Graduate</td>\n",
       "      <td>No</td>\n",
       "      <td>4583</td>\n",
       "      <td>1508.0</td>\n",
       "      <td>128.0</td>\n",
       "      <td>360.0</td>\n",
       "      <td>1.0</td>\n",
       "      <td>Rural</td>\n",
       "      <td>N</td>\n",
       "    </tr>\n",
       "    <tr>\n",
       "      <th>2</th>\n",
       "      <td>LP001005</td>\n",
       "      <td>Male</td>\n",
       "      <td>Yes</td>\n",
       "      <td>0</td>\n",
       "      <td>Graduate</td>\n",
       "      <td>Yes</td>\n",
       "      <td>3000</td>\n",
       "      <td>0.0</td>\n",
       "      <td>66.0</td>\n",
       "      <td>360.0</td>\n",
       "      <td>1.0</td>\n",
       "      <td>Urban</td>\n",
       "      <td>Y</td>\n",
       "    </tr>\n",
       "    <tr>\n",
       "      <th>3</th>\n",
       "      <td>LP001006</td>\n",
       "      <td>Male</td>\n",
       "      <td>Yes</td>\n",
       "      <td>0</td>\n",
       "      <td>Not Graduate</td>\n",
       "      <td>No</td>\n",
       "      <td>2583</td>\n",
       "      <td>2358.0</td>\n",
       "      <td>120.0</td>\n",
       "      <td>360.0</td>\n",
       "      <td>1.0</td>\n",
       "      <td>Urban</td>\n",
       "      <td>Y</td>\n",
       "    </tr>\n",
       "    <tr>\n",
       "      <th>4</th>\n",
       "      <td>LP001008</td>\n",
       "      <td>Male</td>\n",
       "      <td>No</td>\n",
       "      <td>0</td>\n",
       "      <td>Graduate</td>\n",
       "      <td>No</td>\n",
       "      <td>6000</td>\n",
       "      <td>0.0</td>\n",
       "      <td>141.0</td>\n",
       "      <td>360.0</td>\n",
       "      <td>1.0</td>\n",
       "      <td>Urban</td>\n",
       "      <td>Y</td>\n",
       "    </tr>\n",
       "  </tbody>\n",
       "</table>\n",
       "</div>"
      ],
      "text/plain": [
       "    Loan_ID Gender Married Dependents     Education Self_Employed  \\\n",
       "0  LP001002   Male      No          0      Graduate            No   \n",
       "1  LP001003   Male     Yes          1      Graduate            No   \n",
       "2  LP001005   Male     Yes          0      Graduate           Yes   \n",
       "3  LP001006   Male     Yes          0  Not Graduate            No   \n",
       "4  LP001008   Male      No          0      Graduate            No   \n",
       "\n",
       "   ApplicantIncome  CoapplicantIncome  LoanAmount  Loan_Amount_Term  \\\n",
       "0             5849                0.0         NaN             360.0   \n",
       "1             4583             1508.0       128.0             360.0   \n",
       "2             3000                0.0        66.0             360.0   \n",
       "3             2583             2358.0       120.0             360.0   \n",
       "4             6000                0.0       141.0             360.0   \n",
       "\n",
       "   Credit_History Property_Area Loan_Status  \n",
       "0             1.0         Urban           Y  \n",
       "1             1.0         Rural           N  \n",
       "2             1.0         Urban           Y  \n",
       "3             1.0         Urban           Y  \n",
       "4             1.0         Urban           Y  "
      ]
     },
     "execution_count": 21,
     "metadata": {},
     "output_type": "execute_result"
    }
   ],
   "source": [
    "df1=df.drop_duplicates()\n",
    "df1.head()"
   ]
  },
  {
   "cell_type": "code",
   "execution_count": 22,
   "id": "b2d8e396",
   "metadata": {},
   "outputs": [
    {
     "data": {
      "text/plain": [
       "0"
      ]
     },
     "execution_count": 22,
     "metadata": {},
     "output_type": "execute_result"
    }
   ],
   "source": [
    "df1.duplicated().sum()"
   ]
  },
  {
   "cell_type": "code",
   "execution_count": 23,
   "id": "58df2c4b",
   "metadata": {},
   "outputs": [
    {
     "data": {
      "text/plain": [
       "(614, 13)"
      ]
     },
     "execution_count": 23,
     "metadata": {},
     "output_type": "execute_result"
    }
   ],
   "source": [
    "df1.shape"
   ]
  },
  {
   "cell_type": "code",
   "execution_count": 24,
   "id": "3cdc1511",
   "metadata": {},
   "outputs": [
    {
     "data": {
      "text/plain": [
       "Loan_ID               object\n",
       "Gender                object\n",
       "Married               object\n",
       "Dependents            object\n",
       "Education             object\n",
       "Self_Employed         object\n",
       "ApplicantIncome        int64\n",
       "CoapplicantIncome    float64\n",
       "LoanAmount           float64\n",
       "Loan_Amount_Term     float64\n",
       "Credit_History       float64\n",
       "Property_Area         object\n",
       "Loan_Status           object\n",
       "dtype: object"
      ]
     },
     "execution_count": 24,
     "metadata": {},
     "output_type": "execute_result"
    }
   ],
   "source": [
    "df1.dtypes"
   ]
  },
  {
   "cell_type": "markdown",
   "id": "4bfe2b55",
   "metadata": {},
   "source": [
    "# CONVERTING OBJECT DATA"
   ]
  },
  {
   "cell_type": "code",
   "execution_count": 25,
   "id": "c26c0def",
   "metadata": {},
   "outputs": [],
   "source": [
    "from sklearn.preprocessing import OrdinalEncoder\n",
    "ordin=OrdinalEncoder()"
   ]
  },
  {
   "cell_type": "code",
   "execution_count": 26,
   "id": "fa9472e6",
   "metadata": {},
   "outputs": [],
   "source": [
    "for i in df1.columns:\n",
    "    if df1[i].dtypes=='object':\n",
    "        df1[i]=ordin.fit_transform(df1[i].values.reshape(-1,1))"
   ]
  },
  {
   "cell_type": "code",
   "execution_count": 27,
   "id": "b1462714",
   "metadata": {},
   "outputs": [
    {
     "data": {
      "text/plain": [
       "Loan_ID              float64\n",
       "Gender               float64\n",
       "Married              float64\n",
       "Dependents           float64\n",
       "Education            float64\n",
       "Self_Employed        float64\n",
       "ApplicantIncome        int64\n",
       "CoapplicantIncome    float64\n",
       "LoanAmount           float64\n",
       "Loan_Amount_Term     float64\n",
       "Credit_History       float64\n",
       "Property_Area        float64\n",
       "Loan_Status          float64\n",
       "dtype: object"
      ]
     },
     "execution_count": 27,
     "metadata": {},
     "output_type": "execute_result"
    }
   ],
   "source": [
    "df1.dtypes"
   ]
  },
  {
   "cell_type": "code",
   "execution_count": 28,
   "id": "b81ce825",
   "metadata": {},
   "outputs": [
    {
     "data": {
      "text/plain": [
       "Loan_ID               0\n",
       "Gender               13\n",
       "Married               3\n",
       "Dependents           15\n",
       "Education             0\n",
       "Self_Employed        32\n",
       "ApplicantIncome       0\n",
       "CoapplicantIncome     0\n",
       "LoanAmount           22\n",
       "Loan_Amount_Term     14\n",
       "Credit_History       50\n",
       "Property_Area         0\n",
       "Loan_Status           0\n",
       "dtype: int64"
      ]
     },
     "execution_count": 28,
     "metadata": {},
     "output_type": "execute_result"
    }
   ],
   "source": [
    "df1.isnull().sum()"
   ]
  },
  {
   "cell_type": "markdown",
   "id": "d6084a8e",
   "metadata": {},
   "source": [
    "# FILLING NULL DATAS"
   ]
  },
  {
   "cell_type": "code",
   "execution_count": 29,
   "id": "3332efd4",
   "metadata": {},
   "outputs": [],
   "source": [
    "for i in df1.columns:\n",
    "    df1[i].fillna(np.mean(df1[i]),inplace=True)"
   ]
  },
  {
   "cell_type": "code",
   "execution_count": 30,
   "id": "4f9dda26",
   "metadata": {},
   "outputs": [
    {
     "data": {
      "text/plain": [
       "Loan_ID              0\n",
       "Gender               0\n",
       "Married              0\n",
       "Dependents           0\n",
       "Education            0\n",
       "Self_Employed        0\n",
       "ApplicantIncome      0\n",
       "CoapplicantIncome    0\n",
       "LoanAmount           0\n",
       "Loan_Amount_Term     0\n",
       "Credit_History       0\n",
       "Property_Area        0\n",
       "Loan_Status          0\n",
       "dtype: int64"
      ]
     },
     "execution_count": 30,
     "metadata": {},
     "output_type": "execute_result"
    }
   ],
   "source": [
    "df1.isnull().sum()"
   ]
  },
  {
   "cell_type": "markdown",
   "id": "fb9273f4",
   "metadata": {},
   "source": [
    "# CONVERTING FLOAT DATA INTO INT DATA FOR BETTER EXECUTION"
   ]
  },
  {
   "cell_type": "code",
   "execution_count": 31,
   "id": "5aa16c1f",
   "metadata": {},
   "outputs": [],
   "source": [
    "for i in df1.columns:\n",
    "    if df1[i].dtypes=='float':\n",
    "        df1[i]=df1[i].astype('int')  "
   ]
  },
  {
   "cell_type": "code",
   "execution_count": 32,
   "id": "343d6a76",
   "metadata": {},
   "outputs": [
    {
     "data": {
      "text/plain": [
       "Loan_ID              int32\n",
       "Gender               int32\n",
       "Married              int32\n",
       "Dependents           int32\n",
       "Education            int32\n",
       "Self_Employed        int32\n",
       "ApplicantIncome      int64\n",
       "CoapplicantIncome    int32\n",
       "LoanAmount           int32\n",
       "Loan_Amount_Term     int32\n",
       "Credit_History       int32\n",
       "Property_Area        int32\n",
       "Loan_Status          int32\n",
       "dtype: object"
      ]
     },
     "execution_count": 32,
     "metadata": {},
     "output_type": "execute_result"
    }
   ],
   "source": [
    "df1.dtypes"
   ]
  },
  {
   "cell_type": "markdown",
   "id": "2dd26a8a",
   "metadata": {},
   "source": [
    "# DATA VISUALIZATION"
   ]
  },
  {
   "cell_type": "code",
   "execution_count": 33,
   "id": "c36c773f",
   "metadata": {},
   "outputs": [],
   "source": [
    "import matplotlib.pyplot as plt\n",
    "import seaborn as sns"
   ]
  },
  {
   "cell_type": "code",
   "execution_count": 34,
   "id": "be7b4300",
   "metadata": {},
   "outputs": [
    {
     "data": {
      "image/png": "[encoded data removed]",
      "text/plain": [
       "<Figure size 3600x10800 with 13 Axes>"
      ]
     },
     "metadata": {
      "needs_background": "light"
     },
     "output_type": "display_data"
    }
   ],
   "source": [
    "collist=df1.columns.values\n",
    "ncol=50\n",
    "nrows=40\n",
    "plt.figure(figsize=(ncol,3*ncol))\n",
    "for i in range(0,len(collist)):\n",
    "    plt.subplot(nrows,ncol,i+1) \n",
    "    sns.boxplot(df1[collist[i]],color='red')\n",
    "    plt.tight_layout()"
   ]
  },
  {
   "cell_type": "markdown",
   "id": "7781c3cf",
   "metadata": {},
   "source": [
    "The above gives a clear view of the variables's distribution"
   ]
  },
  {
   "cell_type": "code",
   "execution_count": 35,
   "id": "2d13dba9",
   "metadata": {},
   "outputs": [
    {
     "data": {
      "text/plain": [
       "Loan_ID                 AxesSubplot(0.125,0.536818;0.0945122x0.343182)\n",
       "Gender               AxesSubplot(0.238415,0.536818;0.0945122x0.343182)\n",
       "Married              AxesSubplot(0.351829,0.536818;0.0945122x0.343182)\n",
       "Dependents           AxesSubplot(0.465244,0.536818;0.0945122x0.343182)\n",
       "Education            AxesSubplot(0.578659,0.536818;0.0945122x0.343182)\n",
       "Self_Employed        AxesSubplot(0.692073,0.536818;0.0945122x0.343182)\n",
       "ApplicantIncome      AxesSubplot(0.805488,0.536818;0.0945122x0.343182)\n",
       "CoapplicantIncome          AxesSubplot(0.125,0.125;0.0945122x0.343182)\n",
       "LoanAmount              AxesSubplot(0.238415,0.125;0.0945122x0.343182)\n",
       "Loan_Amount_Term        AxesSubplot(0.351829,0.125;0.0945122x0.343182)\n",
       "Credit_History          AxesSubplot(0.465244,0.125;0.0945122x0.343182)\n",
       "Property_Area           AxesSubplot(0.578659,0.125;0.0945122x0.343182)\n",
       "Loan_Status             AxesSubplot(0.692073,0.125;0.0945122x0.343182)\n",
       "dtype: object"
      ]
     },
     "execution_count": 35,
     "metadata": {},
     "output_type": "execute_result"
    },
    {
     "data": {
      "image/png": "[encoded data removed]",
      "text/plain": [
       "<Figure size 432x288 with 14 Axes>"
      ]
     },
     "metadata": {
      "needs_background": "light"
     },
     "output_type": "display_data"
    }
   ],
   "source": [
    "df1.plot(kind='box',subplots=True,layout=(2,7))"
   ]
  },
  {
   "cell_type": "markdown",
   "id": "a275c559",
   "metadata": {},
   "source": [
    " The above indicates the outliers presence"
   ]
  },
  {
   "cell_type": "code",
   "execution_count": 36,
   "id": "819da585",
   "metadata": {},
   "outputs": [
    {
     "data": {
      "text/plain": [
       "<AxesSubplot:xlabel='Married', ylabel='Dependents'>"
      ]
     },
     "execution_count": 36,
     "metadata": {},
     "output_type": "execute_result"
    },
    {
     "data": {
      "image/png": "[encoded data removed]",
      "text/plain": [
       "<Figure size 432x288 with 1 Axes>"
      ]
     },
     "metadata": {
      "needs_background": "light"
     },
     "output_type": "display_data"
    }
   ],
   "source": [
    "sns.boxplot(data=df1,x='Married',y='Dependents')"
   ]
  },
  {
   "cell_type": "code",
   "execution_count": 37,
   "id": "69e3614b",
   "metadata": {},
   "outputs": [
    {
     "data": {
      "text/plain": [
       "<seaborn.axisgrid.JointGrid at 0x1f315258ee0>"
      ]
     },
     "execution_count": 37,
     "metadata": {},
     "output_type": "execute_result"
    },
    {
     "data": {
      "image/png": "[encoded data removed]",
      "text/plain": [
       "<Figure size 432x432 with 3 Axes>"
      ]
     },
     "metadata": {
      "needs_background": "light"
     },
     "output_type": "display_data"
    }
   ],
   "source": [
    "sns.jointplot(df1['ApplicantIncome'],df1['LoanAmount'])"
   ]
  },
  {
   "cell_type": "markdown",
   "id": "c8db61c3",
   "metadata": {},
   "source": [
    "The above two figures explains about comparison two different columns"
   ]
  },
  {
   "cell_type": "code",
   "execution_count": 38,
   "id": "b7a8bccc",
   "metadata": {},
   "outputs": [
    {
     "data": {
      "text/plain": [
       "<seaborn.axisgrid.FacetGrid at 0x1f31505c220>"
      ]
     },
     "execution_count": 38,
     "metadata": {},
     "output_type": "execute_result"
    },
    {
     "data": {
      "image/png": "[encoded data removed]",
      "text/plain": [
       "<Figure size 360x360 with 1 Axes>"
      ]
     },
     "metadata": {
      "needs_background": "light"
     },
     "output_type": "display_data"
    }
   ],
   "source": [
    "sns.catplot(data=df1,x='Loan_Status',kind='violin')"
   ]
  },
  {
   "cell_type": "markdown",
   "id": "ec9f8290",
   "metadata": {},
   "source": [
    "The above figure gives the distribution range  of Loan_Status"
   ]
  },
  {
   "cell_type": "code",
   "execution_count": 39,
   "id": "7b44fba4",
   "metadata": {},
   "outputs": [
    {
     "data": {
      "image/png": "[encoded data removed]",
      "text/plain": [
       "<Figure size 1296x864 with 20 Axes>"
      ]
     },
     "metadata": {
      "needs_background": "light"
     },
     "output_type": "display_data"
    }
   ],
   "source": [
    "df1.plot(figsize=(18,12),kind='density',subplots=True,layout=(2,10),legend=True,sharex=False ) \n",
    "plt.show()"
   ]
  },
  {
   "cell_type": "markdown",
   "id": "d4dbfea3",
   "metadata": {},
   "source": [
    "This picture explains the density of the columns"
   ]
  },
  {
   "cell_type": "code",
   "execution_count": 40,
   "id": "1a072d99",
   "metadata": {},
   "outputs": [
    {
     "data": {
      "text/plain": [
       "<AxesSubplot:ylabel='Count'>"
      ]
     },
     "execution_count": 40,
     "metadata": {},
     "output_type": "execute_result"
    },
    {
     "data": {
      "image/png": "[encoded data removed]",
      "text/plain": [
       "<Figure size 432x288 with 1 Axes>"
      ]
     },
     "metadata": {
      "needs_background": "light"
     },
     "output_type": "display_data"
    }
   ],
   "source": [
    "sns.histplot(data=df1,bins=10)"
   ]
  },
  {
   "cell_type": "markdown",
   "id": "93e69a8f",
   "metadata": {},
   "source": [
    "This graph explains the histogram distribution of the dataset"
   ]
  },
  {
   "cell_type": "markdown",
   "id": "c9edb724",
   "metadata": {},
   "source": [
    "# MORE EDA"
   ]
  },
  {
   "cell_type": "code",
   "execution_count": 41,
   "id": "abb26c9f",
   "metadata": {},
   "outputs": [
    {
     "data": {
      "text/html": [
       "<div>\n",
       "<style scoped>\n",
       "    .dataframe tbody tr th:only-of-type {\n",
       "        vertical-align: middle;\n",
       "    }\n",
       "\n",
       "    .dataframe tbody tr th {\n",
       "        vertical-align: top;\n",
       "    }\n",
       "\n",
       "    .dataframe thead th {\n",
       "        text-align: right;\n",
       "    }\n",
       "</style>\n",
       "<table border=\"1\" class=\"dataframe\">\n",
       "  <thead>\n",
       "    <tr style=\"text-align: right;\">\n",
       "      <th></th>\n",
       "      <th>Loan_ID</th>\n",
       "      <th>Gender</th>\n",
       "      <th>Married</th>\n",
       "      <th>Dependents</th>\n",
       "      <th>Education</th>\n",
       "      <th>Self_Employed</th>\n",
       "      <th>ApplicantIncome</th>\n",
       "      <th>CoapplicantIncome</th>\n",
       "      <th>LoanAmount</th>\n",
       "      <th>Loan_Amount_Term</th>\n",
       "      <th>Credit_History</th>\n",
       "      <th>Property_Area</th>\n",
       "      <th>Loan_Status</th>\n",
       "    </tr>\n",
       "  </thead>\n",
       "  <tbody>\n",
       "    <tr>\n",
       "      <th>count</th>\n",
       "      <td>614.000000</td>\n",
       "      <td>614.000000</td>\n",
       "      <td>614.000000</td>\n",
       "      <td>614.000000</td>\n",
       "      <td>614.000000</td>\n",
       "      <td>614.000000</td>\n",
       "      <td>614.000000</td>\n",
       "      <td>614.00000</td>\n",
       "      <td>614.000000</td>\n",
       "      <td>614.000000</td>\n",
       "      <td>614.000000</td>\n",
       "      <td>614.000000</td>\n",
       "      <td>614.000000</td>\n",
       "    </tr>\n",
       "    <tr>\n",
       "      <th>mean</th>\n",
       "      <td>306.500000</td>\n",
       "      <td>0.796417</td>\n",
       "      <td>0.648208</td>\n",
       "      <td>0.744300</td>\n",
       "      <td>0.218241</td>\n",
       "      <td>0.133550</td>\n",
       "      <td>5403.459283</td>\n",
       "      <td>1621.24430</td>\n",
       "      <td>146.397394</td>\n",
       "      <td>342.000000</td>\n",
       "      <td>0.773616</td>\n",
       "      <td>1.037459</td>\n",
       "      <td>0.687296</td>\n",
       "    </tr>\n",
       "    <tr>\n",
       "      <th>std</th>\n",
       "      <td>177.390811</td>\n",
       "      <td>0.402991</td>\n",
       "      <td>0.477919</td>\n",
       "      <td>1.009623</td>\n",
       "      <td>0.413389</td>\n",
       "      <td>0.340446</td>\n",
       "      <td>6109.041673</td>\n",
       "      <td>2926.24876</td>\n",
       "      <td>84.037503</td>\n",
       "      <td>64.372489</td>\n",
       "      <td>0.418832</td>\n",
       "      <td>0.787482</td>\n",
       "      <td>0.463973</td>\n",
       "    </tr>\n",
       "    <tr>\n",
       "      <th>min</th>\n",
       "      <td>0.000000</td>\n",
       "      <td>0.000000</td>\n",
       "      <td>0.000000</td>\n",
       "      <td>0.000000</td>\n",
       "      <td>0.000000</td>\n",
       "      <td>0.000000</td>\n",
       "      <td>150.000000</td>\n",
       "      <td>0.00000</td>\n",
       "      <td>9.000000</td>\n",
       "      <td>12.000000</td>\n",
       "      <td>0.000000</td>\n",
       "      <td>0.000000</td>\n",
       "      <td>0.000000</td>\n",
       "    </tr>\n",
       "    <tr>\n",
       "      <th>25%</th>\n",
       "      <td>153.250000</td>\n",
       "      <td>1.000000</td>\n",
       "      <td>0.000000</td>\n",
       "      <td>0.000000</td>\n",
       "      <td>0.000000</td>\n",
       "      <td>0.000000</td>\n",
       "      <td>2877.500000</td>\n",
       "      <td>0.00000</td>\n",
       "      <td>100.250000</td>\n",
       "      <td>360.000000</td>\n",
       "      <td>1.000000</td>\n",
       "      <td>0.000000</td>\n",
       "      <td>0.000000</td>\n",
       "    </tr>\n",
       "    <tr>\n",
       "      <th>50%</th>\n",
       "      <td>306.500000</td>\n",
       "      <td>1.000000</td>\n",
       "      <td>1.000000</td>\n",
       "      <td>0.000000</td>\n",
       "      <td>0.000000</td>\n",
       "      <td>0.000000</td>\n",
       "      <td>3812.500000</td>\n",
       "      <td>1188.50000</td>\n",
       "      <td>129.000000</td>\n",
       "      <td>360.000000</td>\n",
       "      <td>1.000000</td>\n",
       "      <td>1.000000</td>\n",
       "      <td>1.000000</td>\n",
       "    </tr>\n",
       "    <tr>\n",
       "      <th>75%</th>\n",
       "      <td>459.750000</td>\n",
       "      <td>1.000000</td>\n",
       "      <td>1.000000</td>\n",
       "      <td>1.000000</td>\n",
       "      <td>0.000000</td>\n",
       "      <td>0.000000</td>\n",
       "      <td>5795.000000</td>\n",
       "      <td>2297.25000</td>\n",
       "      <td>164.750000</td>\n",
       "      <td>360.000000</td>\n",
       "      <td>1.000000</td>\n",
       "      <td>2.000000</td>\n",
       "      <td>1.000000</td>\n",
       "    </tr>\n",
       "    <tr>\n",
       "      <th>max</th>\n",
       "      <td>613.000000</td>\n",
       "      <td>1.000000</td>\n",
       "      <td>1.000000</td>\n",
       "      <td>3.000000</td>\n",
       "      <td>1.000000</td>\n",
       "      <td>1.000000</td>\n",
       "      <td>81000.000000</td>\n",
       "      <td>41667.00000</td>\n",
       "      <td>700.000000</td>\n",
       "      <td>480.000000</td>\n",
       "      <td>1.000000</td>\n",
       "      <td>2.000000</td>\n",
       "      <td>1.000000</td>\n",
       "    </tr>\n",
       "  </tbody>\n",
       "</table>\n",
       "</div>"
      ],
      "text/plain": [
       "          Loan_ID      Gender     Married  Dependents   Education  \\\n",
       "count  614.000000  614.000000  614.000000  614.000000  614.000000   \n",
       "mean   306.500000    0.796417    0.648208    0.744300    0.218241   \n",
       "std    177.390811    0.402991    0.477919    1.009623    0.413389   \n",
       "min      0.000000    0.000000    0.000000    0.000000    0.000000   \n",
       "25%    153.250000    1.000000    0.000000    0.000000    0.000000   \n",
       "50%    306.500000    1.000000    1.000000    0.000000    0.000000   \n",
       "75%    459.750000    1.000000    1.000000    1.000000    0.000000   \n",
       "max    613.000000    1.000000    1.000000    3.000000    1.000000   \n",
       "\n",
       "       Self_Employed  ApplicantIncome  CoapplicantIncome  LoanAmount  \\\n",
       "count     614.000000       614.000000          614.00000  614.000000   \n",
       "mean        0.133550      5403.459283         1621.24430  146.397394   \n",
       "std         0.340446      6109.041673         2926.24876   84.037503   \n",
       "min         0.000000       150.000000            0.00000    9.000000   \n",
       "25%         0.000000      2877.500000            0.00000  100.250000   \n",
       "50%         0.000000      3812.500000         1188.50000  129.000000   \n",
       "75%         0.000000      5795.000000         2297.25000  164.750000   \n",
       "max         1.000000     81000.000000        41667.00000  700.000000   \n",
       "\n",
       "       Loan_Amount_Term  Credit_History  Property_Area  Loan_Status  \n",
       "count        614.000000      614.000000     614.000000   614.000000  \n",
       "mean         342.000000        0.773616       1.037459     0.687296  \n",
       "std           64.372489        0.418832       0.787482     0.463973  \n",
       "min           12.000000        0.000000       0.000000     0.000000  \n",
       "25%          360.000000        1.000000       0.000000     0.000000  \n",
       "50%          360.000000        1.000000       1.000000     1.000000  \n",
       "75%          360.000000        1.000000       2.000000     1.000000  \n",
       "max          480.000000        1.000000       2.000000     1.000000  "
      ]
     },
     "execution_count": 41,
     "metadata": {},
     "output_type": "execute_result"
    }
   ],
   "source": [
    "df1.describe()"
   ]
  },
  {
   "cell_type": "markdown",
   "id": "89989dba",
   "metadata": {},
   "source": [
    "OBSERVATION:\n",
    "    \n",
    "    1)GENDER,MARRIED,DEPENDANTS,LOAN_AMOUNT_TERM,CREDIT_HISTORY,PROPERTY_AREA,LOAN_STATUS HAVE MEAN LESSER THAN MEDIAN SO IT MAY HAVE RIGHT SKEWED DATA.\n",
    "    \n",
    "    2)EDUCATION,APPLICANTINCOME,COAPPLICANTINCOME,LOANAMOUNT SHOW MEAN MORE THAN  MEDIAN SO IT MAY HAVE LEFT SKEWED DATA.\n",
    "    \n",
    "    3)DEPENDANTS,APPLICANTINCOME,COAPPLICANTINCOME,LOANAMOUNT AND LOAN_AMOUNT_TERM SHOWS VAST DIFFERENCE BETWEEN 75 % AND MAX AND SO THEY MAY HAVE MANY OUTLIERS"
   ]
  },
  {
   "cell_type": "code",
   "execution_count": 42,
   "id": "c7b17854",
   "metadata": {},
   "outputs": [
    {
     "data": {
      "text/html": [
       "<div>\n",
       "<style scoped>\n",
       "    .dataframe tbody tr th:only-of-type {\n",
       "        vertical-align: middle;\n",
       "    }\n",
       "\n",
       "    .dataframe tbody tr th {\n",
       "        vertical-align: top;\n",
       "    }\n",
       "\n",
       "    .dataframe thead th {\n",
       "        text-align: right;\n",
       "    }\n",
       "</style>\n",
       "<table border=\"1\" class=\"dataframe\">\n",
       "  <thead>\n",
       "    <tr style=\"text-align: right;\">\n",
       "      <th></th>\n",
       "      <th>Loan_ID</th>\n",
       "      <th>Gender</th>\n",
       "      <th>Married</th>\n",
       "      <th>Dependents</th>\n",
       "      <th>Education</th>\n",
       "      <th>Self_Employed</th>\n",
       "      <th>ApplicantIncome</th>\n",
       "      <th>CoapplicantIncome</th>\n",
       "      <th>LoanAmount</th>\n",
       "      <th>Loan_Amount_Term</th>\n",
       "      <th>Credit_History</th>\n",
       "      <th>Property_Area</th>\n",
       "      <th>Loan_Status</th>\n",
       "    </tr>\n",
       "  </thead>\n",
       "  <tbody>\n",
       "    <tr>\n",
       "      <th>Loan_ID</th>\n",
       "      <td>1.000000</td>\n",
       "      <td>-0.046016</td>\n",
       "      <td>-0.013027</td>\n",
       "      <td>0.051559</td>\n",
       "      <td>0.039442</td>\n",
       "      <td>0.032874</td>\n",
       "      <td>0.016925</td>\n",
       "      <td>0.039211</td>\n",
       "      <td>0.035711</td>\n",
       "      <td>-0.028945</td>\n",
       "      <td>-0.034176</td>\n",
       "      <td>-0.155416</td>\n",
       "      <td>0.011773</td>\n",
       "    </tr>\n",
       "    <tr>\n",
       "      <th>Gender</th>\n",
       "      <td>-0.046016</td>\n",
       "      <td>1.000000</td>\n",
       "      <td>0.339026</td>\n",
       "      <td>0.148500</td>\n",
       "      <td>0.061497</td>\n",
       "      <td>-0.027421</td>\n",
       "      <td>0.013933</td>\n",
       "      <td>0.082316</td>\n",
       "      <td>0.064579</td>\n",
       "      <td>-0.070179</td>\n",
       "      <td>0.035780</td>\n",
       "      <td>-0.017054</td>\n",
       "      <td>0.025407</td>\n",
       "    </tr>\n",
       "    <tr>\n",
       "      <th>Married</th>\n",
       "      <td>-0.013027</td>\n",
       "      <td>0.339026</td>\n",
       "      <td>1.000000</td>\n",
       "      <td>0.340684</td>\n",
       "      <td>0.017671</td>\n",
       "      <td>0.008491</td>\n",
       "      <td>0.050194</td>\n",
       "      <td>0.080496</td>\n",
       "      <td>0.145647</td>\n",
       "      <td>-0.103400</td>\n",
       "      <td>-0.023626</td>\n",
       "      <td>0.000395</td>\n",
       "      <td>0.084281</td>\n",
       "    </tr>\n",
       "    <tr>\n",
       "      <th>Dependents</th>\n",
       "      <td>0.051559</td>\n",
       "      <td>0.148500</td>\n",
       "      <td>0.340684</td>\n",
       "      <td>1.000000</td>\n",
       "      <td>0.055752</td>\n",
       "      <td>0.056798</td>\n",
       "      <td>0.118202</td>\n",
       "      <td>0.030429</td>\n",
       "      <td>0.163108</td>\n",
       "      <td>-0.101054</td>\n",
       "      <td>-0.017523</td>\n",
       "      <td>-0.000244</td>\n",
       "      <td>0.010118</td>\n",
       "    </tr>\n",
       "    <tr>\n",
       "      <th>Education</th>\n",
       "      <td>0.039442</td>\n",
       "      <td>0.061497</td>\n",
       "      <td>0.017671</td>\n",
       "      <td>0.055752</td>\n",
       "      <td>1.000000</td>\n",
       "      <td>-0.010383</td>\n",
       "      <td>-0.140760</td>\n",
       "      <td>-0.062290</td>\n",
       "      <td>-0.167041</td>\n",
       "      <td>-0.077242</td>\n",
       "      <td>-0.081637</td>\n",
       "      <td>-0.065243</td>\n",
       "      <td>-0.085884</td>\n",
       "    </tr>\n",
       "    <tr>\n",
       "      <th>Self_Employed</th>\n",
       "      <td>0.032874</td>\n",
       "      <td>-0.027421</td>\n",
       "      <td>0.008491</td>\n",
       "      <td>0.056798</td>\n",
       "      <td>-0.010383</td>\n",
       "      <td>1.000000</td>\n",
       "      <td>0.127180</td>\n",
       "      <td>-0.016100</td>\n",
       "      <td>0.115259</td>\n",
       "      <td>-0.033943</td>\n",
       "      <td>-0.004994</td>\n",
       "      <td>-0.030860</td>\n",
       "      <td>-0.003700</td>\n",
       "    </tr>\n",
       "    <tr>\n",
       "      <th>ApplicantIncome</th>\n",
       "      <td>0.016925</td>\n",
       "      <td>0.013933</td>\n",
       "      <td>0.050194</td>\n",
       "      <td>0.118202</td>\n",
       "      <td>-0.140760</td>\n",
       "      <td>0.127180</td>\n",
       "      <td>1.000000</td>\n",
       "      <td>-0.116604</td>\n",
       "      <td>0.565621</td>\n",
       "      <td>-0.045242</td>\n",
       "      <td>0.006986</td>\n",
       "      <td>-0.009500</td>\n",
       "      <td>-0.004710</td>\n",
       "    </tr>\n",
       "    <tr>\n",
       "      <th>CoapplicantIncome</th>\n",
       "      <td>0.039211</td>\n",
       "      <td>0.082316</td>\n",
       "      <td>0.080496</td>\n",
       "      <td>0.030429</td>\n",
       "      <td>-0.062290</td>\n",
       "      <td>-0.016100</td>\n",
       "      <td>-0.116604</td>\n",
       "      <td>1.000000</td>\n",
       "      <td>0.187863</td>\n",
       "      <td>-0.059674</td>\n",
       "      <td>-0.058796</td>\n",
       "      <td>0.010521</td>\n",
       "      <td>-0.059188</td>\n",
       "    </tr>\n",
       "    <tr>\n",
       "      <th>LoanAmount</th>\n",
       "      <td>0.035711</td>\n",
       "      <td>0.064579</td>\n",
       "      <td>0.145647</td>\n",
       "      <td>0.163108</td>\n",
       "      <td>-0.167041</td>\n",
       "      <td>0.115259</td>\n",
       "      <td>0.565621</td>\n",
       "      <td>0.187863</td>\n",
       "      <td>1.000000</td>\n",
       "      <td>0.038812</td>\n",
       "      <td>-0.034518</td>\n",
       "      <td>-0.044818</td>\n",
       "      <td>-0.036345</td>\n",
       "    </tr>\n",
       "    <tr>\n",
       "      <th>Loan_Amount_Term</th>\n",
       "      <td>-0.028945</td>\n",
       "      <td>-0.070179</td>\n",
       "      <td>-0.103400</td>\n",
       "      <td>-0.101054</td>\n",
       "      <td>-0.077242</td>\n",
       "      <td>-0.033943</td>\n",
       "      <td>-0.045242</td>\n",
       "      <td>-0.059674</td>\n",
       "      <td>0.038812</td>\n",
       "      <td>1.000000</td>\n",
       "      <td>0.005446</td>\n",
       "      <td>-0.077620</td>\n",
       "      <td>-0.020974</td>\n",
       "    </tr>\n",
       "    <tr>\n",
       "      <th>Credit_History</th>\n",
       "      <td>-0.034176</td>\n",
       "      <td>0.035780</td>\n",
       "      <td>-0.023626</td>\n",
       "      <td>-0.017523</td>\n",
       "      <td>-0.081637</td>\n",
       "      <td>-0.004994</td>\n",
       "      <td>0.006986</td>\n",
       "      <td>-0.058796</td>\n",
       "      <td>-0.034518</td>\n",
       "      <td>0.005446</td>\n",
       "      <td>1.000000</td>\n",
       "      <td>-0.018761</td>\n",
       "      <td>0.432616</td>\n",
       "    </tr>\n",
       "    <tr>\n",
       "      <th>Property_Area</th>\n",
       "      <td>-0.155416</td>\n",
       "      <td>-0.017054</td>\n",
       "      <td>0.000395</td>\n",
       "      <td>-0.000244</td>\n",
       "      <td>-0.065243</td>\n",
       "      <td>-0.030860</td>\n",
       "      <td>-0.009500</td>\n",
       "      <td>0.010521</td>\n",
       "      <td>-0.044818</td>\n",
       "      <td>-0.077620</td>\n",
       "      <td>-0.018761</td>\n",
       "      <td>1.000000</td>\n",
       "      <td>0.032112</td>\n",
       "    </tr>\n",
       "    <tr>\n",
       "      <th>Loan_Status</th>\n",
       "      <td>0.011773</td>\n",
       "      <td>0.025407</td>\n",
       "      <td>0.084281</td>\n",
       "      <td>0.010118</td>\n",
       "      <td>-0.085884</td>\n",
       "      <td>-0.003700</td>\n",
       "      <td>-0.004710</td>\n",
       "      <td>-0.059188</td>\n",
       "      <td>-0.036345</td>\n",
       "      <td>-0.020974</td>\n",
       "      <td>0.432616</td>\n",
       "      <td>0.032112</td>\n",
       "      <td>1.000000</td>\n",
       "    </tr>\n",
       "  </tbody>\n",
       "</table>\n",
       "</div>"
      ],
      "text/plain": [
       "                    Loan_ID    Gender   Married  Dependents  Education  \\\n",
       "Loan_ID            1.000000 -0.046016 -0.013027    0.051559   0.039442   \n",
       "Gender            -0.046016  1.000000  0.339026    0.148500   0.061497   \n",
       "Married           -0.013027  0.339026  1.000000    0.340684   0.017671   \n",
       "Dependents         0.051559  0.148500  0.340684    1.000000   0.055752   \n",
       "Education          0.039442  0.061497  0.017671    0.055752   1.000000   \n",
       "Self_Employed      0.032874 -0.027421  0.008491    0.056798  -0.010383   \n",
       "ApplicantIncome    0.016925  0.013933  0.050194    0.118202  -0.140760   \n",
       "CoapplicantIncome  0.039211  0.082316  0.080496    0.030429  -0.062290   \n",
       "LoanAmount         0.035711  0.064579  0.145647    0.163108  -0.167041   \n",
       "Loan_Amount_Term  -0.028945 -0.070179 -0.103400   -0.101054  -0.077242   \n",
       "Credit_History    -0.034176  0.035780 -0.023626   -0.017523  -0.081637   \n",
       "Property_Area     -0.155416 -0.017054  0.000395   -0.000244  -0.065243   \n",
       "Loan_Status        0.011773  0.025407  0.084281    0.010118  -0.085884   \n",
       "\n",
       "                   Self_Employed  ApplicantIncome  CoapplicantIncome  \\\n",
       "Loan_ID                 0.032874         0.016925           0.039211   \n",
       "Gender                 -0.027421         0.013933           0.082316   \n",
       "Married                 0.008491         0.050194           0.080496   \n",
       "Dependents              0.056798         0.118202           0.030429   \n",
       "Education              -0.010383        -0.140760          -0.062290   \n",
       "Self_Employed           1.000000         0.127180          -0.016100   \n",
       "ApplicantIncome         0.127180         1.000000          -0.116604   \n",
       "CoapplicantIncome      -0.016100        -0.116604           1.000000   \n",
       "LoanAmount              0.115259         0.565621           0.187863   \n",
       "Loan_Amount_Term       -0.033943        -0.045242          -0.059674   \n",
       "Credit_History         -0.004994         0.006986          -0.058796   \n",
       "Property_Area          -0.030860        -0.009500           0.010521   \n",
       "Loan_Status            -0.003700        -0.004710          -0.059188   \n",
       "\n",
       "                   LoanAmount  Loan_Amount_Term  Credit_History  \\\n",
       "Loan_ID              0.035711         -0.028945       -0.034176   \n",
       "Gender               0.064579         -0.070179        0.035780   \n",
       "Married              0.145647         -0.103400       -0.023626   \n",
       "Dependents           0.163108         -0.101054       -0.017523   \n",
       "Education           -0.167041         -0.077242       -0.081637   \n",
       "Self_Employed        0.115259         -0.033943       -0.004994   \n",
       "ApplicantIncome      0.565621         -0.045242        0.006986   \n",
       "CoapplicantIncome    0.187863         -0.059674       -0.058796   \n",
       "LoanAmount           1.000000          0.038812       -0.034518   \n",
       "Loan_Amount_Term     0.038812          1.000000        0.005446   \n",
       "Credit_History      -0.034518          0.005446        1.000000   \n",
       "Property_Area       -0.044818         -0.077620       -0.018761   \n",
       "Loan_Status         -0.036345         -0.020974        0.432616   \n",
       "\n",
       "                   Property_Area  Loan_Status  \n",
       "Loan_ID                -0.155416     0.011773  \n",
       "Gender                 -0.017054     0.025407  \n",
       "Married                 0.000395     0.084281  \n",
       "Dependents             -0.000244     0.010118  \n",
       "Education              -0.065243    -0.085884  \n",
       "Self_Employed          -0.030860    -0.003700  \n",
       "ApplicantIncome        -0.009500    -0.004710  \n",
       "CoapplicantIncome       0.010521    -0.059188  \n",
       "LoanAmount             -0.044818    -0.036345  \n",
       "Loan_Amount_Term       -0.077620    -0.020974  \n",
       "Credit_History         -0.018761     0.432616  \n",
       "Property_Area           1.000000     0.032112  \n",
       "Loan_Status             0.032112     1.000000  "
      ]
     },
     "execution_count": 42,
     "metadata": {},
     "output_type": "execute_result"
    }
   ],
   "source": [
    "df1.corr()"
   ]
  },
  {
   "cell_type": "code",
   "execution_count": 43,
   "id": "d4f4159a",
   "metadata": {},
   "outputs": [
    {
     "data": {
      "image/png": "[encoded data removed]",
      "text/plain": [
       "<Figure size 1440x1440 with 2 Axes>"
      ]
     },
     "metadata": {
      "needs_background": "light"
     },
     "output_type": "display_data"
    }
   ],
   "source": [
    "plt.figure(figsize=(20,20))\n",
    "sns.heatmap(df1.corr(),annot=True)\n",
    "plt.show()"
   ]
  },
  {
   "cell_type": "markdown",
   "id": "79c1a7c1",
   "metadata": {},
   "source": [
    "WE FIND MANY COLUMNS ARE MULTICORRELATED "
   ]
  },
  {
   "cell_type": "code",
   "execution_count": 44,
   "id": "86231241",
   "metadata": {},
   "outputs": [
    {
     "data": {
      "text/plain": [
       "Loan_ID              0.000000\n",
       "Gender              -1.475893\n",
       "Married             -0.622252\n",
       "Dependents           1.015551\n",
       "Education            1.367622\n",
       "Self_Employed        2.159796\n",
       "ApplicantIncome      6.539513\n",
       "CoapplicantIncome    7.491530\n",
       "LoanAmount           2.727127\n",
       "Loan_Amount_Term    -2.389680\n",
       "Credit_History      -1.310835\n",
       "Property_Area       -0.066196\n",
       "Loan_Status         -0.809998\n",
       "dtype: float64"
      ]
     },
     "execution_count": 44,
     "metadata": {},
     "output_type": "execute_result"
    }
   ],
   "source": [
    "df1.skew()"
   ]
  },
  {
   "cell_type": "markdown",
   "id": "7ec809f0",
   "metadata": {},
   "source": [
    "# REMOVING OUTLIERS AND SKEW"
   ]
  },
  {
   "cell_type": "code",
   "execution_count": 45,
   "id": "9fa2fd52",
   "metadata": {},
   "outputs": [],
   "source": [
    "from scipy.stats import zscore\n",
    "z=np.abs(zscore(df1))"
   ]
  },
  {
   "cell_type": "code",
   "execution_count": 46,
   "id": "ab1a9a3e",
   "metadata": {},
   "outputs": [
    {
     "data": {
      "text/html": [
       "<div>\n",
       "<style scoped>\n",
       "    .dataframe tbody tr th:only-of-type {\n",
       "        vertical-align: middle;\n",
       "    }\n",
       "\n",
       "    .dataframe tbody tr th {\n",
       "        vertical-align: top;\n",
       "    }\n",
       "\n",
       "    .dataframe thead th {\n",
       "        text-align: right;\n",
       "    }\n",
       "</style>\n",
       "<table border=\"1\" class=\"dataframe\">\n",
       "  <thead>\n",
       "    <tr style=\"text-align: right;\">\n",
       "      <th></th>\n",
       "      <th>Loan_ID</th>\n",
       "      <th>Gender</th>\n",
       "      <th>Married</th>\n",
       "      <th>Dependents</th>\n",
       "      <th>Education</th>\n",
       "      <th>Self_Employed</th>\n",
       "      <th>ApplicantIncome</th>\n",
       "      <th>CoapplicantIncome</th>\n",
       "      <th>LoanAmount</th>\n",
       "      <th>Loan_Amount_Term</th>\n",
       "      <th>Credit_History</th>\n",
       "      <th>Property_Area</th>\n",
       "      <th>Loan_Status</th>\n",
       "    </tr>\n",
       "  </thead>\n",
       "  <tbody>\n",
       "    <tr>\n",
       "      <th>0</th>\n",
       "      <td>0</td>\n",
       "      <td>1</td>\n",
       "      <td>0</td>\n",
       "      <td>0</td>\n",
       "      <td>0</td>\n",
       "      <td>0</td>\n",
       "      <td>5849</td>\n",
       "      <td>0</td>\n",
       "      <td>146</td>\n",
       "      <td>360</td>\n",
       "      <td>1</td>\n",
       "      <td>2</td>\n",
       "      <td>1</td>\n",
       "    </tr>\n",
       "    <tr>\n",
       "      <th>1</th>\n",
       "      <td>1</td>\n",
       "      <td>1</td>\n",
       "      <td>1</td>\n",
       "      <td>1</td>\n",
       "      <td>0</td>\n",
       "      <td>0</td>\n",
       "      <td>4583</td>\n",
       "      <td>1508</td>\n",
       "      <td>128</td>\n",
       "      <td>360</td>\n",
       "      <td>1</td>\n",
       "      <td>0</td>\n",
       "      <td>0</td>\n",
       "    </tr>\n",
       "    <tr>\n",
       "      <th>2</th>\n",
       "      <td>2</td>\n",
       "      <td>1</td>\n",
       "      <td>1</td>\n",
       "      <td>0</td>\n",
       "      <td>0</td>\n",
       "      <td>1</td>\n",
       "      <td>3000</td>\n",
       "      <td>0</td>\n",
       "      <td>66</td>\n",
       "      <td>360</td>\n",
       "      <td>1</td>\n",
       "      <td>2</td>\n",
       "      <td>1</td>\n",
       "    </tr>\n",
       "    <tr>\n",
       "      <th>3</th>\n",
       "      <td>3</td>\n",
       "      <td>1</td>\n",
       "      <td>1</td>\n",
       "      <td>0</td>\n",
       "      <td>1</td>\n",
       "      <td>0</td>\n",
       "      <td>2583</td>\n",
       "      <td>2358</td>\n",
       "      <td>120</td>\n",
       "      <td>360</td>\n",
       "      <td>1</td>\n",
       "      <td>2</td>\n",
       "      <td>1</td>\n",
       "    </tr>\n",
       "    <tr>\n",
       "      <th>4</th>\n",
       "      <td>4</td>\n",
       "      <td>1</td>\n",
       "      <td>0</td>\n",
       "      <td>0</td>\n",
       "      <td>0</td>\n",
       "      <td>0</td>\n",
       "      <td>6000</td>\n",
       "      <td>0</td>\n",
       "      <td>141</td>\n",
       "      <td>360</td>\n",
       "      <td>1</td>\n",
       "      <td>2</td>\n",
       "      <td>1</td>\n",
       "    </tr>\n",
       "  </tbody>\n",
       "</table>\n",
       "</div>"
      ],
      "text/plain": [
       "   Loan_ID  Gender  Married  Dependents  Education  Self_Employed  \\\n",
       "0        0       1        0           0          0              0   \n",
       "1        1       1        1           1          0              0   \n",
       "2        2       1        1           0          0              1   \n",
       "3        3       1        1           0          1              0   \n",
       "4        4       1        0           0          0              0   \n",
       "\n",
       "   ApplicantIncome  CoapplicantIncome  LoanAmount  Loan_Amount_Term  \\\n",
       "0             5849                  0         146               360   \n",
       "1             4583               1508         128               360   \n",
       "2             3000                  0          66               360   \n",
       "3             2583               2358         120               360   \n",
       "4             6000                  0         141               360   \n",
       "\n",
       "   Credit_History  Property_Area  Loan_Status  \n",
       "0               1              2            1  \n",
       "1               1              0            0  \n",
       "2               1              2            1  \n",
       "3               1              2            1  \n",
       "4               1              2            1  "
      ]
     },
     "execution_count": 46,
     "metadata": {},
     "output_type": "execute_result"
    }
   ],
   "source": [
    "dfnew=df1[(z<3).all(axis=1)]\n",
    "dfnew.head()"
   ]
  },
  {
   "cell_type": "code",
   "execution_count": 47,
   "id": "61acb0b9",
   "metadata": {},
   "outputs": [
    {
     "data": {
      "text/plain": [
       "Loan_ID              0.010879\n",
       "Gender              -1.469056\n",
       "Married             -0.606316\n",
       "Dependents           1.052106\n",
       "Education            1.306588\n",
       "Self_Employed        2.252848\n",
       "ApplicantIncome      2.148522\n",
       "CoapplicantIncome    1.350518\n",
       "LoanAmount           1.114116\n",
       "Loan_Amount_Term    -2.077031\n",
       "Credit_History      -1.306588\n",
       "Property_Area       -0.055332\n",
       "Loan_Status         -0.822635\n",
       "dtype: float64"
      ]
     },
     "execution_count": 47,
     "metadata": {},
     "output_type": "execute_result"
    }
   ],
   "source": [
    "dfnew.skew()"
   ]
  },
  {
   "cell_type": "markdown",
   "id": "32fd66fd",
   "metadata": {},
   "source": [
    "# SPLITTING X AND Y "
   ]
  },
  {
   "cell_type": "code",
   "execution_count": 48,
   "id": "d8f3eea1",
   "metadata": {},
   "outputs": [],
   "source": [
    "x=dfnew.drop('Loan_Status',axis=1)\n",
    "y=dfnew['Loan_Status']"
   ]
  },
  {
   "cell_type": "code",
   "execution_count": 49,
   "id": "a5fcb0fe",
   "metadata": {},
   "outputs": [
    {
     "data": {
      "text/plain": [
       "(577, 12)"
      ]
     },
     "execution_count": 49,
     "metadata": {},
     "output_type": "execute_result"
    }
   ],
   "source": [
    "x.shape"
   ]
  },
  {
   "cell_type": "code",
   "execution_count": 50,
   "id": "91504ed4",
   "metadata": {},
   "outputs": [
    {
     "data": {
      "text/plain": [
       "(577,)"
      ]
     },
     "execution_count": 50,
     "metadata": {},
     "output_type": "execute_result"
    }
   ],
   "source": [
    "y.shape"
   ]
  },
  {
   "cell_type": "markdown",
   "id": "ff5f697b",
   "metadata": {},
   "source": [
    "# WORKING ON MULTICOLLINEARITY"
   ]
  },
  {
   "cell_type": "code",
   "execution_count": 51,
   "id": "09ee65c1",
   "metadata": {},
   "outputs": [],
   "source": [
    "from statsmodels.stats.outliers_influence import variance_inflation_factor "
   ]
  },
  {
   "cell_type": "code",
   "execution_count": 52,
   "id": "87f4dde5",
   "metadata": {},
   "outputs": [],
   "source": [
    "def vif_calc():\n",
    "    vif=pd.DataFrame() \n",
    "    vif['VIF Factor']=[variance_inflation_factor(x.values,i)for i in range(x.shape[1])]\n",
    "    vif['FEATURES']=x.columns\n",
    "    print(vif)"
   ]
  },
  {
   "cell_type": "code",
   "execution_count": 53,
   "id": "7c33bb32",
   "metadata": {},
   "outputs": [
    {
     "name": "stdout",
     "output_type": "stream",
     "text": [
      "    VIF Factor           FEATURES\n",
      "0     3.856704            Loan_ID\n",
      "1     5.598598             Gender\n",
      "2     3.715525            Married\n",
      "3     1.801459         Dependents\n",
      "4     1.340113          Education\n",
      "5     1.230043      Self_Employed\n",
      "6     5.509963    ApplicantIncome\n",
      "7     2.494850  CoapplicantIncome\n",
      "8    11.375356         LoanAmount\n",
      "9    13.827342   Loan_Amount_Term\n",
      "10    4.272435     Credit_History\n",
      "11    2.628581      Property_Area\n"
     ]
    }
   ],
   "source": [
    "vif_calc()"
   ]
  },
  {
   "cell_type": "markdown",
   "id": "68a830e3",
   "metadata": {},
   "source": [
    "# BALANCING X AND Y"
   ]
  },
  {
   "cell_type": "code",
   "execution_count": 54,
   "id": "bbb994e4",
   "metadata": {},
   "outputs": [],
   "source": [
    "from sklearn.preprocessing import power_transform"
   ]
  },
  {
   "cell_type": "code",
   "execution_count": 55,
   "id": "b259ea45",
   "metadata": {},
   "outputs": [
    {
     "data": {
      "text/html": [
       "<div>\n",
       "<style scoped>\n",
       "    .dataframe tbody tr th:only-of-type {\n",
       "        vertical-align: middle;\n",
       "    }\n",
       "\n",
       "    .dataframe tbody tr th {\n",
       "        vertical-align: top;\n",
       "    }\n",
       "\n",
       "    .dataframe thead th {\n",
       "        text-align: right;\n",
       "    }\n",
       "</style>\n",
       "<table border=\"1\" class=\"dataframe\">\n",
       "  <thead>\n",
       "    <tr style=\"text-align: right;\">\n",
       "      <th></th>\n",
       "      <th>Loan_ID</th>\n",
       "      <th>Gender</th>\n",
       "      <th>Married</th>\n",
       "      <th>Dependents</th>\n",
       "      <th>Education</th>\n",
       "      <th>Self_Employed</th>\n",
       "      <th>ApplicantIncome</th>\n",
       "      <th>CoapplicantIncome</th>\n",
       "      <th>LoanAmount</th>\n",
       "      <th>Loan_Amount_Term</th>\n",
       "      <th>Credit_History</th>\n",
       "      <th>Property_Area</th>\n",
       "    </tr>\n",
       "  </thead>\n",
       "  <tbody>\n",
       "    <tr>\n",
       "      <th>0</th>\n",
       "      <td>-2.159166</td>\n",
       "      <td>0.507031</td>\n",
       "      <td>-1.347084</td>\n",
       "      <td>-0.809243</td>\n",
       "      <td>-0.541961</td>\n",
       "      <td>-0.380580</td>\n",
       "      <td>0.681780</td>\n",
       "      <td>-1.122441</td>\n",
       "      <td>0.309321</td>\n",
       "      <td>0.142609</td>\n",
       "      <td>0.541961</td>\n",
       "      <td>1.194806</td>\n",
       "    </tr>\n",
       "    <tr>\n",
       "      <th>1</th>\n",
       "      <td>-2.133423</td>\n",
       "      <td>0.507031</td>\n",
       "      <td>0.742344</td>\n",
       "      <td>0.902869</td>\n",
       "      <td>-0.541961</td>\n",
       "      <td>-0.380580</td>\n",
       "      <td>0.234783</td>\n",
       "      <td>0.744121</td>\n",
       "      <td>-0.015522</td>\n",
       "      <td>0.142609</td>\n",
       "      <td>0.541961</td>\n",
       "      <td>-1.340199</td>\n",
       "    </tr>\n",
       "    <tr>\n",
       "      <th>2</th>\n",
       "      <td>-2.111392</td>\n",
       "      <td>0.507031</td>\n",
       "      <td>0.742344</td>\n",
       "      <td>-0.809243</td>\n",
       "      <td>-0.541961</td>\n",
       "      <td>2.627567</td>\n",
       "      <td>-0.527201</td>\n",
       "      <td>-1.122441</td>\n",
       "      <td>-1.443042</td>\n",
       "      <td>0.142609</td>\n",
       "      <td>0.541961</td>\n",
       "      <td>1.194806</td>\n",
       "    </tr>\n",
       "    <tr>\n",
       "      <th>3</th>\n",
       "      <td>-2.091472</td>\n",
       "      <td>0.507031</td>\n",
       "      <td>0.742344</td>\n",
       "      <td>-0.809243</td>\n",
       "      <td>1.845150</td>\n",
       "      <td>-0.380580</td>\n",
       "      <td>-0.791972</td>\n",
       "      <td>0.895789</td>\n",
       "      <td>-0.169525</td>\n",
       "      <td>0.142609</td>\n",
       "      <td>0.541961</td>\n",
       "      <td>1.194806</td>\n",
       "    </tr>\n",
       "    <tr>\n",
       "      <th>4</th>\n",
       "      <td>-2.072986</td>\n",
       "      <td>0.507031</td>\n",
       "      <td>-1.347084</td>\n",
       "      <td>-0.809243</td>\n",
       "      <td>-0.541961</td>\n",
       "      <td>-0.380580</td>\n",
       "      <td>0.728848</td>\n",
       "      <td>-1.122441</td>\n",
       "      <td>0.221843</td>\n",
       "      <td>0.142609</td>\n",
       "      <td>0.541961</td>\n",
       "      <td>1.194806</td>\n",
       "    </tr>\n",
       "  </tbody>\n",
       "</table>\n",
       "</div>"
      ],
      "text/plain": [
       "    Loan_ID    Gender   Married  Dependents  Education  Self_Employed  \\\n",
       "0 -2.159166  0.507031 -1.347084   -0.809243  -0.541961      -0.380580   \n",
       "1 -2.133423  0.507031  0.742344    0.902869  -0.541961      -0.380580   \n",
       "2 -2.111392  0.507031  0.742344   -0.809243  -0.541961       2.627567   \n",
       "3 -2.091472  0.507031  0.742344   -0.809243   1.845150      -0.380580   \n",
       "4 -2.072986  0.507031 -1.347084   -0.809243  -0.541961      -0.380580   \n",
       "\n",
       "   ApplicantIncome  CoapplicantIncome  LoanAmount  Loan_Amount_Term  \\\n",
       "0         0.681780          -1.122441    0.309321          0.142609   \n",
       "1         0.234783           0.744121   -0.015522          0.142609   \n",
       "2        -0.527201          -1.122441   -1.443042          0.142609   \n",
       "3        -0.791972           0.895789   -0.169525          0.142609   \n",
       "4         0.728848          -1.122441    0.221843          0.142609   \n",
       "\n",
       "   Credit_History  Property_Area  \n",
       "0        0.541961       1.194806  \n",
       "1        0.541961      -1.340199  \n",
       "2        0.541961       1.194806  \n",
       "3        0.541961       1.194806  \n",
       "4        0.541961       1.194806  "
      ]
     },
     "execution_count": 55,
     "metadata": {},
     "output_type": "execute_result"
    }
   ],
   "source": [
    "newx=power_transform(x)\n",
    "dfx=pd.DataFrame(data=newx,columns=x.columns)\n",
    "dfx.head()"
   ]
  },
  {
   "cell_type": "code",
   "execution_count": 56,
   "id": "bb2b8fdb",
   "metadata": {},
   "outputs": [
    {
     "data": {
      "text/plain": [
       "(577, 12)"
      ]
     },
     "execution_count": 56,
     "metadata": {},
     "output_type": "execute_result"
    }
   ],
   "source": [
    "dfx.shape"
   ]
  },
  {
   "cell_type": "code",
   "execution_count": 57,
   "id": "7bdafedc",
   "metadata": {},
   "outputs": [
    {
     "data": {
      "text/plain": [
       "1    398\n",
       "0    179\n",
       "Name: Loan_Status, dtype: int64"
      ]
     },
     "execution_count": 57,
     "metadata": {},
     "output_type": "execute_result"
    }
   ],
   "source": [
    "y.value_counts()"
   ]
  },
  {
   "cell_type": "code",
   "execution_count": 58,
   "id": "1049f5e2",
   "metadata": {},
   "outputs": [
    {
     "data": {
      "text/plain": [
       "<AxesSubplot:xlabel='Loan_Status', ylabel='count'>"
      ]
     },
     "execution_count": 58,
     "metadata": {},
     "output_type": "execute_result"
    },
    {
     "data": {
      "image/png": "[encoded data removed]",
      "text/plain": [
       "<Figure size 432x288 with 1 Axes>"
      ]
     },
     "metadata": {
      "needs_background": "light"
     },
     "output_type": "display_data"
    }
   ],
   "source": [
    "sns.countplot(y)"
   ]
  },
  {
   "cell_type": "code",
   "execution_count": 59,
   "id": "933c317e",
   "metadata": {},
   "outputs": [],
   "source": [
    "from imblearn.over_sampling import SMOTE\n",
    "smt=SMOTE()\n",
    "xnew,ynew=smt.fit_resample(dfx,y)"
   ]
  },
  {
   "cell_type": "code",
   "execution_count": 60,
   "id": "0b3e7051",
   "metadata": {},
   "outputs": [
    {
     "data": {
      "text/plain": [
       "1    398\n",
       "0    398\n",
       "Name: Loan_Status, dtype: int64"
      ]
     },
     "execution_count": 60,
     "metadata": {},
     "output_type": "execute_result"
    }
   ],
   "source": [
    "ynew.value_counts()"
   ]
  },
  {
   "cell_type": "code",
   "execution_count": 61,
   "id": "c80d3dba",
   "metadata": {},
   "outputs": [
    {
     "data": {
      "text/plain": [
       "<AxesSubplot:xlabel='Loan_Status', ylabel='count'>"
      ]
     },
     "execution_count": 61,
     "metadata": {},
     "output_type": "execute_result"
    },
    {
     "data": {
      "image/png": "[encoded data removed]",
      "text/plain": [
       "<Figure size 432x288 with 1 Axes>"
      ]
     },
     "metadata": {
      "needs_background": "light"
     },
     "output_type": "display_data"
    }
   ],
   "source": [
    "sns.countplot(ynew)"
   ]
  },
  {
   "cell_type": "markdown",
   "id": "17e6859f",
   "metadata": {},
   "source": [
    "# TRAINING AND TESTING"
   ]
  },
  {
   "cell_type": "code",
   "execution_count": 62,
   "id": "34a81c04",
   "metadata": {},
   "outputs": [],
   "source": [
    "from sklearn.model_selection import train_test_split\n",
    "from sklearn.linear_model import LogisticRegression\n",
    "lr=LogisticRegression()\n",
    "from sklearn.metrics import accuracy_score,confusion_matrix,classification_report"
   ]
  },
  {
   "cell_type": "code",
   "execution_count": 63,
   "id": "ad608eab",
   "metadata": {},
   "outputs": [
    {
     "name": "stdout",
     "output_type": "stream",
     "text": [
      "Accuracy_score of LogisticRegression  0.6875 at random_state  0\n",
      "Mac acc score of lr  68.75 at random_state  0\n",
      "Accuracy_score of LogisticRegression  0.71875 at random_state  1\n",
      "Mac acc score of lr  71.875 at random_state  1\n",
      "Accuracy_score of LogisticRegression  0.71875 at random_state  2\n",
      "Mac acc score of lr  71.875 at random_state  1\n",
      "Accuracy_score of LogisticRegression  0.73125 at random_state  3\n",
      "Mac acc score of lr  73.125 at random_state  3\n",
      "Accuracy_score of LogisticRegression  0.6375 at random_state  4\n",
      "Mac acc score of lr  73.125 at random_state  3\n",
      "Accuracy_score of LogisticRegression  0.70625 at random_state  5\n",
      "Mac acc score of lr  73.125 at random_state  3\n",
      "Accuracy_score of LogisticRegression  0.74375 at random_state  6\n",
      "Mac acc score of lr  74.375 at random_state  6\n",
      "Accuracy_score of LogisticRegression  0.725 at random_state  7\n",
      "Mac acc score of lr  74.375 at random_state  6\n",
      "Accuracy_score of LogisticRegression  0.7125 at random_state  8\n",
      "Mac acc score of lr  74.375 at random_state  6\n",
      "Accuracy_score of LogisticRegression  0.775 at random_state  9\n",
      "Mac acc score of lr  77.5 at random_state  9\n",
      "Accuracy_score of LogisticRegression  0.775 at random_state  10\n",
      "Mac acc score of lr  77.5 at random_state  9\n",
      "Accuracy_score of LogisticRegression  0.66875 at random_state  11\n",
      "Mac acc score of lr  77.5 at random_state  9\n",
      "Accuracy_score of LogisticRegression  0.775 at random_state  12\n",
      "Mac acc score of lr  77.5 at random_state  9\n",
      "Accuracy_score of LogisticRegression  0.7875 at random_state  13\n",
      "Mac acc score of lr  78.75 at random_state  13\n",
      "Accuracy_score of LogisticRegression  0.74375 at random_state  14\n",
      "Mac acc score of lr  78.75 at random_state  13\n",
      "Accuracy_score of LogisticRegression  0.71875 at random_state  15\n",
      "Mac acc score of lr  78.75 at random_state  13\n",
      "Accuracy_score of LogisticRegression  0.725 at random_state  16\n",
      "Mac acc score of lr  78.75 at random_state  13\n",
      "Accuracy_score of LogisticRegression  0.6625 at random_state  17\n",
      "Mac acc score of lr  78.75 at random_state  13\n",
      "Accuracy_score of LogisticRegression  0.70625 at random_state  18\n",
      "Mac acc score of lr  78.75 at random_state  13\n",
      "Accuracy_score of LogisticRegression  0.69375 at random_state  19\n",
      "Mac acc score of lr  78.75 at random_state  13\n",
      "Accuracy_score of LogisticRegression  0.71875 at random_state  20\n",
      "Mac acc score of lr  78.75 at random_state  13\n",
      "Accuracy_score of LogisticRegression  0.75625 at random_state  21\n",
      "Mac acc score of lr  78.75 at random_state  13\n",
      "Accuracy_score of LogisticRegression  0.69375 at random_state  22\n",
      "Mac acc score of lr  78.75 at random_state  13\n",
      "Accuracy_score of LogisticRegression  0.6875 at random_state  23\n",
      "Mac acc score of lr  78.75 at random_state  13\n",
      "Accuracy_score of LogisticRegression  0.7125 at random_state  24\n",
      "Mac acc score of lr  78.75 at random_state  13\n",
      "Accuracy_score of LogisticRegression  0.70625 at random_state  25\n",
      "Mac acc score of lr  78.75 at random_state  13\n",
      "Accuracy_score of LogisticRegression  0.675 at random_state  26\n",
      "Mac acc score of lr  78.75 at random_state  13\n",
      "Accuracy_score of LogisticRegression  0.70625 at random_state  27\n",
      "Mac acc score of lr  78.75 at random_state  13\n",
      "Accuracy_score of LogisticRegression  0.71875 at random_state  28\n",
      "Mac acc score of lr  78.75 at random_state  13\n",
      "Accuracy_score of LogisticRegression  0.74375 at random_state  29\n",
      "Mac acc score of lr  78.75 at random_state  13\n",
      "Accuracy_score of LogisticRegression  0.6625 at random_state  30\n",
      "Mac acc score of lr  78.75 at random_state  13\n",
      "Accuracy_score of LogisticRegression  0.675 at random_state  31\n",
      "Mac acc score of lr  78.75 at random_state  13\n",
      "Accuracy_score of LogisticRegression  0.71875 at random_state  32\n",
      "Mac acc score of lr  78.75 at random_state  13\n",
      "Accuracy_score of LogisticRegression  0.6875 at random_state  33\n",
      "Mac acc score of lr  78.75 at random_state  13\n",
      "Accuracy_score of LogisticRegression  0.68125 at random_state  34\n",
      "Mac acc score of lr  78.75 at random_state  13\n",
      "Accuracy_score of LogisticRegression  0.6375 at random_state  35\n",
      "Mac acc score of lr  78.75 at random_state  13\n",
      "Accuracy_score of LogisticRegression  0.75 at random_state  36\n",
      "Mac acc score of lr  78.75 at random_state  13\n",
      "Accuracy_score of LogisticRegression  0.6625 at random_state  37\n",
      "Mac acc score of lr  78.75 at random_state  13\n",
      "Accuracy_score of LogisticRegression  0.75625 at random_state  38\n",
      "Mac acc score of lr  78.75 at random_state  13\n",
      "Accuracy_score of LogisticRegression  0.7 at random_state  39\n",
      "Mac acc score of lr  78.75 at random_state  13\n",
      "Accuracy_score of LogisticRegression  0.7125 at random_state  40\n",
      "Mac acc score of lr  78.75 at random_state  13\n",
      "Accuracy_score of LogisticRegression  0.68125 at random_state  41\n",
      "Mac acc score of lr  78.75 at random_state  13\n",
      "Accuracy_score of LogisticRegression  0.69375 at random_state  42\n",
      "Mac acc score of lr  78.75 at random_state  13\n",
      "Accuracy_score of LogisticRegression  0.725 at random_state  43\n",
      "Mac acc score of lr  78.75 at random_state  13\n",
      "Accuracy_score of LogisticRegression  0.7 at random_state  44\n",
      "Mac acc score of lr  78.75 at random_state  13\n",
      "Accuracy_score of LogisticRegression  0.7125 at random_state  45\n",
      "Mac acc score of lr  78.75 at random_state  13\n",
      "Accuracy_score of LogisticRegression  0.75 at random_state  46\n",
      "Mac acc score of lr  78.75 at random_state  13\n",
      "Accuracy_score of LogisticRegression  0.69375 at random_state  47\n",
      "Mac acc score of lr  78.75 at random_state  13\n",
      "Accuracy_score of LogisticRegression  0.6875 at random_state  48\n",
      "Mac acc score of lr  78.75 at random_state  13\n",
      "Accuracy_score of LogisticRegression  0.7 at random_state  49\n",
      "Mac acc score of lr  78.75 at random_state  13\n",
      "Accuracy_score of LogisticRegression  0.73125 at random_state  50\n",
      "Mac acc score of lr  78.75 at random_state  13\n",
      "Accuracy_score of LogisticRegression  0.725 at random_state  51\n",
      "Mac acc score of lr  78.75 at random_state  13\n",
      "Accuracy_score of LogisticRegression  0.71875 at random_state  52\n",
      "Mac acc score of lr  78.75 at random_state  13\n",
      "Accuracy_score of LogisticRegression  0.70625 at random_state  53\n",
      "Mac acc score of lr  78.75 at random_state  13\n",
      "Accuracy_score of LogisticRegression  0.725 at random_state  54\n",
      "Mac acc score of lr  78.75 at random_state  13\n",
      "Accuracy_score of LogisticRegression  0.71875 at random_state  55\n",
      "Mac acc score of lr  78.75 at random_state  13\n",
      "Accuracy_score of LogisticRegression  0.7125 at random_state  56\n",
      "Mac acc score of lr  78.75 at random_state  13\n",
      "Accuracy_score of LogisticRegression  0.73125 at random_state  57\n",
      "Mac acc score of lr  78.75 at random_state  13\n",
      "Accuracy_score of LogisticRegression  0.66875 at random_state  58\n",
      "Mac acc score of lr  78.75 at random_state  13\n",
      "Accuracy_score of LogisticRegression  0.7 at random_state  59\n",
      "Mac acc score of lr  78.75 at random_state  13\n",
      "Accuracy_score of LogisticRegression  0.69375 at random_state  60\n",
      "Mac acc score of lr  78.75 at random_state  13\n",
      "Accuracy_score of LogisticRegression  0.7 at random_state  61\n",
      "Mac acc score of lr  78.75 at random_state  13\n",
      "Accuracy_score of LogisticRegression  0.69375 at random_state  62\n",
      "Mac acc score of lr  78.75 at random_state  13\n",
      "Accuracy_score of LogisticRegression  0.69375 at random_state  63\n",
      "Mac acc score of lr  78.75 at random_state  13\n",
      "Accuracy_score of LogisticRegression  0.61875 at random_state  64\n",
      "Mac acc score of lr  78.75 at random_state  13\n",
      "Accuracy_score of LogisticRegression  0.70625 at random_state  65\n",
      "Mac acc score of lr  78.75 at random_state  13\n",
      "Accuracy_score of LogisticRegression  0.725 at random_state  66\n",
      "Mac acc score of lr  78.75 at random_state  13\n",
      "Accuracy_score of LogisticRegression  0.71875 at random_state  67\n",
      "Mac acc score of lr  78.75 at random_state  13\n",
      "Accuracy_score of LogisticRegression  0.74375 at random_state  68\n",
      "Mac acc score of lr  78.75 at random_state  13\n",
      "Accuracy_score of LogisticRegression  0.71875 at random_state  69\n",
      "Mac acc score of lr  78.75 at random_state  13\n",
      "Accuracy_score of LogisticRegression  0.725 at random_state  70\n",
      "Mac acc score of lr  78.75 at random_state  13\n",
      "Accuracy_score of LogisticRegression  0.76875 at random_state  71\n",
      "Mac acc score of lr  78.75 at random_state  13\n",
      "Accuracy_score of LogisticRegression  0.7125 at random_state  72\n",
      "Mac acc score of lr  78.75 at random_state  13\n",
      "Accuracy_score of LogisticRegression  0.74375 at random_state  73\n",
      "Mac acc score of lr  78.75 at random_state  13\n",
      "Accuracy_score of LogisticRegression  0.69375 at random_state  74\n",
      "Mac acc score of lr  78.75 at random_state  13\n",
      "Accuracy_score of LogisticRegression  0.76875 at random_state  75\n",
      "Mac acc score of lr  78.75 at random_state  13\n",
      "Accuracy_score of LogisticRegression  0.68125 at random_state  76\n",
      "Mac acc score of lr  78.75 at random_state  13\n",
      "Accuracy_score of LogisticRegression  0.75625 at random_state  77\n",
      "Mac acc score of lr  78.75 at random_state  13\n",
      "Accuracy_score of LogisticRegression  0.80625 at random_state  78\n",
      "Mac acc score of lr  80.625 at random_state  78\n",
      "Accuracy_score of LogisticRegression  0.70625 at random_state  79\n",
      "Mac acc score of lr  80.625 at random_state  78\n",
      "Accuracy_score of LogisticRegression  0.7375 at random_state  80\n",
      "Mac acc score of lr  80.625 at random_state  78\n",
      "Accuracy_score of LogisticRegression  0.7125 at random_state  81\n",
      "Mac acc score of lr  80.625 at random_state  78\n",
      "Accuracy_score of LogisticRegression  0.725 at random_state  82\n",
      "Mac acc score of lr  80.625 at random_state  78\n",
      "Accuracy_score of LogisticRegression  0.69375 at random_state  83\n",
      "Mac acc score of lr  80.625 at random_state  78\n",
      "Accuracy_score of LogisticRegression  0.70625 at random_state  84\n",
      "Mac acc score of lr  80.625 at random_state  78\n",
      "Accuracy_score of LogisticRegression  0.6125 at random_state  85\n",
      "Mac acc score of lr  80.625 at random_state  78\n",
      "Accuracy_score of LogisticRegression  0.75 at random_state  86\n",
      "Mac acc score of lr  80.625 at random_state  78\n",
      "Accuracy_score of LogisticRegression  0.76875 at random_state  87\n",
      "Mac acc score of lr  80.625 at random_state  78\n",
      "Accuracy_score of LogisticRegression  0.71875 at random_state  88\n",
      "Mac acc score of lr  80.625 at random_state  78\n",
      "Accuracy_score of LogisticRegression  0.6625 at random_state  89\n",
      "Mac acc score of lr  80.625 at random_state  78\n",
      "Accuracy_score of LogisticRegression  0.70625 at random_state  90\n",
      "Mac acc score of lr  80.625 at random_state  78\n",
      "Accuracy_score of LogisticRegression  0.7625 at random_state  91\n",
      "Mac acc score of lr  80.625 at random_state  78\n",
      "Accuracy_score of LogisticRegression  0.75625 at random_state  92\n",
      "Mac acc score of lr  80.625 at random_state  78\n",
      "Accuracy_score of LogisticRegression  0.775 at random_state  93\n",
      "Mac acc score of lr  80.625 at random_state  78\n",
      "Accuracy_score of LogisticRegression  0.73125 at random_state  94\n",
      "Mac acc score of lr  80.625 at random_state  78\n",
      "Accuracy_score of LogisticRegression  0.66875 at random_state  95\n",
      "Mac acc score of lr  80.625 at random_state  78\n",
      "Accuracy_score of LogisticRegression  0.725 at random_state  96\n",
      "Mac acc score of lr  80.625 at random_state  78\n",
      "Accuracy_score of LogisticRegression  0.7125 at random_state  97\n",
      "Mac acc score of lr  80.625 at random_state  78\n",
      "Accuracy_score of LogisticRegression  0.70625 at random_state  98\n",
      "Mac acc score of lr  80.625 at random_state  78\n",
      "Accuracy_score of LogisticRegression  0.69375 at random_state  99\n",
      "Mac acc score of lr  80.625 at random_state  78\n",
      "Accuracy_score of LogisticRegression  0.675 at random_state  100\n",
      "Mac acc score of lr  80.625 at random_state  78\n",
      "Accuracy_score of LogisticRegression  0.64375 at random_state  101\n",
      "Mac acc score of lr  80.625 at random_state  78\n",
      "Accuracy_score of LogisticRegression  0.69375 at random_state  102\n",
      "Mac acc score of lr  80.625 at random_state  78\n",
      "Accuracy_score of LogisticRegression  0.74375 at random_state  103\n",
      "Mac acc score of lr  80.625 at random_state  78\n",
      "Accuracy_score of LogisticRegression  0.7 at random_state  104\n",
      "Mac acc score of lr  80.625 at random_state  78\n",
      "Accuracy_score of LogisticRegression  0.775 at random_state  105\n",
      "Mac acc score of lr  80.625 at random_state  78\n",
      "Accuracy_score of LogisticRegression  0.66875 at random_state  106\n",
      "Mac acc score of lr  80.625 at random_state  78\n",
      "Accuracy_score of LogisticRegression  0.66875 at random_state  107\n",
      "Mac acc score of lr  80.625 at random_state  78\n",
      "Accuracy_score of LogisticRegression  0.725 at random_state  108\n",
      "Mac acc score of lr  80.625 at random_state  78\n",
      "Accuracy_score of LogisticRegression  0.66875 at random_state  109\n",
      "Mac acc score of lr  80.625 at random_state  78\n",
      "Accuracy_score of LogisticRegression  0.6875 at random_state  110\n",
      "Mac acc score of lr  80.625 at random_state  78\n",
      "Accuracy_score of LogisticRegression  0.75 at random_state  111\n",
      "Mac acc score of lr  80.625 at random_state  78\n",
      "Accuracy_score of LogisticRegression  0.775 at random_state  112\n",
      "Mac acc score of lr  80.625 at random_state  78\n",
      "Accuracy_score of LogisticRegression  0.75625 at random_state  113\n",
      "Mac acc score of lr  80.625 at random_state  78\n",
      "Accuracy_score of LogisticRegression  0.69375 at random_state  114\n",
      "Mac acc score of lr  80.625 at random_state  78\n",
      "Accuracy_score of LogisticRegression  0.75 at random_state  115\n",
      "Mac acc score of lr  80.625 at random_state  78\n",
      "Accuracy_score of LogisticRegression  0.69375 at random_state  116\n",
      "Mac acc score of lr  80.625 at random_state  78\n",
      "Accuracy_score of LogisticRegression  0.71875 at random_state  117\n",
      "Mac acc score of lr  80.625 at random_state  78\n",
      "Accuracy_score of LogisticRegression  0.6875 at random_state  118\n",
      "Mac acc score of lr  80.625 at random_state  78\n",
      "Accuracy_score of LogisticRegression  0.6875 at random_state  119\n",
      "Mac acc score of lr  80.625 at random_state  78\n",
      "Accuracy_score of LogisticRegression  0.725 at random_state  120\n",
      "Mac acc score of lr  80.625 at random_state  78\n",
      "Accuracy_score of LogisticRegression  0.74375 at random_state  121\n",
      "Mac acc score of lr  80.625 at random_state  78\n",
      "Accuracy_score of LogisticRegression  0.74375 at random_state  122\n",
      "Mac acc score of lr  80.625 at random_state  78\n",
      "Accuracy_score of LogisticRegression  0.7 at random_state  123\n",
      "Mac acc score of lr  80.625 at random_state  78\n",
      "Accuracy_score of LogisticRegression  0.75625 at random_state  124\n",
      "Mac acc score of lr  80.625 at random_state  78\n",
      "Accuracy_score of LogisticRegression  0.71875 at random_state  125\n",
      "Mac acc score of lr  80.625 at random_state  78\n",
      "Accuracy_score of LogisticRegression  0.70625 at random_state  126\n",
      "Mac acc score of lr  80.625 at random_state  78\n",
      "Accuracy_score of LogisticRegression  0.68125 at random_state  127\n",
      "Mac acc score of lr  80.625 at random_state  78\n",
      "Accuracy_score of LogisticRegression  0.70625 at random_state  128\n",
      "Mac acc score of lr  80.625 at random_state  78\n",
      "Accuracy_score of LogisticRegression  0.775 at random_state  129\n",
      "Mac acc score of lr  80.625 at random_state  78\n",
      "Accuracy_score of LogisticRegression  0.6875 at random_state  130\n",
      "Mac acc score of lr  80.625 at random_state  78\n",
      "Accuracy_score of LogisticRegression  0.68125 at random_state  131\n",
      "Mac acc score of lr  80.625 at random_state  78\n",
      "Accuracy_score of LogisticRegression  0.7125 at random_state  132\n",
      "Mac acc score of lr  80.625 at random_state  78\n",
      "Accuracy_score of LogisticRegression  0.7 at random_state  133\n",
      "Mac acc score of lr  80.625 at random_state  78\n",
      "Accuracy_score of LogisticRegression  0.725 at random_state  134\n",
      "Mac acc score of lr  80.625 at random_state  78\n",
      "Accuracy_score of LogisticRegression  0.725 at random_state  135\n",
      "Mac acc score of lr  80.625 at random_state  78\n",
      "Accuracy_score of LogisticRegression  0.70625 at random_state  136\n",
      "Mac acc score of lr  80.625 at random_state  78\n",
      "Accuracy_score of LogisticRegression  0.7625 at random_state  137\n",
      "Mac acc score of lr  80.625 at random_state  78\n",
      "Accuracy_score of LogisticRegression  0.725 at random_state  138\n",
      "Mac acc score of lr  80.625 at random_state  78\n",
      "Accuracy_score of LogisticRegression  0.66875 at random_state  139\n",
      "Mac acc score of lr  80.625 at random_state  78\n",
      "Accuracy_score of LogisticRegression  0.675 at random_state  140\n",
      "Mac acc score of lr  80.625 at random_state  78\n",
      "Accuracy_score of LogisticRegression  0.74375 at random_state  141\n",
      "Mac acc score of lr  80.625 at random_state  78\n",
      "Accuracy_score of LogisticRegression  0.71875 at random_state  142\n",
      "Mac acc score of lr  80.625 at random_state  78\n",
      "Accuracy_score of LogisticRegression  0.73125 at random_state  143\n",
      "Mac acc score of lr  80.625 at random_state  78\n",
      "Accuracy_score of LogisticRegression  0.675 at random_state  144\n",
      "Mac acc score of lr  80.625 at random_state  78\n",
      "Accuracy_score of LogisticRegression  0.70625 at random_state  145\n",
      "Mac acc score of lr  80.625 at random_state  78\n",
      "Accuracy_score of LogisticRegression  0.71875 at random_state  146\n",
      "Mac acc score of lr  80.625 at random_state  78\n",
      "Accuracy_score of LogisticRegression  0.75 at random_state  147\n",
      "Mac acc score of lr  80.625 at random_state  78\n",
      "Accuracy_score of LogisticRegression  0.71875 at random_state  148\n",
      "Mac acc score of lr  80.625 at random_state  78\n",
      "Accuracy_score of LogisticRegression  0.725 at random_state  149\n",
      "Mac acc score of lr  80.625 at random_state  78\n",
      "Accuracy_score of LogisticRegression  0.7875 at random_state  150\n",
      "Mac acc score of lr  80.625 at random_state  78\n",
      "Accuracy_score of LogisticRegression  0.78125 at random_state  151\n",
      "Mac acc score of lr  80.625 at random_state  78\n",
      "Accuracy_score of LogisticRegression  0.70625 at random_state  152\n",
      "Mac acc score of lr  80.625 at random_state  78\n",
      "Accuracy_score of LogisticRegression  0.7375 at random_state  153\n",
      "Mac acc score of lr  80.625 at random_state  78\n",
      "Accuracy_score of LogisticRegression  0.69375 at random_state  154\n",
      "Mac acc score of lr  80.625 at random_state  78\n",
      "Accuracy_score of LogisticRegression  0.7 at random_state  155\n",
      "Mac acc score of lr  80.625 at random_state  78\n",
      "Accuracy_score of LogisticRegression  0.675 at random_state  156\n",
      "Mac acc score of lr  80.625 at random_state  78\n",
      "Accuracy_score of LogisticRegression  0.6875 at random_state  157\n",
      "Mac acc score of lr  80.625 at random_state  78\n",
      "Accuracy_score of LogisticRegression  0.75625 at random_state  158\n",
      "Mac acc score of lr  80.625 at random_state  78\n",
      "Accuracy_score of LogisticRegression  0.725 at random_state  159\n",
      "Mac acc score of lr  80.625 at random_state  78\n",
      "Accuracy_score of LogisticRegression  0.70625 at random_state  160\n",
      "Mac acc score of lr  80.625 at random_state  78\n",
      "Accuracy_score of LogisticRegression  0.71875 at random_state  161\n",
      "Mac acc score of lr  80.625 at random_state  78\n",
      "Accuracy_score of LogisticRegression  0.70625 at random_state  162\n",
      "Mac acc score of lr  80.625 at random_state  78\n",
      "Accuracy_score of LogisticRegression  0.725 at random_state  163\n",
      "Mac acc score of lr  80.625 at random_state  78\n",
      "Accuracy_score of LogisticRegression  0.7 at random_state  164\n",
      "Mac acc score of lr  80.625 at random_state  78\n",
      "Accuracy_score of LogisticRegression  0.79375 at random_state  165\n",
      "Mac acc score of lr  80.625 at random_state  78\n",
      "Accuracy_score of LogisticRegression  0.73125 at random_state  166\n",
      "Mac acc score of lr  80.625 at random_state  78\n",
      "Accuracy_score of LogisticRegression  0.71875 at random_state  167\n",
      "Mac acc score of lr  80.625 at random_state  78\n",
      "Accuracy_score of LogisticRegression  0.75625 at random_state  168\n",
      "Mac acc score of lr  80.625 at random_state  78\n",
      "Accuracy_score of LogisticRegression  0.70625 at random_state  169\n",
      "Mac acc score of lr  80.625 at random_state  78\n",
      "Accuracy_score of LogisticRegression  0.70625 at random_state  170\n",
      "Mac acc score of lr  80.625 at random_state  78\n",
      "Accuracy_score of LogisticRegression  0.6875 at random_state  171\n",
      "Mac acc score of lr  80.625 at random_state  78\n",
      "Accuracy_score of LogisticRegression  0.725 at random_state  172\n",
      "Mac acc score of lr  80.625 at random_state  78\n",
      "Accuracy_score of LogisticRegression  0.75 at random_state  173\n",
      "Mac acc score of lr  80.625 at random_state  78\n",
      "Accuracy_score of LogisticRegression  0.6875 at random_state  174\n",
      "Mac acc score of lr  80.625 at random_state  78\n",
      "Accuracy_score of LogisticRegression  0.64375 at random_state  175\n",
      "Mac acc score of lr  80.625 at random_state  78\n",
      "Accuracy_score of LogisticRegression  0.70625 at random_state  176\n",
      "Mac acc score of lr  80.625 at random_state  78\n",
      "Accuracy_score of LogisticRegression  0.73125 at random_state  177\n",
      "Mac acc score of lr  80.625 at random_state  78\n",
      "Accuracy_score of LogisticRegression  0.71875 at random_state  178\n",
      "Mac acc score of lr  80.625 at random_state  78\n",
      "Accuracy_score of LogisticRegression  0.69375 at random_state  179\n",
      "Mac acc score of lr  80.625 at random_state  78\n",
      "Accuracy_score of LogisticRegression  0.73125 at random_state  180\n",
      "Mac acc score of lr  80.625 at random_state  78\n",
      "Accuracy_score of LogisticRegression  0.7375 at random_state  181\n",
      "Mac acc score of lr  80.625 at random_state  78\n",
      "Accuracy_score of LogisticRegression  0.725 at random_state  182\n",
      "Mac acc score of lr  80.625 at random_state  78\n",
      "Accuracy_score of LogisticRegression  0.7 at random_state  183\n",
      "Mac acc score of lr  80.625 at random_state  78\n",
      "Accuracy_score of LogisticRegression  0.70625 at random_state  184\n",
      "Mac acc score of lr  80.625 at random_state  78\n",
      "Accuracy_score of LogisticRegression  0.7125 at random_state  185\n",
      "Mac acc score of lr  80.625 at random_state  78\n",
      "Accuracy_score of LogisticRegression  0.64375 at random_state  186\n",
      "Mac acc score of lr  80.625 at random_state  78\n",
      "Accuracy_score of LogisticRegression  0.69375 at random_state  187\n",
      "Mac acc score of lr  80.625 at random_state  78\n",
      "Accuracy_score of LogisticRegression  0.71875 at random_state  188\n",
      "Mac acc score of lr  80.625 at random_state  78\n",
      "Accuracy_score of LogisticRegression  0.71875 at random_state  189\n",
      "Mac acc score of lr  80.625 at random_state  78\n",
      "Accuracy_score of LogisticRegression  0.75 at random_state  190\n",
      "Mac acc score of lr  80.625 at random_state  78\n",
      "Accuracy_score of LogisticRegression  0.7 at random_state  191\n",
      "Mac acc score of lr  80.625 at random_state  78\n",
      "Accuracy_score of LogisticRegression  0.73125 at random_state  192\n",
      "Mac acc score of lr  80.625 at random_state  78\n",
      "Accuracy_score of LogisticRegression  0.70625 at random_state  193\n",
      "Mac acc score of lr  80.625 at random_state  78\n",
      "Accuracy_score of LogisticRegression  0.68125 at random_state  194\n",
      "Mac acc score of lr  80.625 at random_state  78\n",
      "Accuracy_score of LogisticRegression  0.7125 at random_state  195\n",
      "Mac acc score of lr  80.625 at random_state  78\n",
      "Accuracy_score of LogisticRegression  0.7375 at random_state  196\n",
      "Mac acc score of lr  80.625 at random_state  78\n",
      "Accuracy_score of LogisticRegression  0.7125 at random_state  197\n",
      "Mac acc score of lr  80.625 at random_state  78\n",
      "Accuracy_score of LogisticRegression  0.675 at random_state  198\n",
      "Mac acc score of lr  80.625 at random_state  78\n",
      "Accuracy_score of LogisticRegression  0.70625 at random_state  199\n",
      "Mac acc score of lr  80.625 at random_state  78\n",
      "Accuracy_score of LogisticRegression  0.6875 at random_state  200\n",
      "Mac acc score of lr  80.625 at random_state  78\n",
      "Accuracy_score of LogisticRegression  0.7125 at random_state  201\n",
      "Mac acc score of lr  80.625 at random_state  78\n",
      "Accuracy_score of LogisticRegression  0.6875 at random_state  202\n",
      "Mac acc score of lr  80.625 at random_state  78\n",
      "Accuracy_score of LogisticRegression  0.73125 at random_state  203\n",
      "Mac acc score of lr  80.625 at random_state  78\n",
      "Accuracy_score of LogisticRegression  0.76875 at random_state  204\n",
      "Mac acc score of lr  80.625 at random_state  78\n",
      "Accuracy_score of LogisticRegression  0.725 at random_state  205\n",
      "Mac acc score of lr  80.625 at random_state  78\n",
      "Accuracy_score of LogisticRegression  0.7125 at random_state  206\n",
      "Mac acc score of lr  80.625 at random_state  78\n",
      "Accuracy_score of LogisticRegression  0.775 at random_state  207\n",
      "Mac acc score of lr  80.625 at random_state  78\n",
      "Accuracy_score of LogisticRegression  0.6625 at random_state  208\n",
      "Mac acc score of lr  80.625 at random_state  78\n",
      "Accuracy_score of LogisticRegression  0.7125 at random_state  209\n",
      "Mac acc score of lr  80.625 at random_state  78\n",
      "Accuracy_score of LogisticRegression  0.6625 at random_state  210\n",
      "Mac acc score of lr  80.625 at random_state  78\n",
      "Accuracy_score of LogisticRegression  0.69375 at random_state  211\n",
      "Mac acc score of lr  80.625 at random_state  78\n",
      "Accuracy_score of LogisticRegression  0.69375 at random_state  212\n",
      "Mac acc score of lr  80.625 at random_state  78\n",
      "Accuracy_score of LogisticRegression  0.76875 at random_state  213\n",
      "Mac acc score of lr  80.625 at random_state  78\n",
      "Accuracy_score of LogisticRegression  0.69375 at random_state  214\n",
      "Mac acc score of lr  80.625 at random_state  78\n",
      "Accuracy_score of LogisticRegression  0.7375 at random_state  215\n",
      "Mac acc score of lr  80.625 at random_state  78\n",
      "Accuracy_score of LogisticRegression  0.69375 at random_state  216\n",
      "Mac acc score of lr  80.625 at random_state  78\n",
      "Accuracy_score of LogisticRegression  0.70625 at random_state  217\n",
      "Mac acc score of lr  80.625 at random_state  78\n",
      "Accuracy_score of LogisticRegression  0.7625 at random_state  218\n",
      "Mac acc score of lr  80.625 at random_state  78\n",
      "Accuracy_score of LogisticRegression  0.74375 at random_state  219\n",
      "Mac acc score of lr  80.625 at random_state  78\n",
      "Accuracy_score of LogisticRegression  0.74375 at random_state  220\n",
      "Mac acc score of lr  80.625 at random_state  78\n",
      "Accuracy_score of LogisticRegression  0.75 at random_state  221\n",
      "Mac acc score of lr  80.625 at random_state  78\n",
      "Accuracy_score of LogisticRegression  0.675 at random_state  222\n",
      "Mac acc score of lr  80.625 at random_state  78\n",
      "Accuracy_score of LogisticRegression  0.69375 at random_state  223\n",
      "Mac acc score of lr  80.625 at random_state  78\n",
      "Accuracy_score of LogisticRegression  0.73125 at random_state  224\n",
      "Mac acc score of lr  80.625 at random_state  78\n",
      "Accuracy_score of LogisticRegression  0.7 at random_state  225\n",
      "Mac acc score of lr  80.625 at random_state  78\n",
      "Accuracy_score of LogisticRegression  0.73125 at random_state  226\n",
      "Mac acc score of lr  80.625 at random_state  78\n",
      "Accuracy_score of LogisticRegression  0.71875 at random_state  227\n",
      "Mac acc score of lr  80.625 at random_state  78\n",
      "Accuracy_score of LogisticRegression  0.7 at random_state  228\n",
      "Mac acc score of lr  80.625 at random_state  78\n",
      "Accuracy_score of LogisticRegression  0.73125 at random_state  229\n",
      "Mac acc score of lr  80.625 at random_state  78\n",
      "Accuracy_score of LogisticRegression  0.7375 at random_state  230\n",
      "Mac acc score of lr  80.625 at random_state  78\n",
      "Accuracy_score of LogisticRegression  0.75 at random_state  231\n",
      "Mac acc score of lr  80.625 at random_state  78\n",
      "Accuracy_score of LogisticRegression  0.71875 at random_state  232\n",
      "Mac acc score of lr  80.625 at random_state  78\n",
      "Accuracy_score of LogisticRegression  0.6875 at random_state  233\n",
      "Mac acc score of lr  80.625 at random_state  78\n",
      "Accuracy_score of LogisticRegression  0.7125 at random_state  234\n",
      "Mac acc score of lr  80.625 at random_state  78\n",
      "Accuracy_score of LogisticRegression  0.74375 at random_state  235\n",
      "Mac acc score of lr  80.625 at random_state  78\n",
      "Accuracy_score of LogisticRegression  0.71875 at random_state  236\n",
      "Mac acc score of lr  80.625 at random_state  78\n",
      "Accuracy_score of LogisticRegression  0.7125 at random_state  237\n",
      "Mac acc score of lr  80.625 at random_state  78\n",
      "Accuracy_score of LogisticRegression  0.7625 at random_state  238\n",
      "Mac acc score of lr  80.625 at random_state  78\n",
      "Accuracy_score of LogisticRegression  0.76875 at random_state  239\n",
      "Mac acc score of lr  80.625 at random_state  78\n",
      "Accuracy_score of LogisticRegression  0.66875 at random_state  240\n",
      "Mac acc score of lr  80.625 at random_state  78\n",
      "Accuracy_score of LogisticRegression  0.70625 at random_state  241\n",
      "Mac acc score of lr  80.625 at random_state  78\n",
      "Accuracy_score of LogisticRegression  0.7125 at random_state  242\n",
      "Mac acc score of lr  80.625 at random_state  78\n",
      "Accuracy_score of LogisticRegression  0.70625 at random_state  243\n",
      "Mac acc score of lr  80.625 at random_state  78\n",
      "Accuracy_score of LogisticRegression  0.7 at random_state  244\n",
      "Mac acc score of lr  80.625 at random_state  78\n",
      "Accuracy_score of LogisticRegression  0.78125 at random_state  245\n",
      "Mac acc score of lr  80.625 at random_state  78\n",
      "Accuracy_score of LogisticRegression  0.66875 at random_state  246\n",
      "Mac acc score of lr  80.625 at random_state  78\n",
      "Accuracy_score of LogisticRegression  0.73125 at random_state  247\n",
      "Mac acc score of lr  80.625 at random_state  78\n",
      "Accuracy_score of LogisticRegression  0.73125 at random_state  248\n",
      "Mac acc score of lr  80.625 at random_state  78\n",
      "Accuracy_score of LogisticRegression  0.725 at random_state  249\n",
      "Mac acc score of lr  80.625 at random_state  78\n",
      "Accuracy_score of LogisticRegression  0.7375 at random_state  250\n",
      "Mac acc score of lr  80.625 at random_state  78\n",
      "Accuracy_score of LogisticRegression  0.74375 at random_state  251\n",
      "Mac acc score of lr  80.625 at random_state  78\n",
      "Accuracy_score of LogisticRegression  0.8 at random_state  252\n",
      "Mac acc score of lr  80.625 at random_state  78\n",
      "Accuracy_score of LogisticRegression  0.725 at random_state  253\n",
      "Mac acc score of lr  80.625 at random_state  78\n",
      "Accuracy_score of LogisticRegression  0.71875 at random_state  254\n",
      "Mac acc score of lr  80.625 at random_state  78\n",
      "Accuracy_score of LogisticRegression  0.74375 at random_state  255\n",
      "Mac acc score of lr  80.625 at random_state  78\n",
      "Accuracy_score of LogisticRegression  0.78125 at random_state  256\n",
      "Mac acc score of lr  80.625 at random_state  78\n",
      "Accuracy_score of LogisticRegression  0.7875 at random_state  257\n",
      "Mac acc score of lr  80.625 at random_state  78\n",
      "Accuracy_score of LogisticRegression  0.6875 at random_state  258\n",
      "Mac acc score of lr  80.625 at random_state  78\n",
      "Accuracy_score of LogisticRegression  0.725 at random_state  259\n",
      "Mac acc score of lr  80.625 at random_state  78\n",
      "Accuracy_score of LogisticRegression  0.7125 at random_state  260\n",
      "Mac acc score of lr  80.625 at random_state  78\n",
      "Accuracy_score of LogisticRegression  0.8 at random_state  261\n",
      "Mac acc score of lr  80.625 at random_state  78\n",
      "Accuracy_score of LogisticRegression  0.7375 at random_state  262\n",
      "Mac acc score of lr  80.625 at random_state  78\n",
      "Accuracy_score of LogisticRegression  0.7375 at random_state  263\n",
      "Mac acc score of lr  80.625 at random_state  78\n",
      "Accuracy_score of LogisticRegression  0.6625 at random_state  264\n",
      "Mac acc score of lr  80.625 at random_state  78\n",
      "Accuracy_score of LogisticRegression  0.7125 at random_state  265\n",
      "Mac acc score of lr  80.625 at random_state  78\n",
      "Accuracy_score of LogisticRegression  0.7 at random_state  266\n",
      "Mac acc score of lr  80.625 at random_state  78\n",
      "Accuracy_score of LogisticRegression  0.6625 at random_state  267\n",
      "Mac acc score of lr  80.625 at random_state  78\n",
      "Accuracy_score of LogisticRegression  0.71875 at random_state  268\n",
      "Mac acc score of lr  80.625 at random_state  78\n",
      "Accuracy_score of LogisticRegression  0.7 at random_state  269\n",
      "Mac acc score of lr  80.625 at random_state  78\n",
      "Accuracy_score of LogisticRegression  0.6875 at random_state  270\n",
      "Mac acc score of lr  80.625 at random_state  78\n",
      "Accuracy_score of LogisticRegression  0.68125 at random_state  271\n",
      "Mac acc score of lr  80.625 at random_state  78\n",
      "Accuracy_score of LogisticRegression  0.725 at random_state  272\n",
      "Mac acc score of lr  80.625 at random_state  78\n",
      "Accuracy_score of LogisticRegression  0.725 at random_state  273\n",
      "Mac acc score of lr  80.625 at random_state  78\n",
      "Accuracy_score of LogisticRegression  0.7875 at random_state  274\n",
      "Mac acc score of lr  80.625 at random_state  78\n",
      "Accuracy_score of LogisticRegression  0.675 at random_state  275\n",
      "Mac acc score of lr  80.625 at random_state  78\n",
      "Accuracy_score of LogisticRegression  0.74375 at random_state  276\n",
      "Mac acc score of lr  80.625 at random_state  78\n",
      "Accuracy_score of LogisticRegression  0.73125 at random_state  277\n",
      "Mac acc score of lr  80.625 at random_state  78\n",
      "Accuracy_score of LogisticRegression  0.75625 at random_state  278\n",
      "Mac acc score of lr  80.625 at random_state  78\n",
      "Accuracy_score of LogisticRegression  0.7625 at random_state  279\n",
      "Mac acc score of lr  80.625 at random_state  78\n",
      "Accuracy_score of LogisticRegression  0.70625 at random_state  280\n",
      "Mac acc score of lr  80.625 at random_state  78\n",
      "Accuracy_score of LogisticRegression  0.7 at random_state  281\n",
      "Mac acc score of lr  80.625 at random_state  78\n",
      "Accuracy_score of LogisticRegression  0.68125 at random_state  282\n",
      "Mac acc score of lr  80.625 at random_state  78\n",
      "Accuracy_score of LogisticRegression  0.675 at random_state  283\n",
      "Mac acc score of lr  80.625 at random_state  78\n",
      "Accuracy_score of LogisticRegression  0.7125 at random_state  284\n",
      "Mac acc score of lr  80.625 at random_state  78\n",
      "Accuracy_score of LogisticRegression  0.69375 at random_state  285\n",
      "Mac acc score of lr  80.625 at random_state  78\n",
      "Accuracy_score of LogisticRegression  0.66875 at random_state  286\n",
      "Mac acc score of lr  80.625 at random_state  78\n",
      "Accuracy_score of LogisticRegression  0.68125 at random_state  287\n",
      "Mac acc score of lr  80.625 at random_state  78\n",
      "Accuracy_score of LogisticRegression  0.74375 at random_state  288\n",
      "Mac acc score of lr  80.625 at random_state  78\n",
      "Accuracy_score of LogisticRegression  0.70625 at random_state  289\n",
      "Mac acc score of lr  80.625 at random_state  78\n",
      "Accuracy_score of LogisticRegression  0.7625 at random_state  290\n",
      "Mac acc score of lr  80.625 at random_state  78\n",
      "Accuracy_score of LogisticRegression  0.725 at random_state  291\n",
      "Mac acc score of lr  80.625 at random_state  78\n",
      "Accuracy_score of LogisticRegression  0.6625 at random_state  292\n",
      "Mac acc score of lr  80.625 at random_state  78\n",
      "Accuracy_score of LogisticRegression  0.73125 at random_state  293\n",
      "Mac acc score of lr  80.625 at random_state  78\n",
      "Accuracy_score of LogisticRegression  0.6875 at random_state  294\n",
      "Mac acc score of lr  80.625 at random_state  78\n",
      "Accuracy_score of LogisticRegression  0.7125 at random_state  295\n",
      "Mac acc score of lr  80.625 at random_state  78\n",
      "Accuracy_score of LogisticRegression  0.70625 at random_state  296\n",
      "Mac acc score of lr  80.625 at random_state  78\n",
      "Accuracy_score of LogisticRegression  0.74375 at random_state  297\n",
      "Mac acc score of lr  80.625 at random_state  78\n",
      "Accuracy_score of LogisticRegression  0.7375 at random_state  298\n",
      "Mac acc score of lr  80.625 at random_state  78\n",
      "Accuracy_score of LogisticRegression  0.73125 at random_state  299\n",
      "Mac acc score of lr  80.625 at random_state  78\n",
      "Accuracy_score of LogisticRegression  0.70625 at random_state  300\n",
      "Mac acc score of lr  80.625 at random_state  78\n",
      "Accuracy_score of LogisticRegression  0.7375 at random_state  301\n",
      "Mac acc score of lr  80.625 at random_state  78\n",
      "Accuracy_score of LogisticRegression  0.69375 at random_state  302\n",
      "Mac acc score of lr  80.625 at random_state  78\n",
      "Accuracy_score of LogisticRegression  0.7375 at random_state  303\n",
      "Mac acc score of lr  80.625 at random_state  78\n",
      "Accuracy_score of LogisticRegression  0.70625 at random_state  304\n",
      "Mac acc score of lr  80.625 at random_state  78\n",
      "Accuracy_score of LogisticRegression  0.75625 at random_state  305\n",
      "Mac acc score of lr  80.625 at random_state  78\n",
      "Accuracy_score of LogisticRegression  0.69375 at random_state  306\n",
      "Mac acc score of lr  80.625 at random_state  78\n",
      "Accuracy_score of LogisticRegression  0.775 at random_state  307\n",
      "Mac acc score of lr  80.625 at random_state  78\n",
      "Accuracy_score of LogisticRegression  0.70625 at random_state  308\n",
      "Mac acc score of lr  80.625 at random_state  78\n",
      "Accuracy_score of LogisticRegression  0.60625 at random_state  309\n",
      "Mac acc score of lr  80.625 at random_state  78\n",
      "Accuracy_score of LogisticRegression  0.675 at random_state  310\n",
      "Mac acc score of lr  80.625 at random_state  78\n",
      "Accuracy_score of LogisticRegression  0.69375 at random_state  311\n",
      "Mac acc score of lr  80.625 at random_state  78\n",
      "Accuracy_score of LogisticRegression  0.7625 at random_state  312\n",
      "Mac acc score of lr  80.625 at random_state  78\n",
      "Accuracy_score of LogisticRegression  0.73125 at random_state  313\n",
      "Mac acc score of lr  80.625 at random_state  78\n",
      "Accuracy_score of LogisticRegression  0.7125 at random_state  314\n",
      "Mac acc score of lr  80.625 at random_state  78\n",
      "Accuracy_score of LogisticRegression  0.73125 at random_state  315\n",
      "Mac acc score of lr  80.625 at random_state  78\n",
      "Accuracy_score of LogisticRegression  0.63125 at random_state  316\n",
      "Mac acc score of lr  80.625 at random_state  78\n",
      "Accuracy_score of LogisticRegression  0.725 at random_state  317\n",
      "Mac acc score of lr  80.625 at random_state  78\n",
      "Accuracy_score of LogisticRegression  0.68125 at random_state  318\n",
      "Mac acc score of lr  80.625 at random_state  78\n",
      "Accuracy_score of LogisticRegression  0.68125 at random_state  319\n",
      "Mac acc score of lr  80.625 at random_state  78\n",
      "Accuracy_score of LogisticRegression  0.7375 at random_state  320\n",
      "Mac acc score of lr  80.625 at random_state  78\n",
      "Accuracy_score of LogisticRegression  0.66875 at random_state  321\n",
      "Mac acc score of lr  80.625 at random_state  78\n",
      "Accuracy_score of LogisticRegression  0.73125 at random_state  322\n",
      "Mac acc score of lr  80.625 at random_state  78\n",
      "Accuracy_score of LogisticRegression  0.6875 at random_state  323\n",
      "Mac acc score of lr  80.625 at random_state  78\n",
      "Accuracy_score of LogisticRegression  0.71875 at random_state  324\n",
      "Mac acc score of lr  80.625 at random_state  78\n",
      "Accuracy_score of LogisticRegression  0.65625 at random_state  325\n",
      "Mac acc score of lr  80.625 at random_state  78\n",
      "Accuracy_score of LogisticRegression  0.75625 at random_state  326\n",
      "Mac acc score of lr  80.625 at random_state  78\n",
      "Accuracy_score of LogisticRegression  0.725 at random_state  327\n",
      "Mac acc score of lr  80.625 at random_state  78\n",
      "Accuracy_score of LogisticRegression  0.71875 at random_state  328\n",
      "Mac acc score of lr  80.625 at random_state  78\n",
      "Accuracy_score of LogisticRegression  0.7375 at random_state  329\n",
      "Mac acc score of lr  80.625 at random_state  78\n",
      "Accuracy_score of LogisticRegression  0.70625 at random_state  330\n",
      "Mac acc score of lr  80.625 at random_state  78\n",
      "Accuracy_score of LogisticRegression  0.725 at random_state  331\n",
      "Mac acc score of lr  80.625 at random_state  78\n",
      "Accuracy_score of LogisticRegression  0.73125 at random_state  332\n",
      "Mac acc score of lr  80.625 at random_state  78\n",
      "Accuracy_score of LogisticRegression  0.7375 at random_state  333\n",
      "Mac acc score of lr  80.625 at random_state  78\n",
      "Accuracy_score of LogisticRegression  0.7 at random_state  334\n",
      "Mac acc score of lr  80.625 at random_state  78\n",
      "Accuracy_score of LogisticRegression  0.74375 at random_state  335\n",
      "Mac acc score of lr  80.625 at random_state  78\n",
      "Accuracy_score of LogisticRegression  0.65625 at random_state  336\n",
      "Mac acc score of lr  80.625 at random_state  78\n",
      "Accuracy_score of LogisticRegression  0.66875 at random_state  337\n",
      "Mac acc score of lr  80.625 at random_state  78\n",
      "Accuracy_score of LogisticRegression  0.675 at random_state  338\n",
      "Mac acc score of lr  80.625 at random_state  78\n",
      "Accuracy_score of LogisticRegression  0.69375 at random_state  339\n",
      "Mac acc score of lr  80.625 at random_state  78\n",
      "Accuracy_score of LogisticRegression  0.75625 at random_state  340\n",
      "Mac acc score of lr  80.625 at random_state  78\n",
      "Accuracy_score of LogisticRegression  0.6875 at random_state  341\n",
      "Mac acc score of lr  80.625 at random_state  78\n",
      "Accuracy_score of LogisticRegression  0.73125 at random_state  342\n",
      "Mac acc score of lr  80.625 at random_state  78\n",
      "Accuracy_score of LogisticRegression  0.71875 at random_state  343\n",
      "Mac acc score of lr  80.625 at random_state  78\n",
      "Accuracy_score of LogisticRegression  0.775 at random_state  344\n",
      "Mac acc score of lr  80.625 at random_state  78\n",
      "Accuracy_score of LogisticRegression  0.7 at random_state  345\n",
      "Mac acc score of lr  80.625 at random_state  78\n",
      "Accuracy_score of LogisticRegression  0.68125 at random_state  346\n",
      "Mac acc score of lr  80.625 at random_state  78\n",
      "Accuracy_score of LogisticRegression  0.725 at random_state  347\n",
      "Mac acc score of lr  80.625 at random_state  78\n",
      "Accuracy_score of LogisticRegression  0.70625 at random_state  348\n",
      "Mac acc score of lr  80.625 at random_state  78\n",
      "Accuracy_score of LogisticRegression  0.75 at random_state  349\n",
      "Mac acc score of lr  80.625 at random_state  78\n",
      "Accuracy_score of LogisticRegression  0.73125 at random_state  350\n",
      "Mac acc score of lr  80.625 at random_state  78\n",
      "Accuracy_score of LogisticRegression  0.7 at random_state  351\n",
      "Mac acc score of lr  80.625 at random_state  78\n",
      "Accuracy_score of LogisticRegression  0.78125 at random_state  352\n",
      "Mac acc score of lr  80.625 at random_state  78\n",
      "Accuracy_score of LogisticRegression  0.8125 at random_state  353\n",
      "Mac acc score of lr  81.25 at random_state  353\n",
      "Accuracy_score of LogisticRegression  0.66875 at random_state  354\n",
      "Mac acc score of lr  81.25 at random_state  353\n",
      "Accuracy_score of LogisticRegression  0.73125 at random_state  355\n",
      "Mac acc score of lr  81.25 at random_state  353\n",
      "Accuracy_score of LogisticRegression  0.71875 at random_state  356\n",
      "Mac acc score of lr  81.25 at random_state  353\n",
      "Accuracy_score of LogisticRegression  0.70625 at random_state  357\n",
      "Mac acc score of lr  81.25 at random_state  353\n",
      "Accuracy_score of LogisticRegression  0.7125 at random_state  358\n",
      "Mac acc score of lr  81.25 at random_state  353\n",
      "Accuracy_score of LogisticRegression  0.7125 at random_state  359\n",
      "Mac acc score of lr  81.25 at random_state  353\n",
      "Accuracy_score of LogisticRegression  0.70625 at random_state  360\n",
      "Mac acc score of lr  81.25 at random_state  353\n",
      "Accuracy_score of LogisticRegression  0.75625 at random_state  361\n",
      "Mac acc score of lr  81.25 at random_state  353\n",
      "Accuracy_score of LogisticRegression  0.7375 at random_state  362\n",
      "Mac acc score of lr  81.25 at random_state  353\n",
      "Accuracy_score of LogisticRegression  0.71875 at random_state  363\n",
      "Mac acc score of lr  81.25 at random_state  353\n",
      "Accuracy_score of LogisticRegression  0.7 at random_state  364\n",
      "Mac acc score of lr  81.25 at random_state  353\n",
      "Accuracy_score of LogisticRegression  0.7 at random_state  365\n",
      "Mac acc score of lr  81.25 at random_state  353\n",
      "Accuracy_score of LogisticRegression  0.7 at random_state  366\n",
      "Mac acc score of lr  81.25 at random_state  353\n",
      "Accuracy_score of LogisticRegression  0.70625 at random_state  367\n",
      "Mac acc score of lr  81.25 at random_state  353\n",
      "Accuracy_score of LogisticRegression  0.7375 at random_state  368\n",
      "Mac acc score of lr  81.25 at random_state  353\n",
      "Accuracy_score of LogisticRegression  0.7125 at random_state  369\n",
      "Mac acc score of lr  81.25 at random_state  353\n",
      "Accuracy_score of LogisticRegression  0.7375 at random_state  370\n",
      "Mac acc score of lr  81.25 at random_state  353\n",
      "Accuracy_score of LogisticRegression  0.7 at random_state  371\n",
      "Mac acc score of lr  81.25 at random_state  353\n",
      "Accuracy_score of LogisticRegression  0.725 at random_state  372\n",
      "Mac acc score of lr  81.25 at random_state  353\n",
      "Accuracy_score of LogisticRegression  0.73125 at random_state  373\n",
      "Mac acc score of lr  81.25 at random_state  353\n",
      "Accuracy_score of LogisticRegression  0.7 at random_state  374\n",
      "Mac acc score of lr  81.25 at random_state  353\n",
      "Accuracy_score of LogisticRegression  0.6875 at random_state  375\n",
      "Mac acc score of lr  81.25 at random_state  353\n",
      "Accuracy_score of LogisticRegression  0.69375 at random_state  376\n",
      "Mac acc score of lr  81.25 at random_state  353\n",
      "Accuracy_score of LogisticRegression  0.70625 at random_state  377\n",
      "Mac acc score of lr  81.25 at random_state  353\n",
      "Accuracy_score of LogisticRegression  0.675 at random_state  378\n",
      "Mac acc score of lr  81.25 at random_state  353\n",
      "Accuracy_score of LogisticRegression  0.75625 at random_state  379\n",
      "Mac acc score of lr  81.25 at random_state  353\n",
      "Accuracy_score of LogisticRegression  0.6875 at random_state  380\n",
      "Mac acc score of lr  81.25 at random_state  353\n",
      "Accuracy_score of LogisticRegression  0.74375 at random_state  381\n",
      "Mac acc score of lr  81.25 at random_state  353\n",
      "Accuracy_score of LogisticRegression  0.68125 at random_state  382\n",
      "Mac acc score of lr  81.25 at random_state  353\n",
      "Accuracy_score of LogisticRegression  0.75 at random_state  383\n",
      "Mac acc score of lr  81.25 at random_state  353\n",
      "Accuracy_score of LogisticRegression  0.725 at random_state  384\n",
      "Mac acc score of lr  81.25 at random_state  353\n",
      "Accuracy_score of LogisticRegression  0.76875 at random_state  385\n",
      "Mac acc score of lr  81.25 at random_state  353\n",
      "Accuracy_score of LogisticRegression  0.73125 at random_state  386\n",
      "Mac acc score of lr  81.25 at random_state  353\n",
      "Accuracy_score of LogisticRegression  0.7125 at random_state  387\n",
      "Mac acc score of lr  81.25 at random_state  353\n",
      "Accuracy_score of LogisticRegression  0.68125 at random_state  388\n",
      "Mac acc score of lr  81.25 at random_state  353\n",
      "Accuracy_score of LogisticRegression  0.71875 at random_state  389\n",
      "Mac acc score of lr  81.25 at random_state  353\n",
      "Accuracy_score of LogisticRegression  0.725 at random_state  390\n",
      "Mac acc score of lr  81.25 at random_state  353\n",
      "Accuracy_score of LogisticRegression  0.6875 at random_state  391\n",
      "Mac acc score of lr  81.25 at random_state  353\n",
      "Accuracy_score of LogisticRegression  0.7625 at random_state  392\n",
      "Mac acc score of lr  81.25 at random_state  353\n",
      "Accuracy_score of LogisticRegression  0.7125 at random_state  393\n",
      "Mac acc score of lr  81.25 at random_state  353\n",
      "Accuracy_score of LogisticRegression  0.775 at random_state  394\n",
      "Mac acc score of lr  81.25 at random_state  353\n",
      "Accuracy_score of LogisticRegression  0.75 at random_state  395\n",
      "Mac acc score of lr  81.25 at random_state  353\n",
      "Accuracy_score of LogisticRegression  0.7125 at random_state  396\n",
      "Mac acc score of lr  81.25 at random_state  353\n",
      "Accuracy_score of LogisticRegression  0.75 at random_state  397\n",
      "Mac acc score of lr  81.25 at random_state  353\n",
      "Accuracy_score of LogisticRegression  0.69375 at random_state  398\n",
      "Mac acc score of lr  81.25 at random_state  353\n",
      "Accuracy_score of LogisticRegression  0.70625 at random_state  399\n",
      "Mac acc score of lr  81.25 at random_state  353\n",
      "Accuracy_score of LogisticRegression  0.6875 at random_state  400\n",
      "Mac acc score of lr  81.25 at random_state  353\n",
      "Accuracy_score of LogisticRegression  0.75 at random_state  401\n",
      "Mac acc score of lr  81.25 at random_state  353\n",
      "Accuracy_score of LogisticRegression  0.70625 at random_state  402\n",
      "Mac acc score of lr  81.25 at random_state  353\n",
      "Accuracy_score of LogisticRegression  0.75625 at random_state  403\n",
      "Mac acc score of lr  81.25 at random_state  353\n",
      "Accuracy_score of LogisticRegression  0.70625 at random_state  404\n",
      "Mac acc score of lr  81.25 at random_state  353\n",
      "Accuracy_score of LogisticRegression  0.68125 at random_state  405\n",
      "Mac acc score of lr  81.25 at random_state  353\n",
      "Accuracy_score of LogisticRegression  0.61875 at random_state  406\n",
      "Mac acc score of lr  81.25 at random_state  353\n",
      "Accuracy_score of LogisticRegression  0.71875 at random_state  407\n",
      "Mac acc score of lr  81.25 at random_state  353\n",
      "Accuracy_score of LogisticRegression  0.75 at random_state  408\n",
      "Mac acc score of lr  81.25 at random_state  353\n",
      "Accuracy_score of LogisticRegression  0.71875 at random_state  409\n",
      "Mac acc score of lr  81.25 at random_state  353\n",
      "Accuracy_score of LogisticRegression  0.69375 at random_state  410\n",
      "Mac acc score of lr  81.25 at random_state  353\n",
      "Accuracy_score of LogisticRegression  0.76875 at random_state  411\n",
      "Mac acc score of lr  81.25 at random_state  353\n",
      "Accuracy_score of LogisticRegression  0.8 at random_state  412\n",
      "Mac acc score of lr  81.25 at random_state  353\n",
      "Accuracy_score of LogisticRegression  0.7375 at random_state  413\n",
      "Mac acc score of lr  81.25 at random_state  353\n",
      "Accuracy_score of LogisticRegression  0.75625 at random_state  414\n",
      "Mac acc score of lr  81.25 at random_state  353\n",
      "Accuracy_score of LogisticRegression  0.68125 at random_state  415\n",
      "Mac acc score of lr  81.25 at random_state  353\n",
      "Accuracy_score of LogisticRegression  0.6875 at random_state  416\n",
      "Mac acc score of lr  81.25 at random_state  353\n",
      "Accuracy_score of LogisticRegression  0.725 at random_state  417\n",
      "Mac acc score of lr  81.25 at random_state  353\n",
      "Accuracy_score of LogisticRegression  0.725 at random_state  418\n",
      "Mac acc score of lr  81.25 at random_state  353\n",
      "Accuracy_score of LogisticRegression  0.7625 at random_state  419\n",
      "Mac acc score of lr  81.25 at random_state  353\n",
      "Accuracy_score of LogisticRegression  0.74375 at random_state  420\n",
      "Mac acc score of lr  81.25 at random_state  353\n",
      "Accuracy_score of LogisticRegression  0.6875 at random_state  421\n",
      "Mac acc score of lr  81.25 at random_state  353\n",
      "Accuracy_score of LogisticRegression  0.71875 at random_state  422\n",
      "Mac acc score of lr  81.25 at random_state  353\n",
      "Accuracy_score of LogisticRegression  0.6625 at random_state  423\n",
      "Mac acc score of lr  81.25 at random_state  353\n",
      "Accuracy_score of LogisticRegression  0.7 at random_state  424\n",
      "Mac acc score of lr  81.25 at random_state  353\n",
      "Accuracy_score of LogisticRegression  0.71875 at random_state  425\n",
      "Mac acc score of lr  81.25 at random_state  353\n",
      "Accuracy_score of LogisticRegression  0.71875 at random_state  426\n",
      "Mac acc score of lr  81.25 at random_state  353\n",
      "Accuracy_score of LogisticRegression  0.66875 at random_state  427\n",
      "Mac acc score of lr  81.25 at random_state  353\n",
      "Accuracy_score of LogisticRegression  0.74375 at random_state  428\n",
      "Mac acc score of lr  81.25 at random_state  353\n",
      "Accuracy_score of LogisticRegression  0.7625 at random_state  429\n",
      "Mac acc score of lr  81.25 at random_state  353\n",
      "Accuracy_score of LogisticRegression  0.65625 at random_state  430\n",
      "Mac acc score of lr  81.25 at random_state  353\n",
      "Accuracy_score of LogisticRegression  0.70625 at random_state  431\n",
      "Mac acc score of lr  81.25 at random_state  353\n",
      "Accuracy_score of LogisticRegression  0.6625 at random_state  432\n",
      "Mac acc score of lr  81.25 at random_state  353\n",
      "Accuracy_score of LogisticRegression  0.7875 at random_state  433\n",
      "Mac acc score of lr  81.25 at random_state  353\n",
      "Accuracy_score of LogisticRegression  0.73125 at random_state  434\n",
      "Mac acc score of lr  81.25 at random_state  353\n",
      "Accuracy_score of LogisticRegression  0.73125 at random_state  435\n",
      "Mac acc score of lr  81.25 at random_state  353\n",
      "Accuracy_score of LogisticRegression  0.76875 at random_state  436\n",
      "Mac acc score of lr  81.25 at random_state  353\n",
      "Accuracy_score of LogisticRegression  0.7125 at random_state  437\n",
      "Mac acc score of lr  81.25 at random_state  353\n",
      "Accuracy_score of LogisticRegression  0.70625 at random_state  438\n",
      "Mac acc score of lr  81.25 at random_state  353\n",
      "Accuracy_score of LogisticRegression  0.69375 at random_state  439\n",
      "Mac acc score of lr  81.25 at random_state  353\n",
      "Accuracy_score of LogisticRegression  0.8 at random_state  440\n",
      "Mac acc score of lr  81.25 at random_state  353\n",
      "Accuracy_score of LogisticRegression  0.65625 at random_state  441\n",
      "Mac acc score of lr  81.25 at random_state  353\n",
      "Accuracy_score of LogisticRegression  0.66875 at random_state  442\n",
      "Mac acc score of lr  81.25 at random_state  353\n",
      "Accuracy_score of LogisticRegression  0.70625 at random_state  443\n",
      "Mac acc score of lr  81.25 at random_state  353\n",
      "Accuracy_score of LogisticRegression  0.7625 at random_state  444\n",
      "Mac acc score of lr  81.25 at random_state  353\n",
      "Accuracy_score of LogisticRegression  0.68125 at random_state  445\n",
      "Mac acc score of lr  81.25 at random_state  353\n",
      "Accuracy_score of LogisticRegression  0.7375 at random_state  446\n",
      "Mac acc score of lr  81.25 at random_state  353\n",
      "Accuracy_score of LogisticRegression  0.65 at random_state  447\n",
      "Mac acc score of lr  81.25 at random_state  353\n",
      "Accuracy_score of LogisticRegression  0.725 at random_state  448\n",
      "Mac acc score of lr  81.25 at random_state  353\n",
      "Accuracy_score of LogisticRegression  0.69375 at random_state  449\n",
      "Mac acc score of lr  81.25 at random_state  353\n",
      "Accuracy_score of LogisticRegression  0.75 at random_state  450\n",
      "Mac acc score of lr  81.25 at random_state  353\n",
      "Accuracy_score of LogisticRegression  0.78125 at random_state  451\n",
      "Mac acc score of lr  81.25 at random_state  353\n",
      "Accuracy_score of LogisticRegression  0.74375 at random_state  452\n",
      "Mac acc score of lr  81.25 at random_state  353\n",
      "Accuracy_score of LogisticRegression  0.7125 at random_state  453\n",
      "Mac acc score of lr  81.25 at random_state  353\n",
      "Accuracy_score of LogisticRegression  0.7375 at random_state  454\n",
      "Mac acc score of lr  81.25 at random_state  353\n",
      "Accuracy_score of LogisticRegression  0.74375 at random_state  455\n",
      "Mac acc score of lr  81.25 at random_state  353\n",
      "Accuracy_score of LogisticRegression  0.7125 at random_state  456\n",
      "Mac acc score of lr  81.25 at random_state  353\n",
      "Accuracy_score of LogisticRegression  0.725 at random_state  457\n",
      "Mac acc score of lr  81.25 at random_state  353\n",
      "Accuracy_score of LogisticRegression  0.68125 at random_state  458\n",
      "Mac acc score of lr  81.25 at random_state  353\n",
      "Accuracy_score of LogisticRegression  0.65 at random_state  459\n",
      "Mac acc score of lr  81.25 at random_state  353\n",
      "Accuracy_score of LogisticRegression  0.71875 at random_state  460\n",
      "Mac acc score of lr  81.25 at random_state  353\n",
      "Accuracy_score of LogisticRegression  0.75 at random_state  461\n",
      "Mac acc score of lr  81.25 at random_state  353\n",
      "Accuracy_score of LogisticRegression  0.6625 at random_state  462\n",
      "Mac acc score of lr  81.25 at random_state  353\n",
      "Accuracy_score of LogisticRegression  0.71875 at random_state  463\n",
      "Mac acc score of lr  81.25 at random_state  353\n",
      "Accuracy_score of LogisticRegression  0.74375 at random_state  464\n",
      "Mac acc score of lr  81.25 at random_state  353\n",
      "Accuracy_score of LogisticRegression  0.69375 at random_state  465\n",
      "Mac acc score of lr  81.25 at random_state  353\n",
      "Accuracy_score of LogisticRegression  0.7375 at random_state  466\n",
      "Mac acc score of lr  81.25 at random_state  353\n",
      "Accuracy_score of LogisticRegression  0.7625 at random_state  467\n",
      "Mac acc score of lr  81.25 at random_state  353\n",
      "Accuracy_score of LogisticRegression  0.7375 at random_state  468\n",
      "Mac acc score of lr  81.25 at random_state  353\n",
      "Accuracy_score of LogisticRegression  0.675 at random_state  469\n",
      "Mac acc score of lr  81.25 at random_state  353\n",
      "Accuracy_score of LogisticRegression  0.7 at random_state  470\n",
      "Mac acc score of lr  81.25 at random_state  353\n",
      "Accuracy_score of LogisticRegression  0.61875 at random_state  471\n",
      "Mac acc score of lr  81.25 at random_state  353\n",
      "Accuracy_score of LogisticRegression  0.76875 at random_state  472\n",
      "Mac acc score of lr  81.25 at random_state  353\n",
      "Accuracy_score of LogisticRegression  0.70625 at random_state  473\n",
      "Mac acc score of lr  81.25 at random_state  353\n",
      "Accuracy_score of LogisticRegression  0.7375 at random_state  474\n",
      "Mac acc score of lr  81.25 at random_state  353\n",
      "Accuracy_score of LogisticRegression  0.7 at random_state  475\n",
      "Mac acc score of lr  81.25 at random_state  353\n",
      "Accuracy_score of LogisticRegression  0.74375 at random_state  476\n",
      "Mac acc score of lr  81.25 at random_state  353\n",
      "Accuracy_score of LogisticRegression  0.725 at random_state  477\n",
      "Mac acc score of lr  81.25 at random_state  353\n",
      "Accuracy_score of LogisticRegression  0.71875 at random_state  478\n",
      "Mac acc score of lr  81.25 at random_state  353\n",
      "Accuracy_score of LogisticRegression  0.73125 at random_state  479\n",
      "Mac acc score of lr  81.25 at random_state  353\n",
      "Accuracy_score of LogisticRegression  0.775 at random_state  480\n",
      "Mac acc score of lr  81.25 at random_state  353\n",
      "Accuracy_score of LogisticRegression  0.7125 at random_state  481\n",
      "Mac acc score of lr  81.25 at random_state  353\n",
      "Accuracy_score of LogisticRegression  0.7375 at random_state  482\n",
      "Mac acc score of lr  81.25 at random_state  353\n",
      "Accuracy_score of LogisticRegression  0.725 at random_state  483\n",
      "Mac acc score of lr  81.25 at random_state  353\n",
      "Accuracy_score of LogisticRegression  0.73125 at random_state  484\n",
      "Mac acc score of lr  81.25 at random_state  353\n",
      "Accuracy_score of LogisticRegression  0.7 at random_state  485\n",
      "Mac acc score of lr  81.25 at random_state  353\n",
      "Accuracy_score of LogisticRegression  0.70625 at random_state  486\n",
      "Mac acc score of lr  81.25 at random_state  353\n",
      "Accuracy_score of LogisticRegression  0.725 at random_state  487\n",
      "Mac acc score of lr  81.25 at random_state  353\n",
      "Accuracy_score of LogisticRegression  0.675 at random_state  488\n",
      "Mac acc score of lr  81.25 at random_state  353\n",
      "Accuracy_score of LogisticRegression  0.66875 at random_state  489\n",
      "Mac acc score of lr  81.25 at random_state  353\n",
      "Accuracy_score of LogisticRegression  0.7 at random_state  490\n",
      "Mac acc score of lr  81.25 at random_state  353\n",
      "Accuracy_score of LogisticRegression  0.7125 at random_state  491\n",
      "Mac acc score of lr  81.25 at random_state  353\n",
      "Accuracy_score of LogisticRegression  0.69375 at random_state  492\n",
      "Mac acc score of lr  81.25 at random_state  353\n",
      "Accuracy_score of LogisticRegression  0.7625 at random_state  493\n",
      "Mac acc score of lr  81.25 at random_state  353\n",
      "Accuracy_score of LogisticRegression  0.78125 at random_state  494\n",
      "Mac acc score of lr  81.25 at random_state  353\n",
      "Accuracy_score of LogisticRegression  0.74375 at random_state  495\n",
      "Mac acc score of lr  81.25 at random_state  353\n",
      "Accuracy_score of LogisticRegression  0.69375 at random_state  496\n",
      "Mac acc score of lr  81.25 at random_state  353\n",
      "Accuracy_score of LogisticRegression  0.70625 at random_state  497\n",
      "Mac acc score of lr  81.25 at random_state  353\n",
      "Accuracy_score of LogisticRegression  0.71875 at random_state  498\n",
      "Mac acc score of lr  81.25 at random_state  353\n",
      "Accuracy_score of LogisticRegression  0.68125 at random_state  499\n",
      "Mac acc score of lr  81.25 at random_state  353\n",
      "Accuracy_score of LogisticRegression  0.725 at random_state  500\n",
      "Mac acc score of lr  81.25 at random_state  353\n",
      "Accuracy_score of LogisticRegression  0.775 at random_state  501\n",
      "Mac acc score of lr  81.25 at random_state  353\n",
      "Accuracy_score of LogisticRegression  0.73125 at random_state  502\n",
      "Mac acc score of lr  81.25 at random_state  353\n",
      "Accuracy_score of LogisticRegression  0.70625 at random_state  503\n",
      "Mac acc score of lr  81.25 at random_state  353\n",
      "Accuracy_score of LogisticRegression  0.74375 at random_state  504\n",
      "Mac acc score of lr  81.25 at random_state  353\n",
      "Accuracy_score of LogisticRegression  0.73125 at random_state  505\n",
      "Mac acc score of lr  81.25 at random_state  353\n",
      "Accuracy_score of LogisticRegression  0.74375 at random_state  506\n",
      "Mac acc score of lr  81.25 at random_state  353\n",
      "Accuracy_score of LogisticRegression  0.6875 at random_state  507\n",
      "Mac acc score of lr  81.25 at random_state  353\n",
      "Accuracy_score of LogisticRegression  0.6875 at random_state  508\n",
      "Mac acc score of lr  81.25 at random_state  353\n",
      "Accuracy_score of LogisticRegression  0.7125 at random_state  509\n",
      "Mac acc score of lr  81.25 at random_state  353\n",
      "Accuracy_score of LogisticRegression  0.7125 at random_state  510\n",
      "Mac acc score of lr  81.25 at random_state  353\n",
      "Accuracy_score of LogisticRegression  0.725 at random_state  511\n",
      "Mac acc score of lr  81.25 at random_state  353\n",
      "Accuracy_score of LogisticRegression  0.675 at random_state  512\n",
      "Mac acc score of lr  81.25 at random_state  353\n",
      "Accuracy_score of LogisticRegression  0.69375 at random_state  513\n",
      "Mac acc score of lr  81.25 at random_state  353\n",
      "Accuracy_score of LogisticRegression  0.7125 at random_state  514\n",
      "Mac acc score of lr  81.25 at random_state  353\n",
      "Accuracy_score of LogisticRegression  0.69375 at random_state  515\n",
      "Mac acc score of lr  81.25 at random_state  353\n",
      "Accuracy_score of LogisticRegression  0.73125 at random_state  516\n",
      "Mac acc score of lr  81.25 at random_state  353\n",
      "Accuracy_score of LogisticRegression  0.7375 at random_state  517\n",
      "Mac acc score of lr  81.25 at random_state  353\n",
      "Accuracy_score of LogisticRegression  0.7125 at random_state  518\n",
      "Mac acc score of lr  81.25 at random_state  353\n",
      "Accuracy_score of LogisticRegression  0.7375 at random_state  519\n",
      "Mac acc score of lr  81.25 at random_state  353\n",
      "Accuracy_score of LogisticRegression  0.7375 at random_state  520\n",
      "Mac acc score of lr  81.25 at random_state  353\n",
      "Accuracy_score of LogisticRegression  0.73125 at random_state  521\n",
      "Mac acc score of lr  81.25 at random_state  353\n",
      "Accuracy_score of LogisticRegression  0.74375 at random_state  522\n",
      "Mac acc score of lr  81.25 at random_state  353\n",
      "Accuracy_score of LogisticRegression  0.68125 at random_state  523\n",
      "Mac acc score of lr  81.25 at random_state  353\n",
      "Accuracy_score of LogisticRegression  0.7125 at random_state  524\n",
      "Mac acc score of lr  81.25 at random_state  353\n",
      "Accuracy_score of LogisticRegression  0.6875 at random_state  525\n",
      "Mac acc score of lr  81.25 at random_state  353\n",
      "Accuracy_score of LogisticRegression  0.70625 at random_state  526\n",
      "Mac acc score of lr  81.25 at random_state  353\n",
      "Accuracy_score of LogisticRegression  0.69375 at random_state  527\n",
      "Mac acc score of lr  81.25 at random_state  353\n",
      "Accuracy_score of LogisticRegression  0.7875 at random_state  528\n",
      "Mac acc score of lr  81.25 at random_state  353\n",
      "Accuracy_score of LogisticRegression  0.78125 at random_state  529\n",
      "Mac acc score of lr  81.25 at random_state  353\n",
      "Accuracy_score of LogisticRegression  0.73125 at random_state  530\n",
      "Mac acc score of lr  81.25 at random_state  353\n",
      "Accuracy_score of LogisticRegression  0.76875 at random_state  531\n",
      "Mac acc score of lr  81.25 at random_state  353\n",
      "Accuracy_score of LogisticRegression  0.7375 at random_state  532\n",
      "Mac acc score of lr  81.25 at random_state  353\n",
      "Accuracy_score of LogisticRegression  0.675 at random_state  533\n",
      "Mac acc score of lr  81.25 at random_state  353\n",
      "Accuracy_score of LogisticRegression  0.7125 at random_state  534\n",
      "Mac acc score of lr  81.25 at random_state  353\n",
      "Accuracy_score of LogisticRegression  0.7875 at random_state  535\n",
      "Mac acc score of lr  81.25 at random_state  353\n",
      "Accuracy_score of LogisticRegression  0.675 at random_state  536\n",
      "Mac acc score of lr  81.25 at random_state  353\n",
      "Accuracy_score of LogisticRegression  0.7625 at random_state  537\n",
      "Mac acc score of lr  81.25 at random_state  353\n",
      "Accuracy_score of LogisticRegression  0.71875 at random_state  538\n",
      "Mac acc score of lr  81.25 at random_state  353\n",
      "Accuracy_score of LogisticRegression  0.6875 at random_state  539\n",
      "Mac acc score of lr  81.25 at random_state  353\n",
      "Accuracy_score of LogisticRegression  0.68125 at random_state  540\n",
      "Mac acc score of lr  81.25 at random_state  353\n",
      "Accuracy_score of LogisticRegression  0.6875 at random_state  541\n",
      "Mac acc score of lr  81.25 at random_state  353\n",
      "Accuracy_score of LogisticRegression  0.69375 at random_state  542\n",
      "Mac acc score of lr  81.25 at random_state  353\n",
      "Accuracy_score of LogisticRegression  0.76875 at random_state  543\n",
      "Mac acc score of lr  81.25 at random_state  353\n",
      "Accuracy_score of LogisticRegression  0.7375 at random_state  544\n",
      "Mac acc score of lr  81.25 at random_state  353\n",
      "Accuracy_score of LogisticRegression  0.6875 at random_state  545\n",
      "Mac acc score of lr  81.25 at random_state  353\n",
      "Accuracy_score of LogisticRegression  0.75625 at random_state  546\n",
      "Mac acc score of lr  81.25 at random_state  353\n",
      "Accuracy_score of LogisticRegression  0.73125 at random_state  547\n",
      "Mac acc score of lr  81.25 at random_state  353\n",
      "Accuracy_score of LogisticRegression  0.725 at random_state  548\n",
      "Mac acc score of lr  81.25 at random_state  353\n",
      "Accuracy_score of LogisticRegression  0.7375 at random_state  549\n",
      "Mac acc score of lr  81.25 at random_state  353\n",
      "Accuracy_score of LogisticRegression  0.7125 at random_state  550\n",
      "Mac acc score of lr  81.25 at random_state  353\n",
      "Accuracy_score of LogisticRegression  0.7375 at random_state  551\n",
      "Mac acc score of lr  81.25 at random_state  353\n",
      "Accuracy_score of LogisticRegression  0.74375 at random_state  552\n",
      "Mac acc score of lr  81.25 at random_state  353\n",
      "Accuracy_score of LogisticRegression  0.73125 at random_state  553\n",
      "Mac acc score of lr  81.25 at random_state  353\n",
      "Accuracy_score of LogisticRegression  0.75625 at random_state  554\n",
      "Mac acc score of lr  81.25 at random_state  353\n",
      "Accuracy_score of LogisticRegression  0.675 at random_state  555\n",
      "Mac acc score of lr  81.25 at random_state  353\n",
      "Accuracy_score of LogisticRegression  0.7375 at random_state  556\n",
      "Mac acc score of lr  81.25 at random_state  353\n",
      "Accuracy_score of LogisticRegression  0.7 at random_state  557\n",
      "Mac acc score of lr  81.25 at random_state  353\n",
      "Accuracy_score of LogisticRegression  0.70625 at random_state  558\n",
      "Mac acc score of lr  81.25 at random_state  353\n",
      "Accuracy_score of LogisticRegression  0.7 at random_state  559\n",
      "Mac acc score of lr  81.25 at random_state  353\n",
      "Accuracy_score of LogisticRegression  0.6875 at random_state  560\n",
      "Mac acc score of lr  81.25 at random_state  353\n",
      "Accuracy_score of LogisticRegression  0.70625 at random_state  561\n",
      "Mac acc score of lr  81.25 at random_state  353\n",
      "Accuracy_score of LogisticRegression  0.725 at random_state  562\n",
      "Mac acc score of lr  81.25 at random_state  353\n",
      "Accuracy_score of LogisticRegression  0.70625 at random_state  563\n",
      "Mac acc score of lr  81.25 at random_state  353\n",
      "Accuracy_score of LogisticRegression  0.74375 at random_state  564\n",
      "Mac acc score of lr  81.25 at random_state  353\n",
      "Accuracy_score of LogisticRegression  0.70625 at random_state  565\n",
      "Mac acc score of lr  81.25 at random_state  353\n",
      "Accuracy_score of LogisticRegression  0.69375 at random_state  566\n",
      "Mac acc score of lr  81.25 at random_state  353\n",
      "Accuracy_score of LogisticRegression  0.69375 at random_state  567\n",
      "Mac acc score of lr  81.25 at random_state  353\n",
      "Accuracy_score of LogisticRegression  0.71875 at random_state  568\n",
      "Mac acc score of lr  81.25 at random_state  353\n",
      "Accuracy_score of LogisticRegression  0.69375 at random_state  569\n",
      "Mac acc score of lr  81.25 at random_state  353\n",
      "Accuracy_score of LogisticRegression  0.75 at random_state  570\n",
      "Mac acc score of lr  81.25 at random_state  353\n",
      "Accuracy_score of LogisticRegression  0.7375 at random_state  571\n",
      "Mac acc score of lr  81.25 at random_state  353\n",
      "Accuracy_score of LogisticRegression  0.78125 at random_state  572\n",
      "Mac acc score of lr  81.25 at random_state  353\n",
      "Accuracy_score of LogisticRegression  0.7 at random_state  573\n",
      "Mac acc score of lr  81.25 at random_state  353\n",
      "Accuracy_score of LogisticRegression  0.7625 at random_state  574\n",
      "Mac acc score of lr  81.25 at random_state  353\n",
      "Accuracy_score of LogisticRegression  0.78125 at random_state  575\n",
      "Mac acc score of lr  81.25 at random_state  353\n",
      "Accuracy_score of LogisticRegression  0.7375 at random_state  576\n",
      "Mac acc score of lr  81.25 at random_state  353\n",
      "Accuracy_score of LogisticRegression  0.70625 at random_state  577\n",
      "Mac acc score of lr  81.25 at random_state  353\n",
      "Accuracy_score of LogisticRegression  0.76875 at random_state  578\n",
      "Mac acc score of lr  81.25 at random_state  353\n",
      "Accuracy_score of LogisticRegression  0.71875 at random_state  579\n",
      "Mac acc score of lr  81.25 at random_state  353\n",
      "Accuracy_score of LogisticRegression  0.7 at random_state  580\n",
      "Mac acc score of lr  81.25 at random_state  353\n",
      "Accuracy_score of LogisticRegression  0.6875 at random_state  581\n",
      "Mac acc score of lr  81.25 at random_state  353\n",
      "Accuracy_score of LogisticRegression  0.74375 at random_state  582\n",
      "Mac acc score of lr  81.25 at random_state  353\n",
      "Accuracy_score of LogisticRegression  0.70625 at random_state  583\n",
      "Mac acc score of lr  81.25 at random_state  353\n",
      "Accuracy_score of LogisticRegression  0.74375 at random_state  584\n",
      "Mac acc score of lr  81.25 at random_state  353\n",
      "Accuracy_score of LogisticRegression  0.69375 at random_state  585\n",
      "Mac acc score of lr  81.25 at random_state  353\n",
      "Accuracy_score of LogisticRegression  0.74375 at random_state  586\n",
      "Mac acc score of lr  81.25 at random_state  353\n",
      "Accuracy_score of LogisticRegression  0.76875 at random_state  587\n",
      "Mac acc score of lr  81.25 at random_state  353\n",
      "Accuracy_score of LogisticRegression  0.69375 at random_state  588\n",
      "Mac acc score of lr  81.25 at random_state  353\n",
      "Accuracy_score of LogisticRegression  0.7 at random_state  589\n",
      "Mac acc score of lr  81.25 at random_state  353\n",
      "Accuracy_score of LogisticRegression  0.725 at random_state  590\n",
      "Mac acc score of lr  81.25 at random_state  353\n",
      "Accuracy_score of LogisticRegression  0.7375 at random_state  591\n",
      "Mac acc score of lr  81.25 at random_state  353\n",
      "Accuracy_score of LogisticRegression  0.7125 at random_state  592\n",
      "Mac acc score of lr  81.25 at random_state  353\n",
      "Accuracy_score of LogisticRegression  0.6625 at random_state  593\n",
      "Mac acc score of lr  81.25 at random_state  353\n",
      "Accuracy_score of LogisticRegression  0.7125 at random_state  594\n",
      "Mac acc score of lr  81.25 at random_state  353\n",
      "Accuracy_score of LogisticRegression  0.73125 at random_state  595\n",
      "Mac acc score of lr  81.25 at random_state  353\n",
      "Accuracy_score of LogisticRegression  0.69375 at random_state  596\n",
      "Mac acc score of lr  81.25 at random_state  353\n",
      "Accuracy_score of LogisticRegression  0.6875 at random_state  597\n",
      "Mac acc score of lr  81.25 at random_state  353\n",
      "Accuracy_score of LogisticRegression  0.71875 at random_state  598\n",
      "Mac acc score of lr  81.25 at random_state  353\n",
      "Accuracy_score of LogisticRegression  0.7 at random_state  599\n",
      "Mac acc score of lr  81.25 at random_state  353\n",
      "Accuracy_score of LogisticRegression  0.73125 at random_state  600\n",
      "Mac acc score of lr  81.25 at random_state  353\n",
      "Accuracy_score of LogisticRegression  0.7125 at random_state  601\n",
      "Mac acc score of lr  81.25 at random_state  353\n",
      "Accuracy_score of LogisticRegression  0.7375 at random_state  602\n",
      "Mac acc score of lr  81.25 at random_state  353\n",
      "Accuracy_score of LogisticRegression  0.7375 at random_state  603\n",
      "Mac acc score of lr  81.25 at random_state  353\n",
      "Accuracy_score of LogisticRegression  0.7125 at random_state  604\n",
      "Mac acc score of lr  81.25 at random_state  353\n",
      "Accuracy_score of LogisticRegression  0.675 at random_state  605\n",
      "Mac acc score of lr  81.25 at random_state  353\n",
      "Accuracy_score of LogisticRegression  0.725 at random_state  606\n",
      "Mac acc score of lr  81.25 at random_state  353\n",
      "Accuracy_score of LogisticRegression  0.6875 at random_state  607\n",
      "Mac acc score of lr  81.25 at random_state  353\n",
      "Accuracy_score of LogisticRegression  0.7 at random_state  608\n",
      "Mac acc score of lr  81.25 at random_state  353\n",
      "Accuracy_score of LogisticRegression  0.7 at random_state  609\n",
      "Mac acc score of lr  81.25 at random_state  353\n",
      "Accuracy_score of LogisticRegression  0.75625 at random_state  610\n",
      "Mac acc score of lr  81.25 at random_state  353\n",
      "Accuracy_score of LogisticRegression  0.71875 at random_state  611\n",
      "Mac acc score of lr  81.25 at random_state  353\n",
      "Accuracy_score of LogisticRegression  0.68125 at random_state  612\n",
      "Mac acc score of lr  81.25 at random_state  353\n",
      "Accuracy_score of LogisticRegression  0.7375 at random_state  613\n",
      "Mac acc score of lr  81.25 at random_state  353\n",
      "Accuracy_score of LogisticRegression  0.7625 at random_state  614\n",
      "Mac acc score of lr  81.25 at random_state  353\n",
      "Accuracy_score of LogisticRegression  0.65625 at random_state  615\n",
      "Mac acc score of lr  81.25 at random_state  353\n",
      "Accuracy_score of LogisticRegression  0.70625 at random_state  616\n",
      "Mac acc score of lr  81.25 at random_state  353\n",
      "Accuracy_score of LogisticRegression  0.6875 at random_state  617\n",
      "Mac acc score of lr  81.25 at random_state  353\n",
      "Accuracy_score of LogisticRegression  0.65625 at random_state  618\n",
      "Mac acc score of lr  81.25 at random_state  353\n",
      "Accuracy_score of LogisticRegression  0.69375 at random_state  619\n",
      "Mac acc score of lr  81.25 at random_state  353\n",
      "Accuracy_score of LogisticRegression  0.70625 at random_state  620\n",
      "Mac acc score of lr  81.25 at random_state  353\n",
      "Accuracy_score of LogisticRegression  0.68125 at random_state  621\n",
      "Mac acc score of lr  81.25 at random_state  353\n",
      "Accuracy_score of LogisticRegression  0.6875 at random_state  622\n",
      "Mac acc score of lr  81.25 at random_state  353\n",
      "Accuracy_score of LogisticRegression  0.75 at random_state  623\n",
      "Mac acc score of lr  81.25 at random_state  353\n",
      "Accuracy_score of LogisticRegression  0.69375 at random_state  624\n",
      "Mac acc score of lr  81.25 at random_state  353\n",
      "Accuracy_score of LogisticRegression  0.7625 at random_state  625\n",
      "Mac acc score of lr  81.25 at random_state  353\n",
      "Accuracy_score of LogisticRegression  0.74375 at random_state  626\n",
      "Mac acc score of lr  81.25 at random_state  353\n",
      "Accuracy_score of LogisticRegression  0.71875 at random_state  627\n",
      "Mac acc score of lr  81.25 at random_state  353\n",
      "Accuracy_score of LogisticRegression  0.7625 at random_state  628\n",
      "Mac acc score of lr  81.25 at random_state  353\n",
      "Accuracy_score of LogisticRegression  0.6625 at random_state  629\n",
      "Mac acc score of lr  81.25 at random_state  353\n",
      "Accuracy_score of LogisticRegression  0.70625 at random_state  630\n",
      "Mac acc score of lr  81.25 at random_state  353\n",
      "Accuracy_score of LogisticRegression  0.725 at random_state  631\n",
      "Mac acc score of lr  81.25 at random_state  353\n",
      "Accuracy_score of LogisticRegression  0.75625 at random_state  632\n",
      "Mac acc score of lr  81.25 at random_state  353\n",
      "Accuracy_score of LogisticRegression  0.68125 at random_state  633\n",
      "Mac acc score of lr  81.25 at random_state  353\n",
      "Accuracy_score of LogisticRegression  0.7625 at random_state  634\n",
      "Mac acc score of lr  81.25 at random_state  353\n",
      "Accuracy_score of LogisticRegression  0.71875 at random_state  635\n",
      "Mac acc score of lr  81.25 at random_state  353\n",
      "Accuracy_score of LogisticRegression  0.7375 at random_state  636\n",
      "Mac acc score of lr  81.25 at random_state  353\n",
      "Accuracy_score of LogisticRegression  0.7625 at random_state  637\n",
      "Mac acc score of lr  81.25 at random_state  353\n",
      "Accuracy_score of LogisticRegression  0.775 at random_state  638\n",
      "Mac acc score of lr  81.25 at random_state  353\n",
      "Accuracy_score of LogisticRegression  0.725 at random_state  639\n",
      "Mac acc score of lr  81.25 at random_state  353\n",
      "Accuracy_score of LogisticRegression  0.7 at random_state  640\n",
      "Mac acc score of lr  81.25 at random_state  353\n",
      "Accuracy_score of LogisticRegression  0.69375 at random_state  641\n",
      "Mac acc score of lr  81.25 at random_state  353\n",
      "Accuracy_score of LogisticRegression  0.73125 at random_state  642\n",
      "Mac acc score of lr  81.25 at random_state  353\n",
      "Accuracy_score of LogisticRegression  0.7 at random_state  643\n",
      "Mac acc score of lr  81.25 at random_state  353\n",
      "Accuracy_score of LogisticRegression  0.725 at random_state  644\n",
      "Mac acc score of lr  81.25 at random_state  353\n",
      "Accuracy_score of LogisticRegression  0.70625 at random_state  645\n",
      "Mac acc score of lr  81.25 at random_state  353\n",
      "Accuracy_score of LogisticRegression  0.69375 at random_state  646\n",
      "Mac acc score of lr  81.25 at random_state  353\n",
      "Accuracy_score of LogisticRegression  0.7 at random_state  647\n",
      "Mac acc score of lr  81.25 at random_state  353\n",
      "Accuracy_score of LogisticRegression  0.7375 at random_state  648\n",
      "Mac acc score of lr  81.25 at random_state  353\n",
      "Accuracy_score of LogisticRegression  0.73125 at random_state  649\n",
      "Mac acc score of lr  81.25 at random_state  353\n",
      "Accuracy_score of LogisticRegression  0.7 at random_state  650\n",
      "Mac acc score of lr  81.25 at random_state  353\n",
      "Accuracy_score of LogisticRegression  0.7125 at random_state  651\n",
      "Mac acc score of lr  81.25 at random_state  353\n",
      "Accuracy_score of LogisticRegression  0.7 at random_state  652\n",
      "Mac acc score of lr  81.25 at random_state  353\n",
      "Accuracy_score of LogisticRegression  0.70625 at random_state  653\n",
      "Mac acc score of lr  81.25 at random_state  353\n",
      "Accuracy_score of LogisticRegression  0.75 at random_state  654\n",
      "Mac acc score of lr  81.25 at random_state  353\n",
      "Accuracy_score of LogisticRegression  0.71875 at random_state  655\n",
      "Mac acc score of lr  81.25 at random_state  353\n",
      "Accuracy_score of LogisticRegression  0.725 at random_state  656\n",
      "Mac acc score of lr  81.25 at random_state  353\n",
      "Accuracy_score of LogisticRegression  0.75625 at random_state  657\n",
      "Mac acc score of lr  81.25 at random_state  353\n",
      "Accuracy_score of LogisticRegression  0.76875 at random_state  658\n",
      "Mac acc score of lr  81.25 at random_state  353\n",
      "Accuracy_score of LogisticRegression  0.75625 at random_state  659\n",
      "Mac acc score of lr  81.25 at random_state  353\n",
      "Accuracy_score of LogisticRegression  0.70625 at random_state  660\n",
      "Mac acc score of lr  81.25 at random_state  353\n",
      "Accuracy_score of LogisticRegression  0.71875 at random_state  661\n",
      "Mac acc score of lr  81.25 at random_state  353\n",
      "Accuracy_score of LogisticRegression  0.775 at random_state  662\n",
      "Mac acc score of lr  81.25 at random_state  353\n",
      "Accuracy_score of LogisticRegression  0.71875 at random_state  663\n",
      "Mac acc score of lr  81.25 at random_state  353\n",
      "Accuracy_score of LogisticRegression  0.73125 at random_state  664\n",
      "Mac acc score of lr  81.25 at random_state  353\n",
      "Accuracy_score of LogisticRegression  0.7125 at random_state  665\n",
      "Mac acc score of lr  81.25 at random_state  353\n",
      "Accuracy_score of LogisticRegression  0.7125 at random_state  666\n",
      "Mac acc score of lr  81.25 at random_state  353\n",
      "Accuracy_score of LogisticRegression  0.7 at random_state  667\n",
      "Mac acc score of lr  81.25 at random_state  353\n",
      "Accuracy_score of LogisticRegression  0.74375 at random_state  668\n",
      "Mac acc score of lr  81.25 at random_state  353\n",
      "Accuracy_score of LogisticRegression  0.69375 at random_state  669\n",
      "Mac acc score of lr  81.25 at random_state  353\n",
      "Accuracy_score of LogisticRegression  0.70625 at random_state  670\n",
      "Mac acc score of lr  81.25 at random_state  353\n",
      "Accuracy_score of LogisticRegression  0.7 at random_state  671\n",
      "Mac acc score of lr  81.25 at random_state  353\n",
      "Accuracy_score of LogisticRegression  0.68125 at random_state  672\n",
      "Mac acc score of lr  81.25 at random_state  353\n",
      "Accuracy_score of LogisticRegression  0.7 at random_state  673\n",
      "Mac acc score of lr  81.25 at random_state  353\n",
      "Accuracy_score of LogisticRegression  0.70625 at random_state  674\n",
      "Mac acc score of lr  81.25 at random_state  353\n",
      "Accuracy_score of LogisticRegression  0.7125 at random_state  675\n",
      "Mac acc score of lr  81.25 at random_state  353\n",
      "Accuracy_score of LogisticRegression  0.68125 at random_state  676\n",
      "Mac acc score of lr  81.25 at random_state  353\n",
      "Accuracy_score of LogisticRegression  0.70625 at random_state  677\n",
      "Mac acc score of lr  81.25 at random_state  353\n",
      "Accuracy_score of LogisticRegression  0.6875 at random_state  678\n",
      "Mac acc score of lr  81.25 at random_state  353\n",
      "Accuracy_score of LogisticRegression  0.79375 at random_state  679\n",
      "Mac acc score of lr  81.25 at random_state  353\n",
      "Accuracy_score of LogisticRegression  0.70625 at random_state  680\n",
      "Mac acc score of lr  81.25 at random_state  353\n",
      "Accuracy_score of LogisticRegression  0.70625 at random_state  681\n",
      "Mac acc score of lr  81.25 at random_state  353\n",
      "Accuracy_score of LogisticRegression  0.7375 at random_state  682\n",
      "Mac acc score of lr  81.25 at random_state  353\n",
      "Accuracy_score of LogisticRegression  0.7125 at random_state  683\n",
      "Mac acc score of lr  81.25 at random_state  353\n",
      "Accuracy_score of LogisticRegression  0.7125 at random_state  684\n",
      "Mac acc score of lr  81.25 at random_state  353\n",
      "Accuracy_score of LogisticRegression  0.74375 at random_state  685\n",
      "Mac acc score of lr  81.25 at random_state  353\n",
      "Accuracy_score of LogisticRegression  0.6625 at random_state  686\n",
      "Mac acc score of lr  81.25 at random_state  353\n",
      "Accuracy_score of LogisticRegression  0.7125 at random_state  687\n",
      "Mac acc score of lr  81.25 at random_state  353\n",
      "Accuracy_score of LogisticRegression  0.675 at random_state  688\n",
      "Mac acc score of lr  81.25 at random_state  353\n",
      "Accuracy_score of LogisticRegression  0.73125 at random_state  689\n",
      "Mac acc score of lr  81.25 at random_state  353\n",
      "Accuracy_score of LogisticRegression  0.775 at random_state  690\n",
      "Mac acc score of lr  81.25 at random_state  353\n",
      "Accuracy_score of LogisticRegression  0.74375 at random_state  691\n",
      "Mac acc score of lr  81.25 at random_state  353\n",
      "Accuracy_score of LogisticRegression  0.78125 at random_state  692\n",
      "Mac acc score of lr  81.25 at random_state  353\n",
      "Accuracy_score of LogisticRegression  0.71875 at random_state  693\n",
      "Mac acc score of lr  81.25 at random_state  353\n",
      "Accuracy_score of LogisticRegression  0.7 at random_state  694\n",
      "Mac acc score of lr  81.25 at random_state  353\n",
      "Accuracy_score of LogisticRegression  0.7375 at random_state  695\n",
      "Mac acc score of lr  81.25 at random_state  353\n",
      "Accuracy_score of LogisticRegression  0.7625 at random_state  696\n",
      "Mac acc score of lr  81.25 at random_state  353\n",
      "Accuracy_score of LogisticRegression  0.725 at random_state  697\n",
      "Mac acc score of lr  81.25 at random_state  353\n",
      "Accuracy_score of LogisticRegression  0.7125 at random_state  698\n",
      "Mac acc score of lr  81.25 at random_state  353\n",
      "Accuracy_score of LogisticRegression  0.7 at random_state  699\n",
      "Mac acc score of lr  81.25 at random_state  353\n",
      "Accuracy_score of LogisticRegression  0.69375 at random_state  700\n",
      "Mac acc score of lr  81.25 at random_state  353\n",
      "Accuracy_score of LogisticRegression  0.69375 at random_state  701\n",
      "Mac acc score of lr  81.25 at random_state  353\n",
      "Accuracy_score of LogisticRegression  0.7125 at random_state  702\n",
      "Mac acc score of lr  81.25 at random_state  353\n",
      "Accuracy_score of LogisticRegression  0.7375 at random_state  703\n",
      "Mac acc score of lr  81.25 at random_state  353\n",
      "Accuracy_score of LogisticRegression  0.70625 at random_state  704\n",
      "Mac acc score of lr  81.25 at random_state  353\n",
      "Accuracy_score of LogisticRegression  0.6375 at random_state  705\n",
      "Mac acc score of lr  81.25 at random_state  353\n",
      "Accuracy_score of LogisticRegression  0.70625 at random_state  706\n",
      "Mac acc score of lr  81.25 at random_state  353\n",
      "Accuracy_score of LogisticRegression  0.71875 at random_state  707\n",
      "Mac acc score of lr  81.25 at random_state  353\n",
      "Accuracy_score of LogisticRegression  0.70625 at random_state  708\n",
      "Mac acc score of lr  81.25 at random_state  353\n",
      "Accuracy_score of LogisticRegression  0.7625 at random_state  709\n",
      "Mac acc score of lr  81.25 at random_state  353\n",
      "Accuracy_score of LogisticRegression  0.70625 at random_state  710\n",
      "Mac acc score of lr  81.25 at random_state  353\n",
      "Accuracy_score of LogisticRegression  0.74375 at random_state  711\n",
      "Mac acc score of lr  81.25 at random_state  353\n",
      "Accuracy_score of LogisticRegression  0.71875 at random_state  712\n",
      "Mac acc score of lr  81.25 at random_state  353\n",
      "Accuracy_score of LogisticRegression  0.69375 at random_state  713\n",
      "Mac acc score of lr  81.25 at random_state  353\n",
      "Accuracy_score of LogisticRegression  0.73125 at random_state  714\n",
      "Mac acc score of lr  81.25 at random_state  353\n",
      "Accuracy_score of LogisticRegression  0.725 at random_state  715\n",
      "Mac acc score of lr  81.25 at random_state  353\n",
      "Accuracy_score of LogisticRegression  0.75625 at random_state  716\n",
      "Mac acc score of lr  81.25 at random_state  353\n",
      "Accuracy_score of LogisticRegression  0.64375 at random_state  717\n",
      "Mac acc score of lr  81.25 at random_state  353\n",
      "Accuracy_score of LogisticRegression  0.725 at random_state  718\n",
      "Mac acc score of lr  81.25 at random_state  353\n",
      "Accuracy_score of LogisticRegression  0.775 at random_state  719\n",
      "Mac acc score of lr  81.25 at random_state  353\n",
      "Accuracy_score of LogisticRegression  0.70625 at random_state  720\n",
      "Mac acc score of lr  81.25 at random_state  353\n",
      "Accuracy_score of LogisticRegression  0.725 at random_state  721\n",
      "Mac acc score of lr  81.25 at random_state  353\n",
      "Accuracy_score of LogisticRegression  0.6625 at random_state  722\n",
      "Mac acc score of lr  81.25 at random_state  353\n",
      "Accuracy_score of LogisticRegression  0.74375 at random_state  723\n",
      "Mac acc score of lr  81.25 at random_state  353\n",
      "Accuracy_score of LogisticRegression  0.6625 at random_state  724\n",
      "Mac acc score of lr  81.25 at random_state  353\n",
      "Accuracy_score of LogisticRegression  0.71875 at random_state  725\n",
      "Mac acc score of lr  81.25 at random_state  353\n",
      "Accuracy_score of LogisticRegression  0.70625 at random_state  726\n",
      "Mac acc score of lr  81.25 at random_state  353\n",
      "Accuracy_score of LogisticRegression  0.675 at random_state  727\n",
      "Mac acc score of lr  81.25 at random_state  353\n",
      "Accuracy_score of LogisticRegression  0.7625 at random_state  728\n",
      "Mac acc score of lr  81.25 at random_state  353\n",
      "Accuracy_score of LogisticRegression  0.71875 at random_state  729\n",
      "Mac acc score of lr  81.25 at random_state  353\n",
      "Accuracy_score of LogisticRegression  0.7125 at random_state  730\n",
      "Mac acc score of lr  81.25 at random_state  353\n",
      "Accuracy_score of LogisticRegression  0.725 at random_state  731\n",
      "Mac acc score of lr  81.25 at random_state  353\n",
      "Accuracy_score of LogisticRegression  0.725 at random_state  732\n",
      "Mac acc score of lr  81.25 at random_state  353\n",
      "Accuracy_score of LogisticRegression  0.7125 at random_state  733\n",
      "Mac acc score of lr  81.25 at random_state  353\n",
      "Accuracy_score of LogisticRegression  0.68125 at random_state  734\n",
      "Mac acc score of lr  81.25 at random_state  353\n",
      "Accuracy_score of LogisticRegression  0.73125 at random_state  735\n",
      "Mac acc score of lr  81.25 at random_state  353\n",
      "Accuracy_score of LogisticRegression  0.65 at random_state  736\n",
      "Mac acc score of lr  81.25 at random_state  353\n",
      "Accuracy_score of LogisticRegression  0.7125 at random_state  737\n",
      "Mac acc score of lr  81.25 at random_state  353\n",
      "Accuracy_score of LogisticRegression  0.73125 at random_state  738\n",
      "Mac acc score of lr  81.25 at random_state  353\n",
      "Accuracy_score of LogisticRegression  0.6875 at random_state  739\n",
      "Mac acc score of lr  81.25 at random_state  353\n",
      "Accuracy_score of LogisticRegression  0.725 at random_state  740\n",
      "Mac acc score of lr  81.25 at random_state  353\n",
      "Accuracy_score of LogisticRegression  0.6875 at random_state  741\n",
      "Mac acc score of lr  81.25 at random_state  353\n",
      "Accuracy_score of LogisticRegression  0.75 at random_state  742\n",
      "Mac acc score of lr  81.25 at random_state  353\n",
      "Accuracy_score of LogisticRegression  0.68125 at random_state  743\n",
      "Mac acc score of lr  81.25 at random_state  353\n",
      "Accuracy_score of LogisticRegression  0.71875 at random_state  744\n",
      "Mac acc score of lr  81.25 at random_state  353\n",
      "Accuracy_score of LogisticRegression  0.6625 at random_state  745\n",
      "Mac acc score of lr  81.25 at random_state  353\n",
      "Accuracy_score of LogisticRegression  0.66875 at random_state  746\n",
      "Mac acc score of lr  81.25 at random_state  353\n",
      "Accuracy_score of LogisticRegression  0.74375 at random_state  747\n",
      "Mac acc score of lr  81.25 at random_state  353\n",
      "Accuracy_score of LogisticRegression  0.725 at random_state  748\n",
      "Mac acc score of lr  81.25 at random_state  353\n",
      "Accuracy_score of LogisticRegression  0.69375 at random_state  749\n",
      "Mac acc score of lr  81.25 at random_state  353\n",
      "Accuracy_score of LogisticRegression  0.69375 at random_state  750\n",
      "Mac acc score of lr  81.25 at random_state  353\n",
      "Accuracy_score of LogisticRegression  0.70625 at random_state  751\n",
      "Mac acc score of lr  81.25 at random_state  353\n",
      "Accuracy_score of LogisticRegression  0.725 at random_state  752\n",
      "Mac acc score of lr  81.25 at random_state  353\n",
      "Accuracy_score of LogisticRegression  0.68125 at random_state  753\n",
      "Mac acc score of lr  81.25 at random_state  353\n",
      "Accuracy_score of LogisticRegression  0.73125 at random_state  754\n",
      "Mac acc score of lr  81.25 at random_state  353\n",
      "Accuracy_score of LogisticRegression  0.775 at random_state  755\n",
      "Mac acc score of lr  81.25 at random_state  353\n",
      "Accuracy_score of LogisticRegression  0.7375 at random_state  756\n",
      "Mac acc score of lr  81.25 at random_state  353\n",
      "Accuracy_score of LogisticRegression  0.76875 at random_state  757\n",
      "Mac acc score of lr  81.25 at random_state  353\n",
      "Accuracy_score of LogisticRegression  0.74375 at random_state  758\n",
      "Mac acc score of lr  81.25 at random_state  353\n",
      "Accuracy_score of LogisticRegression  0.7375 at random_state  759\n",
      "Mac acc score of lr  81.25 at random_state  353\n",
      "Accuracy_score of LogisticRegression  0.70625 at random_state  760\n",
      "Mac acc score of lr  81.25 at random_state  353\n",
      "Accuracy_score of LogisticRegression  0.7125 at random_state  761\n",
      "Mac acc score of lr  81.25 at random_state  353\n",
      "Accuracy_score of LogisticRegression  0.7375 at random_state  762\n",
      "Mac acc score of lr  81.25 at random_state  353\n",
      "Accuracy_score of LogisticRegression  0.68125 at random_state  763\n",
      "Mac acc score of lr  81.25 at random_state  353\n",
      "Accuracy_score of LogisticRegression  0.76875 at random_state  764\n",
      "Mac acc score of lr  81.25 at random_state  353\n",
      "Accuracy_score of LogisticRegression  0.71875 at random_state  765\n",
      "Mac acc score of lr  81.25 at random_state  353\n",
      "Accuracy_score of LogisticRegression  0.75 at random_state  766\n",
      "Mac acc score of lr  81.25 at random_state  353\n",
      "Accuracy_score of LogisticRegression  0.6875 at random_state  767\n",
      "Mac acc score of lr  81.25 at random_state  353\n",
      "Accuracy_score of LogisticRegression  0.69375 at random_state  768\n",
      "Mac acc score of lr  81.25 at random_state  353\n",
      "Accuracy_score of LogisticRegression  0.6625 at random_state  769\n",
      "Mac acc score of lr  81.25 at random_state  353\n",
      "Accuracy_score of LogisticRegression  0.6875 at random_state  770\n",
      "Mac acc score of lr  81.25 at random_state  353\n",
      "Accuracy_score of LogisticRegression  0.70625 at random_state  771\n",
      "Mac acc score of lr  81.25 at random_state  353\n",
      "Accuracy_score of LogisticRegression  0.75625 at random_state  772\n",
      "Mac acc score of lr  81.25 at random_state  353\n",
      "Accuracy_score of LogisticRegression  0.71875 at random_state  773\n",
      "Mac acc score of lr  81.25 at random_state  353\n",
      "Accuracy_score of LogisticRegression  0.71875 at random_state  774\n",
      "Mac acc score of lr  81.25 at random_state  353\n",
      "Accuracy_score of LogisticRegression  0.69375 at random_state  775\n",
      "Mac acc score of lr  81.25 at random_state  353\n",
      "Accuracy_score of LogisticRegression  0.725 at random_state  776\n",
      "Mac acc score of lr  81.25 at random_state  353\n",
      "Accuracy_score of LogisticRegression  0.7375 at random_state  777\n",
      "Mac acc score of lr  81.25 at random_state  353\n",
      "Accuracy_score of LogisticRegression  0.74375 at random_state  778\n",
      "Mac acc score of lr  81.25 at random_state  353\n",
      "Accuracy_score of LogisticRegression  0.74375 at random_state  779\n",
      "Mac acc score of lr  81.25 at random_state  353\n",
      "Accuracy_score of LogisticRegression  0.75625 at random_state  780\n",
      "Mac acc score of lr  81.25 at random_state  353\n",
      "Accuracy_score of LogisticRegression  0.71875 at random_state  781\n",
      "Mac acc score of lr  81.25 at random_state  353\n",
      "Accuracy_score of LogisticRegression  0.7125 at random_state  782\n",
      "Mac acc score of lr  81.25 at random_state  353\n",
      "Accuracy_score of LogisticRegression  0.73125 at random_state  783\n",
      "Mac acc score of lr  81.25 at random_state  353\n",
      "Accuracy_score of LogisticRegression  0.675 at random_state  784\n",
      "Mac acc score of lr  81.25 at random_state  353\n",
      "Accuracy_score of LogisticRegression  0.71875 at random_state  785\n",
      "Mac acc score of lr  81.25 at random_state  353\n",
      "Accuracy_score of LogisticRegression  0.7125 at random_state  786\n",
      "Mac acc score of lr  81.25 at random_state  353\n",
      "Accuracy_score of LogisticRegression  0.7375 at random_state  787\n",
      "Mac acc score of lr  81.25 at random_state  353\n",
      "Accuracy_score of LogisticRegression  0.79375 at random_state  788\n",
      "Mac acc score of lr  81.25 at random_state  353\n",
      "Accuracy_score of LogisticRegression  0.73125 at random_state  789\n",
      "Mac acc score of lr  81.25 at random_state  353\n",
      "Accuracy_score of LogisticRegression  0.7 at random_state  790\n",
      "Mac acc score of lr  81.25 at random_state  353\n",
      "Accuracy_score of LogisticRegression  0.725 at random_state  791\n",
      "Mac acc score of lr  81.25 at random_state  353\n",
      "Accuracy_score of LogisticRegression  0.7125 at random_state  792\n",
      "Mac acc score of lr  81.25 at random_state  353\n",
      "Accuracy_score of LogisticRegression  0.74375 at random_state  793\n",
      "Mac acc score of lr  81.25 at random_state  353\n",
      "Accuracy_score of LogisticRegression  0.71875 at random_state  794\n",
      "Mac acc score of lr  81.25 at random_state  353\n",
      "Accuracy_score of LogisticRegression  0.625 at random_state  795\n",
      "Mac acc score of lr  81.25 at random_state  353\n",
      "Accuracy_score of LogisticRegression  0.68125 at random_state  796\n",
      "Mac acc score of lr  81.25 at random_state  353\n",
      "Accuracy_score of LogisticRegression  0.70625 at random_state  797\n",
      "Mac acc score of lr  81.25 at random_state  353\n",
      "Accuracy_score of LogisticRegression  0.6875 at random_state  798\n",
      "Mac acc score of lr  81.25 at random_state  353\n",
      "Accuracy_score of LogisticRegression  0.75 at random_state  799\n",
      "Mac acc score of lr  81.25 at random_state  353\n",
      "Accuracy_score of LogisticRegression  0.7 at random_state  800\n",
      "Mac acc score of lr  81.25 at random_state  353\n",
      "Accuracy_score of LogisticRegression  0.71875 at random_state  801\n",
      "Mac acc score of lr  81.25 at random_state  353\n",
      "Accuracy_score of LogisticRegression  0.675 at random_state  802\n",
      "Mac acc score of lr  81.25 at random_state  353\n",
      "Accuracy_score of LogisticRegression  0.71875 at random_state  803\n",
      "Mac acc score of lr  81.25 at random_state  353\n",
      "Accuracy_score of LogisticRegression  0.675 at random_state  804\n",
      "Mac acc score of lr  81.25 at random_state  353\n",
      "Accuracy_score of LogisticRegression  0.74375 at random_state  805\n",
      "Mac acc score of lr  81.25 at random_state  353\n",
      "Accuracy_score of LogisticRegression  0.71875 at random_state  806\n",
      "Mac acc score of lr  81.25 at random_state  353\n",
      "Accuracy_score of LogisticRegression  0.7 at random_state  807\n",
      "Mac acc score of lr  81.25 at random_state  353\n",
      "Accuracy_score of LogisticRegression  0.75625 at random_state  808\n",
      "Mac acc score of lr  81.25 at random_state  353\n",
      "Accuracy_score of LogisticRegression  0.7125 at random_state  809\n",
      "Mac acc score of lr  81.25 at random_state  353\n",
      "Accuracy_score of LogisticRegression  0.69375 at random_state  810\n",
      "Mac acc score of lr  81.25 at random_state  353\n",
      "Accuracy_score of LogisticRegression  0.7 at random_state  811\n",
      "Mac acc score of lr  81.25 at random_state  353\n",
      "Accuracy_score of LogisticRegression  0.725 at random_state  812\n",
      "Mac acc score of lr  81.25 at random_state  353\n",
      "Accuracy_score of LogisticRegression  0.6875 at random_state  813\n",
      "Mac acc score of lr  81.25 at random_state  353\n",
      "Accuracy_score of LogisticRegression  0.7625 at random_state  814\n",
      "Mac acc score of lr  81.25 at random_state  353\n",
      "Accuracy_score of LogisticRegression  0.7 at random_state  815\n",
      "Mac acc score of lr  81.25 at random_state  353\n",
      "Accuracy_score of LogisticRegression  0.75625 at random_state  816\n",
      "Mac acc score of lr  81.25 at random_state  353\n",
      "Accuracy_score of LogisticRegression  0.7 at random_state  817\n",
      "Mac acc score of lr  81.25 at random_state  353\n",
      "Accuracy_score of LogisticRegression  0.73125 at random_state  818\n",
      "Mac acc score of lr  81.25 at random_state  353\n",
      "Accuracy_score of LogisticRegression  0.7125 at random_state  819\n",
      "Mac acc score of lr  81.25 at random_state  353\n",
      "Accuracy_score of LogisticRegression  0.7125 at random_state  820\n",
      "Mac acc score of lr  81.25 at random_state  353\n",
      "Accuracy_score of LogisticRegression  0.68125 at random_state  821\n",
      "Mac acc score of lr  81.25 at random_state  353\n",
      "Accuracy_score of LogisticRegression  0.73125 at random_state  822\n",
      "Mac acc score of lr  81.25 at random_state  353\n",
      "Accuracy_score of LogisticRegression  0.71875 at random_state  823\n",
      "Mac acc score of lr  81.25 at random_state  353\n",
      "Accuracy_score of LogisticRegression  0.7125 at random_state  824\n",
      "Mac acc score of lr  81.25 at random_state  353\n",
      "Accuracy_score of LogisticRegression  0.7 at random_state  825\n",
      "Mac acc score of lr  81.25 at random_state  353\n",
      "Accuracy_score of LogisticRegression  0.7125 at random_state  826\n",
      "Mac acc score of lr  81.25 at random_state  353\n",
      "Accuracy_score of LogisticRegression  0.69375 at random_state  827\n",
      "Mac acc score of lr  81.25 at random_state  353\n",
      "Accuracy_score of LogisticRegression  0.725 at random_state  828\n",
      "Mac acc score of lr  81.25 at random_state  353\n",
      "Accuracy_score of LogisticRegression  0.75 at random_state  829\n",
      "Mac acc score of lr  81.25 at random_state  353\n",
      "Accuracy_score of LogisticRegression  0.70625 at random_state  830\n",
      "Mac acc score of lr  81.25 at random_state  353\n",
      "Accuracy_score of LogisticRegression  0.7625 at random_state  831\n",
      "Mac acc score of lr  81.25 at random_state  353\n",
      "Accuracy_score of LogisticRegression  0.65625 at random_state  832\n",
      "Mac acc score of lr  81.25 at random_state  353\n",
      "Accuracy_score of LogisticRegression  0.7125 at random_state  833\n",
      "Mac acc score of lr  81.25 at random_state  353\n",
      "Accuracy_score of LogisticRegression  0.7125 at random_state  834\n",
      "Mac acc score of lr  81.25 at random_state  353\n",
      "Accuracy_score of LogisticRegression  0.71875 at random_state  835\n",
      "Mac acc score of lr  81.25 at random_state  353\n",
      "Accuracy_score of LogisticRegression  0.7 at random_state  836\n",
      "Mac acc score of lr  81.25 at random_state  353\n",
      "Accuracy_score of LogisticRegression  0.75 at random_state  837\n",
      "Mac acc score of lr  81.25 at random_state  353\n",
      "Accuracy_score of LogisticRegression  0.75 at random_state  838\n",
      "Mac acc score of lr  81.25 at random_state  353\n",
      "Accuracy_score of LogisticRegression  0.74375 at random_state  839\n",
      "Mac acc score of lr  81.25 at random_state  353\n",
      "Accuracy_score of LogisticRegression  0.7125 at random_state  840\n",
      "Mac acc score of lr  81.25 at random_state  353\n",
      "Accuracy_score of LogisticRegression  0.7125 at random_state  841\n",
      "Mac acc score of lr  81.25 at random_state  353\n",
      "Accuracy_score of LogisticRegression  0.76875 at random_state  842\n",
      "Mac acc score of lr  81.25 at random_state  353\n",
      "Accuracy_score of LogisticRegression  0.70625 at random_state  843\n",
      "Mac acc score of lr  81.25 at random_state  353\n",
      "Accuracy_score of LogisticRegression  0.675 at random_state  844\n",
      "Mac acc score of lr  81.25 at random_state  353\n",
      "Accuracy_score of LogisticRegression  0.6875 at random_state  845\n",
      "Mac acc score of lr  81.25 at random_state  353\n",
      "Accuracy_score of LogisticRegression  0.70625 at random_state  846\n",
      "Mac acc score of lr  81.25 at random_state  353\n",
      "Accuracy_score of LogisticRegression  0.7125 at random_state  847\n",
      "Mac acc score of lr  81.25 at random_state  353\n",
      "Accuracy_score of LogisticRegression  0.68125 at random_state  848\n",
      "Mac acc score of lr  81.25 at random_state  353\n",
      "Accuracy_score of LogisticRegression  0.68125 at random_state  849\n",
      "Mac acc score of lr  81.25 at random_state  353\n",
      "Accuracy_score of LogisticRegression  0.64375 at random_state  850\n",
      "Mac acc score of lr  81.25 at random_state  353\n",
      "Accuracy_score of LogisticRegression  0.73125 at random_state  851\n",
      "Mac acc score of lr  81.25 at random_state  353\n",
      "Accuracy_score of LogisticRegression  0.73125 at random_state  852\n",
      "Mac acc score of lr  81.25 at random_state  353\n",
      "Accuracy_score of LogisticRegression  0.775 at random_state  853\n",
      "Mac acc score of lr  81.25 at random_state  353\n",
      "Accuracy_score of LogisticRegression  0.7375 at random_state  854\n",
      "Mac acc score of lr  81.25 at random_state  353\n",
      "Accuracy_score of LogisticRegression  0.7375 at random_state  855\n",
      "Mac acc score of lr  81.25 at random_state  353\n",
      "Accuracy_score of LogisticRegression  0.74375 at random_state  856\n",
      "Mac acc score of lr  81.25 at random_state  353\n",
      "Accuracy_score of LogisticRegression  0.75 at random_state  857\n",
      "Mac acc score of lr  81.25 at random_state  353\n",
      "Accuracy_score of LogisticRegression  0.6875 at random_state  858\n",
      "Mac acc score of lr  81.25 at random_state  353\n",
      "Accuracy_score of LogisticRegression  0.71875 at random_state  859\n",
      "Mac acc score of lr  81.25 at random_state  353\n",
      "Accuracy_score of LogisticRegression  0.69375 at random_state  860\n",
      "Mac acc score of lr  81.25 at random_state  353\n",
      "Accuracy_score of LogisticRegression  0.6875 at random_state  861\n",
      "Mac acc score of lr  81.25 at random_state  353\n",
      "Accuracy_score of LogisticRegression  0.75625 at random_state  862\n",
      "Mac acc score of lr  81.25 at random_state  353\n",
      "Accuracy_score of LogisticRegression  0.68125 at random_state  863\n",
      "Mac acc score of lr  81.25 at random_state  353\n",
      "Accuracy_score of LogisticRegression  0.725 at random_state  864\n",
      "Mac acc score of lr  81.25 at random_state  353\n",
      "Accuracy_score of LogisticRegression  0.74375 at random_state  865\n",
      "Mac acc score of lr  81.25 at random_state  353\n",
      "Accuracy_score of LogisticRegression  0.68125 at random_state  866\n",
      "Mac acc score of lr  81.25 at random_state  353\n",
      "Accuracy_score of LogisticRegression  0.7 at random_state  867\n",
      "Mac acc score of lr  81.25 at random_state  353\n",
      "Accuracy_score of LogisticRegression  0.7125 at random_state  868\n",
      "Mac acc score of lr  81.25 at random_state  353\n",
      "Accuracy_score of LogisticRegression  0.7 at random_state  869\n",
      "Mac acc score of lr  81.25 at random_state  353\n",
      "Accuracy_score of LogisticRegression  0.7125 at random_state  870\n",
      "Mac acc score of lr  81.25 at random_state  353\n",
      "Accuracy_score of LogisticRegression  0.75 at random_state  871\n",
      "Mac acc score of lr  81.25 at random_state  353\n",
      "Accuracy_score of LogisticRegression  0.6875 at random_state  872\n",
      "Mac acc score of lr  81.25 at random_state  353\n",
      "Accuracy_score of LogisticRegression  0.6875 at random_state  873\n",
      "Mac acc score of lr  81.25 at random_state  353\n",
      "Accuracy_score of LogisticRegression  0.7375 at random_state  874\n",
      "Mac acc score of lr  81.25 at random_state  353\n",
      "Accuracy_score of LogisticRegression  0.7125 at random_state  875\n",
      "Mac acc score of lr  81.25 at random_state  353\n",
      "Accuracy_score of LogisticRegression  0.75 at random_state  876\n",
      "Mac acc score of lr  81.25 at random_state  353\n",
      "Accuracy_score of LogisticRegression  0.66875 at random_state  877\n",
      "Mac acc score of lr  81.25 at random_state  353\n",
      "Accuracy_score of LogisticRegression  0.73125 at random_state  878\n",
      "Mac acc score of lr  81.25 at random_state  353\n",
      "Accuracy_score of LogisticRegression  0.76875 at random_state  879\n",
      "Mac acc score of lr  81.25 at random_state  353\n",
      "Accuracy_score of LogisticRegression  0.73125 at random_state  880\n",
      "Mac acc score of lr  81.25 at random_state  353\n",
      "Accuracy_score of LogisticRegression  0.68125 at random_state  881\n",
      "Mac acc score of lr  81.25 at random_state  353\n",
      "Accuracy_score of LogisticRegression  0.75 at random_state  882\n",
      "Mac acc score of lr  81.25 at random_state  353\n",
      "Accuracy_score of LogisticRegression  0.74375 at random_state  883\n",
      "Mac acc score of lr  81.25 at random_state  353\n",
      "Accuracy_score of LogisticRegression  0.76875 at random_state  884\n",
      "Mac acc score of lr  81.25 at random_state  353\n",
      "Accuracy_score of LogisticRegression  0.73125 at random_state  885\n",
      "Mac acc score of lr  81.25 at random_state  353\n",
      "Accuracy_score of LogisticRegression  0.69375 at random_state  886\n",
      "Mac acc score of lr  81.25 at random_state  353\n",
      "Accuracy_score of LogisticRegression  0.7375 at random_state  887\n",
      "Mac acc score of lr  81.25 at random_state  353\n",
      "Accuracy_score of LogisticRegression  0.725 at random_state  888\n",
      "Mac acc score of lr  81.25 at random_state  353\n",
      "Accuracy_score of LogisticRegression  0.7375 at random_state  889\n",
      "Mac acc score of lr  81.25 at random_state  353\n",
      "Accuracy_score of LogisticRegression  0.75625 at random_state  890\n",
      "Mac acc score of lr  81.25 at random_state  353\n",
      "Accuracy_score of LogisticRegression  0.73125 at random_state  891\n",
      "Mac acc score of lr  81.25 at random_state  353\n",
      "Accuracy_score of LogisticRegression  0.7 at random_state  892\n",
      "Mac acc score of lr  81.25 at random_state  353\n",
      "Accuracy_score of LogisticRegression  0.75625 at random_state  893\n",
      "Mac acc score of lr  81.25 at random_state  353\n",
      "Accuracy_score of LogisticRegression  0.7375 at random_state  894\n",
      "Mac acc score of lr  81.25 at random_state  353\n",
      "Accuracy_score of LogisticRegression  0.66875 at random_state  895\n",
      "Mac acc score of lr  81.25 at random_state  353\n",
      "Accuracy_score of LogisticRegression  0.78125 at random_state  896\n",
      "Mac acc score of lr  81.25 at random_state  353\n",
      "Accuracy_score of LogisticRegression  0.775 at random_state  897\n",
      "Mac acc score of lr  81.25 at random_state  353\n",
      "Accuracy_score of LogisticRegression  0.65 at random_state  898\n",
      "Mac acc score of lr  81.25 at random_state  353\n",
      "Accuracy_score of LogisticRegression  0.76875 at random_state  899\n",
      "Mac acc score of lr  81.25 at random_state  353\n",
      "Accuracy_score of LogisticRegression  0.76875 at random_state  900\n",
      "Mac acc score of lr  81.25 at random_state  353\n",
      "Accuracy_score of LogisticRegression  0.7375 at random_state  901\n",
      "Mac acc score of lr  81.25 at random_state  353\n",
      "Accuracy_score of LogisticRegression  0.75625 at random_state  902\n",
      "Mac acc score of lr  81.25 at random_state  353\n",
      "Accuracy_score of LogisticRegression  0.70625 at random_state  903\n",
      "Mac acc score of lr  81.25 at random_state  353\n",
      "Accuracy_score of LogisticRegression  0.71875 at random_state  904\n",
      "Mac acc score of lr  81.25 at random_state  353\n",
      "Accuracy_score of LogisticRegression  0.74375 at random_state  905\n",
      "Mac acc score of lr  81.25 at random_state  353\n",
      "Accuracy_score of LogisticRegression  0.675 at random_state  906\n",
      "Mac acc score of lr  81.25 at random_state  353\n",
      "Accuracy_score of LogisticRegression  0.66875 at random_state  907\n",
      "Mac acc score of lr  81.25 at random_state  353\n",
      "Accuracy_score of LogisticRegression  0.75 at random_state  908\n",
      "Mac acc score of lr  81.25 at random_state  353\n",
      "Accuracy_score of LogisticRegression  0.69375 at random_state  909\n",
      "Mac acc score of lr  81.25 at random_state  353\n",
      "Accuracy_score of LogisticRegression  0.69375 at random_state  910\n",
      "Mac acc score of lr  81.25 at random_state  353\n",
      "Accuracy_score of LogisticRegression  0.6625 at random_state  911\n",
      "Mac acc score of lr  81.25 at random_state  353\n",
      "Accuracy_score of LogisticRegression  0.73125 at random_state  912\n",
      "Mac acc score of lr  81.25 at random_state  353\n",
      "Accuracy_score of LogisticRegression  0.675 at random_state  913\n",
      "Mac acc score of lr  81.25 at random_state  353\n",
      "Accuracy_score of LogisticRegression  0.70625 at random_state  914\n",
      "Mac acc score of lr  81.25 at random_state  353\n",
      "Accuracy_score of LogisticRegression  0.725 at random_state  915\n",
      "Mac acc score of lr  81.25 at random_state  353\n",
      "Accuracy_score of LogisticRegression  0.7 at random_state  916\n",
      "Mac acc score of lr  81.25 at random_state  353\n",
      "Accuracy_score of LogisticRegression  0.7375 at random_state  917\n",
      "Mac acc score of lr  81.25 at random_state  353\n",
      "Accuracy_score of LogisticRegression  0.6125 at random_state  918\n",
      "Mac acc score of lr  81.25 at random_state  353\n",
      "Accuracy_score of LogisticRegression  0.675 at random_state  919\n",
      "Mac acc score of lr  81.25 at random_state  353\n",
      "Accuracy_score of LogisticRegression  0.6875 at random_state  920\n",
      "Mac acc score of lr  81.25 at random_state  353\n",
      "Accuracy_score of LogisticRegression  0.7375 at random_state  921\n",
      "Mac acc score of lr  81.25 at random_state  353\n",
      "Accuracy_score of LogisticRegression  0.725 at random_state  922\n",
      "Mac acc score of lr  81.25 at random_state  353\n",
      "Accuracy_score of LogisticRegression  0.74375 at random_state  923\n",
      "Mac acc score of lr  81.25 at random_state  353\n",
      "Accuracy_score of LogisticRegression  0.6625 at random_state  924\n",
      "Mac acc score of lr  81.25 at random_state  353\n",
      "Accuracy_score of LogisticRegression  0.68125 at random_state  925\n",
      "Mac acc score of lr  81.25 at random_state  353\n",
      "Accuracy_score of LogisticRegression  0.70625 at random_state  926\n",
      "Mac acc score of lr  81.25 at random_state  353\n",
      "Accuracy_score of LogisticRegression  0.675 at random_state  927\n",
      "Mac acc score of lr  81.25 at random_state  353\n",
      "Accuracy_score of LogisticRegression  0.65 at random_state  928\n",
      "Mac acc score of lr  81.25 at random_state  353\n",
      "Accuracy_score of LogisticRegression  0.69375 at random_state  929\n",
      "Mac acc score of lr  81.25 at random_state  353\n",
      "Accuracy_score of LogisticRegression  0.73125 at random_state  930\n",
      "Mac acc score of lr  81.25 at random_state  353\n",
      "Accuracy_score of LogisticRegression  0.75625 at random_state  931\n",
      "Mac acc score of lr  81.25 at random_state  353\n",
      "Accuracy_score of LogisticRegression  0.7125 at random_state  932\n",
      "Mac acc score of lr  81.25 at random_state  353\n",
      "Accuracy_score of LogisticRegression  0.75 at random_state  933\n",
      "Mac acc score of lr  81.25 at random_state  353\n",
      "Accuracy_score of LogisticRegression  0.68125 at random_state  934\n",
      "Mac acc score of lr  81.25 at random_state  353\n",
      "Accuracy_score of LogisticRegression  0.7125 at random_state  935\n",
      "Mac acc score of lr  81.25 at random_state  353\n",
      "Accuracy_score of LogisticRegression  0.7 at random_state  936\n",
      "Mac acc score of lr  81.25 at random_state  353\n",
      "Accuracy_score of LogisticRegression  0.68125 at random_state  937\n",
      "Mac acc score of lr  81.25 at random_state  353\n",
      "Accuracy_score of LogisticRegression  0.725 at random_state  938\n",
      "Mac acc score of lr  81.25 at random_state  353\n",
      "Accuracy_score of LogisticRegression  0.68125 at random_state  939\n",
      "Mac acc score of lr  81.25 at random_state  353\n",
      "Accuracy_score of LogisticRegression  0.76875 at random_state  940\n",
      "Mac acc score of lr  81.25 at random_state  353\n",
      "Accuracy_score of LogisticRegression  0.71875 at random_state  941\n",
      "Mac acc score of lr  81.25 at random_state  353\n",
      "Accuracy_score of LogisticRegression  0.7 at random_state  942\n",
      "Mac acc score of lr  81.25 at random_state  353\n",
      "Accuracy_score of LogisticRegression  0.76875 at random_state  943\n",
      "Mac acc score of lr  81.25 at random_state  353\n",
      "Accuracy_score of LogisticRegression  0.71875 at random_state  944\n",
      "Mac acc score of lr  81.25 at random_state  353\n",
      "Accuracy_score of LogisticRegression  0.74375 at random_state  945\n",
      "Mac acc score of lr  81.25 at random_state  353\n",
      "Accuracy_score of LogisticRegression  0.725 at random_state  946\n",
      "Mac acc score of lr  81.25 at random_state  353\n",
      "Accuracy_score of LogisticRegression  0.73125 at random_state  947\n",
      "Mac acc score of lr  81.25 at random_state  353\n",
      "Accuracy_score of LogisticRegression  0.7125 at random_state  948\n",
      "Mac acc score of lr  81.25 at random_state  353\n",
      "Accuracy_score of LogisticRegression  0.7375 at random_state  949\n",
      "Mac acc score of lr  81.25 at random_state  353\n",
      "Accuracy_score of LogisticRegression  0.74375 at random_state  950\n",
      "Mac acc score of lr  81.25 at random_state  353\n",
      "Accuracy_score of LogisticRegression  0.69375 at random_state  951\n",
      "Mac acc score of lr  81.25 at random_state  353\n",
      "Accuracy_score of LogisticRegression  0.725 at random_state  952\n",
      "Mac acc score of lr  81.25 at random_state  353\n",
      "Accuracy_score of LogisticRegression  0.6875 at random_state  953\n",
      "Mac acc score of lr  81.25 at random_state  353\n",
      "Accuracy_score of LogisticRegression  0.6875 at random_state  954\n",
      "Mac acc score of lr  81.25 at random_state  353\n",
      "Accuracy_score of LogisticRegression  0.675 at random_state  955\n",
      "Mac acc score of lr  81.25 at random_state  353\n",
      "Accuracy_score of LogisticRegression  0.75 at random_state  956\n",
      "Mac acc score of lr  81.25 at random_state  353\n",
      "Accuracy_score of LogisticRegression  0.7625 at random_state  957\n",
      "Mac acc score of lr  81.25 at random_state  353\n",
      "Accuracy_score of LogisticRegression  0.65625 at random_state  958\n",
      "Mac acc score of lr  81.25 at random_state  353\n",
      "Accuracy_score of LogisticRegression  0.73125 at random_state  959\n",
      "Mac acc score of lr  81.25 at random_state  353\n",
      "Accuracy_score of LogisticRegression  0.76875 at random_state  960\n",
      "Mac acc score of lr  81.25 at random_state  353\n",
      "Accuracy_score of LogisticRegression  0.71875 at random_state  961\n",
      "Mac acc score of lr  81.25 at random_state  353\n",
      "Accuracy_score of LogisticRegression  0.71875 at random_state  962\n",
      "Mac acc score of lr  81.25 at random_state  353\n",
      "Accuracy_score of LogisticRegression  0.7125 at random_state  963\n",
      "Mac acc score of lr  81.25 at random_state  353\n",
      "Accuracy_score of LogisticRegression  0.725 at random_state  964\n",
      "Mac acc score of lr  81.25 at random_state  353\n",
      "Accuracy_score of LogisticRegression  0.73125 at random_state  965\n",
      "Mac acc score of lr  81.25 at random_state  353\n",
      "Accuracy_score of LogisticRegression  0.7375 at random_state  966\n",
      "Mac acc score of lr  81.25 at random_state  353\n",
      "Accuracy_score of LogisticRegression  0.68125 at random_state  967\n",
      "Mac acc score of lr  81.25 at random_state  353\n",
      "Accuracy_score of LogisticRegression  0.73125 at random_state  968\n",
      "Mac acc score of lr  81.25 at random_state  353\n",
      "Accuracy_score of LogisticRegression  0.725 at random_state  969\n",
      "Mac acc score of lr  81.25 at random_state  353\n",
      "Accuracy_score of LogisticRegression  0.7625 at random_state  970\n",
      "Mac acc score of lr  81.25 at random_state  353\n",
      "Accuracy_score of LogisticRegression  0.73125 at random_state  971\n",
      "Mac acc score of lr  81.25 at random_state  353\n",
      "Accuracy_score of LogisticRegression  0.78125 at random_state  972\n",
      "Mac acc score of lr  81.25 at random_state  353\n",
      "Accuracy_score of LogisticRegression  0.73125 at random_state  973\n",
      "Mac acc score of lr  81.25 at random_state  353\n",
      "Accuracy_score of LogisticRegression  0.7375 at random_state  974\n",
      "Mac acc score of lr  81.25 at random_state  353\n",
      "Accuracy_score of LogisticRegression  0.78125 at random_state  975\n",
      "Mac acc score of lr  81.25 at random_state  353\n",
      "Accuracy_score of LogisticRegression  0.7375 at random_state  976\n",
      "Mac acc score of lr  81.25 at random_state  353\n",
      "Accuracy_score of LogisticRegression  0.7375 at random_state  977\n",
      "Mac acc score of lr  81.25 at random_state  353\n",
      "Accuracy_score of LogisticRegression  0.70625 at random_state  978\n",
      "Mac acc score of lr  81.25 at random_state  353\n",
      "Accuracy_score of LogisticRegression  0.65625 at random_state  979\n",
      "Mac acc score of lr  81.25 at random_state  353\n",
      "Accuracy_score of LogisticRegression  0.78125 at random_state  980\n",
      "Mac acc score of lr  81.25 at random_state  353\n",
      "Accuracy_score of LogisticRegression  0.7375 at random_state  981\n",
      "Mac acc score of lr  81.25 at random_state  353\n",
      "Accuracy_score of LogisticRegression  0.7125 at random_state  982\n",
      "Mac acc score of lr  81.25 at random_state  353\n",
      "Accuracy_score of LogisticRegression  0.70625 at random_state  983\n",
      "Mac acc score of lr  81.25 at random_state  353\n",
      "Accuracy_score of LogisticRegression  0.7375 at random_state  984\n",
      "Mac acc score of lr  81.25 at random_state  353\n",
      "Accuracy_score of LogisticRegression  0.75 at random_state  985\n",
      "Mac acc score of lr  81.25 at random_state  353\n",
      "Accuracy_score of LogisticRegression  0.725 at random_state  986\n",
      "Mac acc score of lr  81.25 at random_state  353\n",
      "Accuracy_score of LogisticRegression  0.76875 at random_state  987\n",
      "Mac acc score of lr  81.25 at random_state  353\n",
      "Accuracy_score of LogisticRegression  0.73125 at random_state  988\n",
      "Mac acc score of lr  81.25 at random_state  353\n",
      "Accuracy_score of LogisticRegression  0.775 at random_state  989\n",
      "Mac acc score of lr  81.25 at random_state  353\n",
      "Accuracy_score of LogisticRegression  0.7375 at random_state  990\n",
      "Mac acc score of lr  81.25 at random_state  353\n",
      "Accuracy_score of LogisticRegression  0.71875 at random_state  991\n",
      "Mac acc score of lr  81.25 at random_state  353\n",
      "Accuracy_score of LogisticRegression  0.675 at random_state  992\n",
      "Mac acc score of lr  81.25 at random_state  353\n",
      "Accuracy_score of LogisticRegression  0.63125 at random_state  993\n",
      "Mac acc score of lr  81.25 at random_state  353\n",
      "Accuracy_score of LogisticRegression  0.73125 at random_state  994\n",
      "Mac acc score of lr  81.25 at random_state  353\n",
      "Accuracy_score of LogisticRegression  0.70625 at random_state  995\n",
      "Mac acc score of lr  81.25 at random_state  353\n",
      "Accuracy_score of LogisticRegression  0.73125 at random_state  996\n",
      "Mac acc score of lr  81.25 at random_state  353\n",
      "Accuracy_score of LogisticRegression  0.69375 at random_state  997\n",
      "Mac acc score of lr  81.25 at random_state  353\n",
      "Accuracy_score of LogisticRegression  0.76875 at random_state  998\n",
      "Mac acc score of lr  81.25 at random_state  353\n",
      "Accuracy_score of LogisticRegression  0.70625 at random_state  999\n",
      "Mac acc score of lr  81.25 at random_state  353\n"
     ]
    }
   ],
   "source": [
    "maxAcc=0\n",
    "maxRS=0\n",
    "for i in range(0,1000):\n",
    "    x_train,x_test,y_train,y_test=train_test_split(xnew,ynew,test_size=0.20,random_state=i)\n",
    "    lr.fit(x_train,y_train)\n",
    "    predlr=lr.predict(x_test)\n",
    "    score=accuracy_score(y_test,predlr)\n",
    "    print('Accuracy_score of LogisticRegression ' ,score, 'at random_state ' ,i)\n",
    "    if score > maxAcc:\n",
    "        maxAcc=score\n",
    "        maxRS=i\n",
    "    print('Mac acc score of lr ' ,maxAcc*100, 'at random_state ' ,maxRS) "
   ]
  },
  {
   "cell_type": "code",
   "execution_count": 64,
   "id": "48e49d46",
   "metadata": {},
   "outputs": [
    {
     "name": "stdout",
     "output_type": "stream",
     "text": [
      "Accuracy_score of LogisticRegression  81.25\n",
      "[[44 12]\n",
      " [18 86]]\n",
      "              precision    recall  f1-score   support\n",
      "\n",
      "           0       0.71      0.79      0.75        56\n",
      "           1       0.88      0.83      0.85       104\n",
      "\n",
      "    accuracy                           0.81       160\n",
      "   macro avg       0.79      0.81      0.80       160\n",
      "weighted avg       0.82      0.81      0.81       160\n",
      "\n"
     ]
    }
   ],
   "source": [
    "x_train,x_test,y_train,y_test=train_test_split(xnew,ynew,test_size=0.20,random_state=353)\n",
    "lr.fit(x_train,y_train)\n",
    "predlr=lr.predict(x_test)\n",
    "score=accuracy_score(predlr,y_test)\n",
    "print('Accuracy_score of LogisticRegression ' ,score*100)\n",
    "print(confusion_matrix(predlr,y_test))\n",
    "print(classification_report(predlr,y_test))"
   ]
  },
  {
   "cell_type": "markdown",
   "id": "cf35c9d1",
   "metadata": {},
   "source": [
    "# HYPERTUNING LOGISTIC REGRESSION"
   ]
  },
  {
   "cell_type": "code",
   "execution_count": 65,
   "id": "da1c837f",
   "metadata": {},
   "outputs": [],
   "source": [
    "from sklearn.model_selection import GridSearchCV"
   ]
  },
  {
   "cell_type": "code",
   "execution_count": 66,
   "id": "d1d1e01c",
   "metadata": {},
   "outputs": [
    {
     "data": {
      "text/html": [
       "<style>#sk-container-id-1 {color: black;background-color: white;}#sk-container-id-1 pre{padding: 0;}#sk-container-id-1 div.sk-toggleable {background-color: white;}#sk-container-id-1 label.sk-toggleable__label {cursor: pointer;display: block;width: 100%;margin-bottom: 0;padding: 0.3em;box-sizing: border-box;text-align: center;}#sk-container-id-1 label.sk-toggleable__label-arrow:before {content: \"▸\";float: left;margin-right: 0.25em;color: #696969;}#sk-container-id-1 label.sk-toggleable__label-arrow:hover:before {color: black;}#sk-container-id-1 div.sk-estimator:hover label.sk-toggleable__label-arrow:before {color: black;}#sk-container-id-1 div.sk-toggleable__content {max-height: 0;max-width: 0;overflow: hidden;text-align: left;background-color: #f0f8ff;}#sk-container-id-1 div.sk-toggleable__content pre {margin: 0.2em;color: black;border-radius: 0.25em;background-color: #f0f8ff;}#sk-container-id-1 input.sk-toggleable__control:checked~div.sk-toggleable__content {max-height: 200px;max-width: 100%;overflow: auto;}#sk-container-id-1 input.sk-toggleable__control:checked~label.sk-toggleable__label-arrow:before {content: \"▾\";}#sk-container-id-1 div.sk-estimator input.sk-toggleable__control:checked~label.sk-toggleable__label {background-color: #d4ebff;}#sk-container-id-1 div.sk-label input.sk-toggleable__control:checked~label.sk-toggleable__label {background-color: #d4ebff;}#sk-container-id-1 input.sk-hidden--visually {border: 0;clip: rect(1px 1px 1px 1px);clip: rect(1px, 1px, 1px, 1px);height: 1px;margin: -1px;overflow: hidden;padding: 0;position: absolute;width: 1px;}#sk-container-id-1 div.sk-estimator {font-family: monospace;background-color: #f0f8ff;border: 1px dotted black;border-radius: 0.25em;box-sizing: border-box;margin-bottom: 0.5em;}#sk-container-id-1 div.sk-estimator:hover {background-color: #d4ebff;}#sk-container-id-1 div.sk-parallel-item::after {content: \"\";width: 100%;border-bottom: 1px solid gray;flex-grow: 1;}#sk-container-id-1 div.sk-label:hover label.sk-toggleable__label {background-color: #d4ebff;}#sk-container-id-1 div.sk-serial::before {content: \"\";position: absolute;border-left: 1px solid gray;box-sizing: border-box;top: 0;bottom: 0;left: 50%;z-index: 0;}#sk-container-id-1 div.sk-serial {display: flex;flex-direction: column;align-items: center;background-color: white;padding-right: 0.2em;padding-left: 0.2em;position: relative;}#sk-container-id-1 div.sk-item {position: relative;z-index: 1;}#sk-container-id-1 div.sk-parallel {display: flex;align-items: stretch;justify-content: center;background-color: white;position: relative;}#sk-container-id-1 div.sk-item::before, #sk-container-id-1 div.sk-parallel-item::before {content: \"\";position: absolute;border-left: 1px solid gray;box-sizing: border-box;top: 0;bottom: 0;left: 50%;z-index: -1;}#sk-container-id-1 div.sk-parallel-item {display: flex;flex-direction: column;z-index: 1;position: relative;background-color: white;}#sk-container-id-1 div.sk-parallel-item:first-child::after {align-self: flex-end;width: 50%;}#sk-container-id-1 div.sk-parallel-item:last-child::after {align-self: flex-start;width: 50%;}#sk-container-id-1 div.sk-parallel-item:only-child::after {width: 0;}#sk-container-id-1 div.sk-dashed-wrapped {border: 1px dashed gray;margin: 0 0.4em 0.5em 0.4em;box-sizing: border-box;padding-bottom: 0.4em;background-color: white;}#sk-container-id-1 div.sk-label label {font-family: monospace;font-weight: bold;display: inline-block;line-height: 1.2em;}#sk-container-id-1 div.sk-label-container {text-align: center;}#sk-container-id-1 div.sk-container {/* jupyter's `normalize.less` sets `[hidden] { display: none; }` but bootstrap.min.css set `[hidden] { display: none !important; }` so we also need the `!important` here to be able to override the default hidden behavior on the sphinx rendered scikit-learn.org. See: https://github.com/scikit-learn/scikit-learn/issues/21755 */display: inline-block !important;position: relative;}#sk-container-id-1 div.sk-text-repr-fallback {display: none;}</style><div id=\"sk-container-id-1\" class=\"sk-top-container\"><div class=\"sk-text-repr-fallback\"><pre>GridSearchCV(estimator=LogisticRegression(),\n",
       "             param_grid={&#x27;C&#x27;: [100, 10, 1, 0.1, 0.01]})</pre><b>In a Jupyter environment, please rerun this cell to show the HTML representation or trust the notebook. <br />On GitHub, the HTML representation is unable to render, please try loading this page with nbviewer.org.</b></div><div class=\"sk-container\" hidden><div class=\"sk-item sk-dashed-wrapped\"><div class=\"sk-label-container\"><div class=\"sk-label sk-toggleable\"><input class=\"sk-toggleable__control sk-hidden--visually\" id=\"sk-estimator-id-1\" type=\"checkbox\" ><label for=\"sk-estimator-id-1\" class=\"sk-toggleable__label sk-toggleable__label-arrow\">GridSearchCV</label><div class=\"sk-toggleable__content\"><pre>GridSearchCV(estimator=LogisticRegression(),\n",
       "             param_grid={&#x27;C&#x27;: [100, 10, 1, 0.1, 0.01]})</pre></div></div></div><div class=\"sk-parallel\"><div class=\"sk-parallel-item\"><div class=\"sk-item\"><div class=\"sk-label-container\"><div class=\"sk-label sk-toggleable\"><input class=\"sk-toggleable__control sk-hidden--visually\" id=\"sk-estimator-id-2\" type=\"checkbox\" ><label for=\"sk-estimator-id-2\" class=\"sk-toggleable__label sk-toggleable__label-arrow\">estimator: LogisticRegression</label><div class=\"sk-toggleable__content\"><pre>LogisticRegression()</pre></div></div></div><div class=\"sk-serial\"><div class=\"sk-item\"><div class=\"sk-estimator sk-toggleable\"><input class=\"sk-toggleable__control sk-hidden--visually\" id=\"sk-estimator-id-3\" type=\"checkbox\" ><label for=\"sk-estimator-id-3\" class=\"sk-toggleable__label sk-toggleable__label-arrow\">LogisticRegression</label><div class=\"sk-toggleable__content\"><pre>LogisticRegression()</pre></div></div></div></div></div></div></div></div></div></div>"
      ],
      "text/plain": [
       "GridSearchCV(estimator=LogisticRegression(),\n",
       "             param_grid={'C': [100, 10, 1, 0.1, 0.01]})"
      ]
     },
     "execution_count": 66,
     "metadata": {},
     "output_type": "execute_result"
    }
   ],
   "source": [
    "lr=LogisticRegression()\n",
    "parameters={'C':[100,10,1,0.1,0.01]}\n",
    "gscvlr=GridSearchCV(estimator=lr,param_grid=parameters)\n",
    "gscvlr.fit(x_train,y_train)"
   ]
  },
  {
   "cell_type": "code",
   "execution_count": 67,
   "id": "a3106df4",
   "metadata": {},
   "outputs": [
    {
     "name": "stdout",
     "output_type": "stream",
     "text": [
      "{'C': 0.1}\n"
     ]
    }
   ],
   "source": [
    "print(gscvlr.best_params_)"
   ]
  },
  {
   "cell_type": "code",
   "execution_count": 68,
   "id": "17c33127",
   "metadata": {},
   "outputs": [
    {
     "name": "stdout",
     "output_type": "stream",
     "text": [
      "Accuracy_score  81.25\n"
     ]
    }
   ],
   "source": [
    "lr1=LogisticRegression(C=0.1)\n",
    "lr1.fit(x_train,y_train)\n",
    "predlr1=lr1.predict(x_test)\n",
    "print('Accuracy_score ' ,accuracy_score(y_test,predlr1)*100)"
   ]
  },
  {
   "cell_type": "markdown",
   "id": "ef8cac5a",
   "metadata": {},
   "source": [
    "SINCE LOGISTIC REGRESSION SHOWS LOW RESULT , CAN TRY FOR MANY MODELS"
   ]
  },
  {
   "cell_type": "markdown",
   "id": "bc189437",
   "metadata": {},
   "source": [
    "# TESING MORE MODELS"
   ]
  },
  {
   "cell_type": "code",
   "execution_count": 69,
   "id": "d950e3b6",
   "metadata": {},
   "outputs": [],
   "source": [
    "from sklearn.neighbors import KNeighborsClassifier\n",
    "from sklearn.ensemble import GradientBoostingClassifier,AdaBoostClassifier,ExtraTreesClassifier,RandomForestClassifier\n",
    "from sklearn.tree import DecisionTreeClassifier\n",
    "from sklearn.svm import SVC\n",
    "knc=KNeighborsClassifier()\n",
    "gbc=GradientBoostingClassifier()\n",
    "abc=AdaBoostClassifier()\n",
    "etc=ExtraTreesClassifier()\n",
    "rfc=RandomForestClassifier()\n",
    "dtc=DecisionTreeClassifier()\n",
    "svc=SVC()"
   ]
  },
  {
   "cell_type": "code",
   "execution_count": 70,
   "id": "1c38cf15",
   "metadata": {},
   "outputs": [
    {
     "name": "stdout",
     "output_type": "stream",
     "text": [
      "Accuracy_score of model  KNeighborsClassifier() is =  75.625\n",
      "Accuracy_score of model  GradientBoostingClassifier() is =  85.625\n",
      "Accuracy_score of model  AdaBoostClassifier() is =  78.75\n",
      "Accuracy_score of model  ExtraTreesClassifier() is =  86.875\n",
      "Accuracy_score of model  RandomForestClassifier() is =  86.875\n",
      "Accuracy_score of model  DecisionTreeClassifier() is =  81.25\n",
      "Accuracy_score of model  SVC() is =  83.75\n"
     ]
    }
   ],
   "source": [
    "model=[knc,gbc,abc,etc,rfc,dtc,svc]\n",
    "for i in model:\n",
    "    i.fit(x_train,y_train)\n",
    "    predi=i.predict(x_test)\n",
    "    print('Accuracy_score of model ' , i ,'is = ' ,accuracy_score(y_test,predi)*100)"
   ]
  },
  {
   "cell_type": "markdown",
   "id": "84b37d5a",
   "metadata": {},
   "source": [
    "# CROSS-VALIDATION"
   ]
  },
  {
   "cell_type": "code",
   "execution_count": 71,
   "id": "a55d1392",
   "metadata": {},
   "outputs": [],
   "source": [
    "from sklearn.model_selection import cross_val_score"
   ]
  },
  {
   "cell_type": "code",
   "execution_count": 72,
   "id": "72492c44",
   "metadata": {},
   "outputs": [
    {
     "name": "stdout",
     "output_type": "stream",
     "text": [
      "Accuracy_score of model  KNeighborsClassifier() is equal ==  75.625\n",
      "Cross validation of model  KNeighborsClassifier() is equal ==  0.6776729559748427 at cv =  2\n",
      "Diff between accuracy_score and cross validation of model  KNeighborsClassifier() is equal ==  0.0785770440251573\n",
      "Accuracy_score of model  GradientBoostingClassifier() is equal ==  85.625\n",
      "Cross validation of model  GradientBoostingClassifier() is equal ==  0.7358490566037736 at cv =  2\n",
      "Diff between accuracy_score and cross validation of model  GradientBoostingClassifier() is equal ==  0.12040094339622631\n",
      "Accuracy_score of model  AdaBoostClassifier() is equal ==  78.75\n",
      "Cross validation of model  AdaBoostClassifier() is equal ==  0.6839622641509433 at cv =  2\n",
      "Diff between accuracy_score and cross validation of model  AdaBoostClassifier() is equal ==  0.10353773584905668\n",
      "Accuracy_score of model  ExtraTreesClassifier() is equal ==  86.25\n",
      "Cross validation of model  ExtraTreesClassifier() is equal ==  0.7924528301886793 at cv =  2\n",
      "Diff between accuracy_score and cross validation of model  ExtraTreesClassifier() is equal ==  0.07004716981132075\n",
      "Accuracy_score of model  RandomForestClassifier() is equal ==  86.875\n",
      "Cross validation of model  RandomForestClassifier() is equal ==  0.7877358490566038 at cv =  2\n",
      "Diff between accuracy_score and cross validation of model  RandomForestClassifier() is equal ==  0.08101415094339626\n",
      "Accuracy_score of model  DecisionTreeClassifier() is equal ==  80.0\n",
      "Cross validation of model  DecisionTreeClassifier() is equal ==  0.6902515723270439 at cv =  2\n",
      "Diff between accuracy_score and cross validation of model  DecisionTreeClassifier() is equal ==  0.10974842767295612\n",
      "Accuracy_score of model  SVC() is equal ==  83.75\n",
      "Cross validation of model  SVC() is equal ==  0.6902515723270439 at cv =  2\n",
      "Diff between accuracy_score and cross validation of model  SVC() is equal ==  0.1472484276729561\n",
      "Accuracy_score of model  KNeighborsClassifier() is equal ==  75.625\n",
      "Cross validation of model  KNeighborsClassifier() is equal ==  0.6949685534591193 at cv =  3\n",
      "Diff between accuracy_score and cross validation of model  KNeighborsClassifier() is equal ==  0.061281446540880635\n",
      "Accuracy_score of model  GradientBoostingClassifier() is equal ==  85.625\n",
      "Cross validation of model  GradientBoostingClassifier() is equal ==  0.7672955974842767 at cv =  3\n",
      "Diff between accuracy_score and cross validation of model  GradientBoostingClassifier() is equal ==  0.08895440251572329\n",
      "Accuracy_score of model  AdaBoostClassifier() is equal ==  78.75\n",
      "Cross validation of model  AdaBoostClassifier() is equal ==  0.710691823899371 at cv =  3\n",
      "Diff between accuracy_score and cross validation of model  AdaBoostClassifier() is equal ==  0.07680817610062896\n",
      "Accuracy_score of model  ExtraTreesClassifier() is equal ==  87.5\n",
      "Cross validation of model  ExtraTreesClassifier() is equal ==  0.7955974842767296 at cv =  3\n",
      "Diff between accuracy_score and cross validation of model  ExtraTreesClassifier() is equal ==  0.0794025157232704\n",
      "Accuracy_score of model  RandomForestClassifier() is equal ==  86.875\n",
      "Cross validation of model  RandomForestClassifier() is equal ==  0.7877358490566038 at cv =  3\n",
      "Diff between accuracy_score and cross validation of model  RandomForestClassifier() is equal ==  0.08101415094339626\n",
      "Accuracy_score of model  DecisionTreeClassifier() is equal ==  81.875\n",
      "Cross validation of model  DecisionTreeClassifier() is equal ==  0.690251572327044 at cv =  3\n",
      "Diff between accuracy_score and cross validation of model  DecisionTreeClassifier() is equal ==  0.12849842767295594\n",
      "Accuracy_score of model  SVC() is equal ==  83.75\n",
      "Cross validation of model  SVC() is equal ==  0.7044025157232703 at cv =  3\n",
      "Diff between accuracy_score and cross validation of model  SVC() is equal ==  0.13309748427672974\n",
      "Accuracy_score of model  KNeighborsClassifier() is equal ==  75.625\n",
      "Cross validation of model  KNeighborsClassifier() is equal ==  0.7122641509433961 at cv =  4\n",
      "Diff between accuracy_score and cross validation of model  KNeighborsClassifier() is equal ==  0.043985849056603854\n",
      "Accuracy_score of model  GradientBoostingClassifier() is equal ==  85.625\n",
      "Cross validation of model  GradientBoostingClassifier() is equal ==  0.761006289308176 at cv =  4\n",
      "Diff between accuracy_score and cross validation of model  GradientBoostingClassifier() is equal ==  0.09524371069182391\n",
      "Accuracy_score of model  AdaBoostClassifier() is equal ==  78.75\n",
      "Cross validation of model  AdaBoostClassifier() is equal ==  0.7169811320754716 at cv =  4\n",
      "Diff between accuracy_score and cross validation of model  AdaBoostClassifier() is equal ==  0.07051886792452833\n",
      "Accuracy_score of model  ExtraTreesClassifier() is equal ==  86.25\n",
      "Cross validation of model  ExtraTreesClassifier() is equal ==  0.8081761006289307 at cv =  4\n",
      "Diff between accuracy_score and cross validation of model  ExtraTreesClassifier() is equal ==  0.054323899371069295\n",
      "Accuracy_score of model  RandomForestClassifier() is equal ==  86.25\n",
      "Cross validation of model  RandomForestClassifier() is equal ==  0.800314465408805 at cv =  4\n",
      "Diff between accuracy_score and cross validation of model  RandomForestClassifier() is equal ==  0.062185534591195024\n",
      "Accuracy_score of model  DecisionTreeClassifier() is equal ==  80.625\n",
      "Cross validation of model  DecisionTreeClassifier() is equal ==  0.6918238993710691 at cv =  4\n",
      "Diff between accuracy_score and cross validation of model  DecisionTreeClassifier() is equal ==  0.11442610062893088\n",
      "Accuracy_score of model  SVC() is equal ==  83.75\n",
      "Cross validation of model  SVC() is equal ==  0.7169811320754716 at cv =  4\n",
      "Diff between accuracy_score and cross validation of model  SVC() is equal ==  0.12051886792452837\n",
      "Accuracy_score of model  KNeighborsClassifier() is equal ==  75.625\n",
      "Cross validation of model  KNeighborsClassifier() is equal ==  0.7044168307086615 at cv =  5\n",
      "Diff between accuracy_score and cross validation of model  KNeighborsClassifier() is equal ==  0.05183316929133852\n",
      "Accuracy_score of model  GradientBoostingClassifier() is equal ==  85.625\n",
      "Cross validation of model  GradientBoostingClassifier() is equal ==  0.767273622047244 at cv =  5\n",
      "Diff between accuracy_score and cross validation of model  GradientBoostingClassifier() is equal ==  0.08897637795275593\n",
      "Accuracy_score of model  AdaBoostClassifier() is equal ==  78.75\n",
      "Cross validation of model  AdaBoostClassifier() is equal ==  0.7059424212598426 at cv =  5\n",
      "Diff between accuracy_score and cross validation of model  AdaBoostClassifier() is equal ==  0.08155757874015734\n",
      "Accuracy_score of model  ExtraTreesClassifier() is equal ==  86.25\n",
      "Cross validation of model  ExtraTreesClassifier() is equal ==  0.8018331692913385 at cv =  5\n",
      "Diff between accuracy_score and cross validation of model  ExtraTreesClassifier() is equal ==  0.06066683070866152\n",
      "Accuracy_score of model  RandomForestClassifier() is equal ==  86.25\n",
      "Cross validation of model  RandomForestClassifier() is equal ==  0.7845964566929133 at cv =  5\n",
      "Diff between accuracy_score and cross validation of model  RandomForestClassifier() is equal ==  0.07790354330708671\n",
      "Accuracy_score of model  DecisionTreeClassifier() is equal ==  82.5\n",
      "Cross validation of model  DecisionTreeClassifier() is equal ==  0.7248892716535433 at cv =  5\n",
      "Diff between accuracy_score and cross validation of model  DecisionTreeClassifier() is equal ==  0.10011072834645662\n",
      "Accuracy_score of model  SVC() is equal ==  83.75\n",
      "Cross validation of model  SVC() is equal ==  0.7091166338582677 at cv =  5\n",
      "Diff between accuracy_score and cross validation of model  SVC() is equal ==  0.1283833661417323\n",
      "Accuracy_score of model  KNeighborsClassifier() is equal ==  75.625\n",
      "Cross validation of model  KNeighborsClassifier() is equal ==  0.7106918238993711 at cv =  6\n",
      "Diff between accuracy_score and cross validation of model  KNeighborsClassifier() is equal ==  0.045558176100628844\n",
      "Accuracy_score of model  GradientBoostingClassifier() is equal ==  85.625\n",
      "Cross validation of model  GradientBoostingClassifier() is equal ==  0.7610062893081762 at cv =  6\n",
      "Diff between accuracy_score and cross validation of model  GradientBoostingClassifier() is equal ==  0.0952437106918238\n",
      "Accuracy_score of model  AdaBoostClassifier() is equal ==  78.75\n",
      "Cross validation of model  AdaBoostClassifier() is equal ==  0.7075471698113206 at cv =  6\n",
      "Diff between accuracy_score and cross validation of model  AdaBoostClassifier() is equal ==  0.07995283018867938\n",
      "Accuracy_score of model  ExtraTreesClassifier() is equal ==  88.75\n",
      "Cross validation of model  ExtraTreesClassifier() is equal ==  0.8018867924528302 at cv =  6\n",
      "Diff between accuracy_score and cross validation of model  ExtraTreesClassifier() is equal ==  0.08561320754716972\n",
      "Accuracy_score of model  RandomForestClassifier() is equal ==  86.875\n",
      "Cross validation of model  RandomForestClassifier() is equal ==  0.7971698113207548 at cv =  6\n",
      "Diff between accuracy_score and cross validation of model  RandomForestClassifier() is equal ==  0.0715801886792452\n",
      "Accuracy_score of model  DecisionTreeClassifier() is equal ==  81.875\n",
      "Cross validation of model  DecisionTreeClassifier() is equal ==  0.7264150943396226 at cv =  6\n",
      "Diff between accuracy_score and cross validation of model  DecisionTreeClassifier() is equal ==  0.09233490566037739\n",
      "Accuracy_score of model  SVC() is equal ==  83.75\n",
      "Cross validation of model  SVC() is equal ==  0.7059748427672955 at cv =  6\n",
      "Diff between accuracy_score and cross validation of model  SVC() is equal ==  0.13152515723270453\n",
      "Accuracy_score of model  KNeighborsClassifier() is equal ==  75.625\n",
      "Cross validation of model  KNeighborsClassifier() is equal ==  0.7248735391592536 at cv =  7\n",
      "Diff between accuracy_score and cross validation of model  KNeighborsClassifier() is equal ==  0.03137646084074641\n",
      "Accuracy_score of model  GradientBoostingClassifier() is equal ==  85.625\n",
      "Cross validation of model  GradientBoostingClassifier() is equal ==  0.7798360369788941 at cv =  7\n",
      "Diff between accuracy_score and cross validation of model  GradientBoostingClassifier() is equal ==  0.07641396302110581\n",
      "Accuracy_score of model  AdaBoostClassifier() is equal ==  78.75\n",
      "Cross validation of model  AdaBoostClassifier() is equal ==  0.7231292517006802 at cv =  7\n",
      "Diff between accuracy_score and cross validation of model  AdaBoostClassifier() is equal ==  0.06437074829931977\n",
      "Accuracy_score of model  ExtraTreesClassifier() is equal ==  86.875\n",
      "Cross validation of model  ExtraTreesClassifier() is equal ==  0.8207570207570206 at cv =  7\n",
      "Diff between accuracy_score and cross validation of model  ExtraTreesClassifier() is equal ==  0.047992979242979406\n",
      "Accuracy_score of model  RandomForestClassifier() is equal ==  86.875\n",
      "Cross validation of model  RandomForestClassifier() is equal ==  0.8019012733298447 at cv =  7\n",
      "Diff between accuracy_score and cross validation of model  RandomForestClassifier() is equal ==  0.06684872667015529\n",
      "Accuracy_score of model  DecisionTreeClassifier() is equal ==  81.875\n",
      "Cross validation of model  DecisionTreeClassifier() is equal ==  0.7122100122100122 at cv =  7\n",
      "Diff between accuracy_score and cross validation of model  DecisionTreeClassifier() is equal ==  0.10653998778998774\n",
      "Accuracy_score of model  SVC() is equal ==  83.75\n",
      "Cross validation of model  SVC() is equal ==  0.7169893598465027 at cv =  7\n",
      "Diff between accuracy_score and cross validation of model  SVC() is equal ==  0.12051064015349733\n",
      "Accuracy_score of model  KNeighborsClassifier() is equal ==  75.625\n",
      "Cross validation of model  KNeighborsClassifier() is equal ==  0.7200553797468354 at cv =  8\n",
      "Diff between accuracy_score and cross validation of model  KNeighborsClassifier() is equal ==  0.036194620253164556\n",
      "Accuracy_score of model  GradientBoostingClassifier() is equal ==  85.625\n",
      "Cross validation of model  GradientBoostingClassifier() is equal ==  0.7655854430379747 at cv =  8\n",
      "Diff between accuracy_score and cross validation of model  GradientBoostingClassifier() is equal ==  0.09066455696202524\n",
      "Accuracy_score of model  AdaBoostClassifier() is equal ==  78.75\n",
      "Cross validation of model  AdaBoostClassifier() is equal ==  0.7278876582278481 at cv =  8\n",
      "Diff between accuracy_score and cross validation of model  AdaBoostClassifier() is equal ==  0.05961234177215191\n",
      "Accuracy_score of model  ExtraTreesClassifier() is equal ==  87.5\n",
      "Cross validation of model  ExtraTreesClassifier() is equal ==  0.80967167721519 at cv =  8\n",
      "Diff between accuracy_score and cross validation of model  ExtraTreesClassifier() is equal ==  0.06532832278481004\n",
      "Accuracy_score of model  RandomForestClassifier() is equal ==  85.625\n",
      "Cross validation of model  RandomForestClassifier() is equal ==  0.7986352848101266 at cv =  8\n",
      "Diff between accuracy_score and cross validation of model  RandomForestClassifier() is equal ==  0.05761471518987338\n",
      "Accuracy_score of model  DecisionTreeClassifier() is equal ==  82.5\n",
      "Cross validation of model  DecisionTreeClassifier() is equal ==  0.6964200949367088 at cv =  8\n",
      "Diff between accuracy_score and cross validation of model  DecisionTreeClassifier() is equal ==  0.1285799050632912\n",
      "Accuracy_score of model  SVC() is equal ==  83.75\n",
      "Cross validation of model  SVC() is equal ==  0.7199762658227848 at cv =  8\n",
      "Diff between accuracy_score and cross validation of model  SVC() is equal ==  0.11752373417721518\n",
      "Accuracy_score of model  KNeighborsClassifier() is equal ==  75.625\n",
      "Cross validation of model  KNeighborsClassifier() is equal ==  0.7138832997987928 at cv =  9\n",
      "Diff between accuracy_score and cross validation of model  KNeighborsClassifier() is equal ==  0.04236670020120714\n",
      "Accuracy_score of model  GradientBoostingClassifier() is equal ==  85.625\n",
      "Cross validation of model  GradientBoostingClassifier() is equal ==  0.7466577241225129 at cv =  9\n",
      "Diff between accuracy_score and cross validation of model  GradientBoostingClassifier() is equal ==  0.1095922758774871\n",
      "Accuracy_score of model  AdaBoostClassifier() is equal ==  78.75\n",
      "Cross validation of model  AdaBoostClassifier() is equal ==  0.7216186004918399 at cv =  9\n",
      "Diff between accuracy_score and cross validation of model  AdaBoostClassifier() is equal ==  0.06588139950816008\n",
      "Accuracy_score of model  ExtraTreesClassifier() is equal ==  86.25\n",
      "Cross validation of model  ExtraTreesClassifier() is equal ==  0.8033758104180639 at cv =  9\n",
      "Diff between accuracy_score and cross validation of model  ExtraTreesClassifier() is equal ==  0.059124189581936104\n",
      "Accuracy_score of model  RandomForestClassifier() is equal ==  87.5\n",
      "Cross validation of model  RandomForestClassifier() is equal ==  0.7954616588419405 at cv =  9\n",
      "Diff between accuracy_score and cross validation of model  RandomForestClassifier() is equal ==  0.07953834115805947\n",
      "Accuracy_score of model  DecisionTreeClassifier() is equal ==  81.25\n",
      "Cross validation of model  DecisionTreeClassifier() is equal ==  0.7325285043594902 at cv =  9\n",
      "Diff between accuracy_score and cross validation of model  DecisionTreeClassifier() is equal ==  0.07997149564050976\n",
      "Accuracy_score of model  SVC() is equal ==  83.75\n",
      "Cross validation of model  SVC() is equal ==  0.7090096132349654 at cv =  9\n",
      "Diff between accuracy_score and cross validation of model  SVC() is equal ==  0.12849038676503466\n"
     ]
    }
   ],
   "source": [
    " for i in range(2,10):\n",
    "        models=[knc,gbc,abc,etc,rfc,dtc,svc]\n",
    "        for j in models:\n",
    "            j.fit(x_train,y_train)\n",
    "            predj=j.predict(x_test)\n",
    "            score=accuracy_score(y_test,predj)\n",
    "            cross=cross_val_score(j,x_train,y_train,cv=i)\n",
    "    \n",
    "            print('Accuracy_score of model ' ,j, 'is equal == ' ,score*100)\n",
    "            print('Cross validation of model ' ,j, 'is equal == ' ,cross.mean(),'at cv = ' ,i)\n",
    "            print('Diff between accuracy_score and cross validation of model ' ,j, 'is equal == ' , score-(cross.mean()))"
   ]
  },
  {
   "cell_type": "markdown",
   "id": "9b5d2dd0",
   "metadata": {},
   "source": [
    "# HYPERTUNING"
   ]
  },
  {
   "cell_type": "code",
   "execution_count": 73,
   "id": "3392ae89",
   "metadata": {},
   "outputs": [],
   "source": [
    "from sklearn.model_selection import GridSearchCV"
   ]
  },
  {
   "cell_type": "code",
   "execution_count": 74,
   "id": "45849fd7",
   "metadata": {},
   "outputs": [
    {
     "data": {
      "text/html": [
       "<style>#sk-container-id-2 {color: black;background-color: white;}#sk-container-id-2 pre{padding: 0;}#sk-container-id-2 div.sk-toggleable {background-color: white;}#sk-container-id-2 label.sk-toggleable__label {cursor: pointer;display: block;width: 100%;margin-bottom: 0;padding: 0.3em;box-sizing: border-box;text-align: center;}#sk-container-id-2 label.sk-toggleable__label-arrow:before {content: \"▸\";float: left;margin-right: 0.25em;color: #696969;}#sk-container-id-2 label.sk-toggleable__label-arrow:hover:before {color: black;}#sk-container-id-2 div.sk-estimator:hover label.sk-toggleable__label-arrow:before {color: black;}#sk-container-id-2 div.sk-toggleable__content {max-height: 0;max-width: 0;overflow: hidden;text-align: left;background-color: #f0f8ff;}#sk-container-id-2 div.sk-toggleable__content pre {margin: 0.2em;color: black;border-radius: 0.25em;background-color: #f0f8ff;}#sk-container-id-2 input.sk-toggleable__control:checked~div.sk-toggleable__content {max-height: 200px;max-width: 100%;overflow: auto;}#sk-container-id-2 input.sk-toggleable__control:checked~label.sk-toggleable__label-arrow:before {content: \"▾\";}#sk-container-id-2 div.sk-estimator input.sk-toggleable__control:checked~label.sk-toggleable__label {background-color: #d4ebff;}#sk-container-id-2 div.sk-label input.sk-toggleable__control:checked~label.sk-toggleable__label {background-color: #d4ebff;}#sk-container-id-2 input.sk-hidden--visually {border: 0;clip: rect(1px 1px 1px 1px);clip: rect(1px, 1px, 1px, 1px);height: 1px;margin: -1px;overflow: hidden;padding: 0;position: absolute;width: 1px;}#sk-container-id-2 div.sk-estimator {font-family: monospace;background-color: #f0f8ff;border: 1px dotted black;border-radius: 0.25em;box-sizing: border-box;margin-bottom: 0.5em;}#sk-container-id-2 div.sk-estimator:hover {background-color: #d4ebff;}#sk-container-id-2 div.sk-parallel-item::after {content: \"\";width: 100%;border-bottom: 1px solid gray;flex-grow: 1;}#sk-container-id-2 div.sk-label:hover label.sk-toggleable__label {background-color: #d4ebff;}#sk-container-id-2 div.sk-serial::before {content: \"\";position: absolute;border-left: 1px solid gray;box-sizing: border-box;top: 0;bottom: 0;left: 50%;z-index: 0;}#sk-container-id-2 div.sk-serial {display: flex;flex-direction: column;align-items: center;background-color: white;padding-right: 0.2em;padding-left: 0.2em;position: relative;}#sk-container-id-2 div.sk-item {position: relative;z-index: 1;}#sk-container-id-2 div.sk-parallel {display: flex;align-items: stretch;justify-content: center;background-color: white;position: relative;}#sk-container-id-2 div.sk-item::before, #sk-container-id-2 div.sk-parallel-item::before {content: \"\";position: absolute;border-left: 1px solid gray;box-sizing: border-box;top: 0;bottom: 0;left: 50%;z-index: -1;}#sk-container-id-2 div.sk-parallel-item {display: flex;flex-direction: column;z-index: 1;position: relative;background-color: white;}#sk-container-id-2 div.sk-parallel-item:first-child::after {align-self: flex-end;width: 50%;}#sk-container-id-2 div.sk-parallel-item:last-child::after {align-self: flex-start;width: 50%;}#sk-container-id-2 div.sk-parallel-item:only-child::after {width: 0;}#sk-container-id-2 div.sk-dashed-wrapped {border: 1px dashed gray;margin: 0 0.4em 0.5em 0.4em;box-sizing: border-box;padding-bottom: 0.4em;background-color: white;}#sk-container-id-2 div.sk-label label {font-family: monospace;font-weight: bold;display: inline-block;line-height: 1.2em;}#sk-container-id-2 div.sk-label-container {text-align: center;}#sk-container-id-2 div.sk-container {/* jupyter's `normalize.less` sets `[hidden] { display: none; }` but bootstrap.min.css set `[hidden] { display: none !important; }` so we also need the `!important` here to be able to override the default hidden behavior on the sphinx rendered scikit-learn.org. See: https://github.com/scikit-learn/scikit-learn/issues/21755 */display: inline-block !important;position: relative;}#sk-container-id-2 div.sk-text-repr-fallback {display: none;}</style><div id=\"sk-container-id-2\" class=\"sk-top-container\"><div class=\"sk-text-repr-fallback\"><pre>GridSearchCV(estimator=ExtraTreesClassifier(),\n",
       "             param_grid={&#x27;criterion&#x27;: [&#x27;gini&#x27;, &#x27;squared_error&#x27;],\n",
       "                         &#x27;max_depth&#x27;: [1, 2, 3],\n",
       "                         &#x27;max_features&#x27;: [&#x27;auto&#x27;, &#x27;sqrt&#x27;, &#x27;log2&#x27;],\n",
       "                         &#x27;n_estimators&#x27;: [50, 100, 150, 200]})</pre><b>In a Jupyter environment, please rerun this cell to show the HTML representation or trust the notebook. <br />On GitHub, the HTML representation is unable to render, please try loading this page with nbviewer.org.</b></div><div class=\"sk-container\" hidden><div class=\"sk-item sk-dashed-wrapped\"><div class=\"sk-label-container\"><div class=\"sk-label sk-toggleable\"><input class=\"sk-toggleable__control sk-hidden--visually\" id=\"sk-estimator-id-4\" type=\"checkbox\" ><label for=\"sk-estimator-id-4\" class=\"sk-toggleable__label sk-toggleable__label-arrow\">GridSearchCV</label><div class=\"sk-toggleable__content\"><pre>GridSearchCV(estimator=ExtraTreesClassifier(),\n",
       "             param_grid={&#x27;criterion&#x27;: [&#x27;gini&#x27;, &#x27;squared_error&#x27;],\n",
       "                         &#x27;max_depth&#x27;: [1, 2, 3],\n",
       "                         &#x27;max_features&#x27;: [&#x27;auto&#x27;, &#x27;sqrt&#x27;, &#x27;log2&#x27;],\n",
       "                         &#x27;n_estimators&#x27;: [50, 100, 150, 200]})</pre></div></div></div><div class=\"sk-parallel\"><div class=\"sk-parallel-item\"><div class=\"sk-item\"><div class=\"sk-label-container\"><div class=\"sk-label sk-toggleable\"><input class=\"sk-toggleable__control sk-hidden--visually\" id=\"sk-estimator-id-5\" type=\"checkbox\" ><label for=\"sk-estimator-id-5\" class=\"sk-toggleable__label sk-toggleable__label-arrow\">estimator: ExtraTreesClassifier</label><div class=\"sk-toggleable__content\"><pre>ExtraTreesClassifier()</pre></div></div></div><div class=\"sk-serial\"><div class=\"sk-item\"><div class=\"sk-estimator sk-toggleable\"><input class=\"sk-toggleable__control sk-hidden--visually\" id=\"sk-estimator-id-6\" type=\"checkbox\" ><label for=\"sk-estimator-id-6\" class=\"sk-toggleable__label sk-toggleable__label-arrow\">ExtraTreesClassifier</label><div class=\"sk-toggleable__content\"><pre>ExtraTreesClassifier()</pre></div></div></div></div></div></div></div></div></div></div>"
      ],
      "text/plain": [
       "GridSearchCV(estimator=ExtraTreesClassifier(),\n",
       "             param_grid={'criterion': ['gini', 'squared_error'],\n",
       "                         'max_depth': [1, 2, 3],\n",
       "                         'max_features': ['auto', 'sqrt', 'log2'],\n",
       "                         'n_estimators': [50, 100, 150, 200]})"
      ]
     },
     "execution_count": 74,
     "metadata": {},
     "output_type": "execute_result"
    }
   ],
   "source": [
    "parameters={'n_estimators':[50,100,150,200],\n",
    "            'criterion':['gini','squared_error'],\n",
    "            'max_depth':[1,2,3],\n",
    "            'max_features':['auto','sqrt','log2']}\n",
    "gscv_etc=GridSearchCV(estimator=etc,param_grid=parameters)\n",
    "gscv_etc.fit(x_train,y_train)"
   ]
  },
  {
   "cell_type": "code",
   "execution_count": 75,
   "id": "51fc8b3d",
   "metadata": {},
   "outputs": [
    {
     "name": "stdout",
     "output_type": "stream",
     "text": [
      "0.7232775590551181\n",
      "{'criterion': 'gini', 'max_depth': 3, 'max_features': 'log2', 'n_estimators': 200}\n",
      "ExtraTreesClassifier(max_depth=3, max_features='log2', n_estimators=200)\n"
     ]
    }
   ],
   "source": [
    "print(gscv_etc.best_score_)\n",
    "print(gscv_etc.best_params_)\n",
    "print(gscv_etc.best_estimator_)"
   ]
  },
  {
   "cell_type": "code",
   "execution_count": 76,
   "id": "1fa778d2",
   "metadata": {},
   "outputs": [
    {
     "data": {
      "text/html": [
       "<style>#sk-container-id-3 {color: black;background-color: white;}#sk-container-id-3 pre{padding: 0;}#sk-container-id-3 div.sk-toggleable {background-color: white;}#sk-container-id-3 label.sk-toggleable__label {cursor: pointer;display: block;width: 100%;margin-bottom: 0;padding: 0.3em;box-sizing: border-box;text-align: center;}#sk-container-id-3 label.sk-toggleable__label-arrow:before {content: \"▸\";float: left;margin-right: 0.25em;color: #696969;}#sk-container-id-3 label.sk-toggleable__label-arrow:hover:before {color: black;}#sk-container-id-3 div.sk-estimator:hover label.sk-toggleable__label-arrow:before {color: black;}#sk-container-id-3 div.sk-toggleable__content {max-height: 0;max-width: 0;overflow: hidden;text-align: left;background-color: #f0f8ff;}#sk-container-id-3 div.sk-toggleable__content pre {margin: 0.2em;color: black;border-radius: 0.25em;background-color: #f0f8ff;}#sk-container-id-3 input.sk-toggleable__control:checked~div.sk-toggleable__content {max-height: 200px;max-width: 100%;overflow: auto;}#sk-container-id-3 input.sk-toggleable__control:checked~label.sk-toggleable__label-arrow:before {content: \"▾\";}#sk-container-id-3 div.sk-estimator input.sk-toggleable__control:checked~label.sk-toggleable__label {background-color: #d4ebff;}#sk-container-id-3 div.sk-label input.sk-toggleable__control:checked~label.sk-toggleable__label {background-color: #d4ebff;}#sk-container-id-3 input.sk-hidden--visually {border: 0;clip: rect(1px 1px 1px 1px);clip: rect(1px, 1px, 1px, 1px);height: 1px;margin: -1px;overflow: hidden;padding: 0;position: absolute;width: 1px;}#sk-container-id-3 div.sk-estimator {font-family: monospace;background-color: #f0f8ff;border: 1px dotted black;border-radius: 0.25em;box-sizing: border-box;margin-bottom: 0.5em;}#sk-container-id-3 div.sk-estimator:hover {background-color: #d4ebff;}#sk-container-id-3 div.sk-parallel-item::after {content: \"\";width: 100%;border-bottom: 1px solid gray;flex-grow: 1;}#sk-container-id-3 div.sk-label:hover label.sk-toggleable__label {background-color: #d4ebff;}#sk-container-id-3 div.sk-serial::before {content: \"\";position: absolute;border-left: 1px solid gray;box-sizing: border-box;top: 0;bottom: 0;left: 50%;z-index: 0;}#sk-container-id-3 div.sk-serial {display: flex;flex-direction: column;align-items: center;background-color: white;padding-right: 0.2em;padding-left: 0.2em;position: relative;}#sk-container-id-3 div.sk-item {position: relative;z-index: 1;}#sk-container-id-3 div.sk-parallel {display: flex;align-items: stretch;justify-content: center;background-color: white;position: relative;}#sk-container-id-3 div.sk-item::before, #sk-container-id-3 div.sk-parallel-item::before {content: \"\";position: absolute;border-left: 1px solid gray;box-sizing: border-box;top: 0;bottom: 0;left: 50%;z-index: -1;}#sk-container-id-3 div.sk-parallel-item {display: flex;flex-direction: column;z-index: 1;position: relative;background-color: white;}#sk-container-id-3 div.sk-parallel-item:first-child::after {align-self: flex-end;width: 50%;}#sk-container-id-3 div.sk-parallel-item:last-child::after {align-self: flex-start;width: 50%;}#sk-container-id-3 div.sk-parallel-item:only-child::after {width: 0;}#sk-container-id-3 div.sk-dashed-wrapped {border: 1px dashed gray;margin: 0 0.4em 0.5em 0.4em;box-sizing: border-box;padding-bottom: 0.4em;background-color: white;}#sk-container-id-3 div.sk-label label {font-family: monospace;font-weight: bold;display: inline-block;line-height: 1.2em;}#sk-container-id-3 div.sk-label-container {text-align: center;}#sk-container-id-3 div.sk-container {/* jupyter's `normalize.less` sets `[hidden] { display: none; }` but bootstrap.min.css set `[hidden] { display: none !important; }` so we also need the `!important` here to be able to override the default hidden behavior on the sphinx rendered scikit-learn.org. See: https://github.com/scikit-learn/scikit-learn/issues/21755 */display: inline-block !important;position: relative;}#sk-container-id-3 div.sk-text-repr-fallback {display: none;}</style><div id=\"sk-container-id-3\" class=\"sk-top-container\"><div class=\"sk-text-repr-fallback\"><pre>GridSearchCV(estimator=RandomForestClassifier(),\n",
       "             param_grid={&#x27;criterion&#x27;: [&#x27;gini&#x27;, &#x27;squared_error&#x27;],\n",
       "                         &#x27;max_depth&#x27;: [1, 2, 3],\n",
       "                         &#x27;max_features&#x27;: [&#x27;auto&#x27;, &#x27;sqrt&#x27;, &#x27;log2&#x27;],\n",
       "                         &#x27;n_estimators&#x27;: [50, 100, 150, 200]})</pre><b>In a Jupyter environment, please rerun this cell to show the HTML representation or trust the notebook. <br />On GitHub, the HTML representation is unable to render, please try loading this page with nbviewer.org.</b></div><div class=\"sk-container\" hidden><div class=\"sk-item sk-dashed-wrapped\"><div class=\"sk-label-container\"><div class=\"sk-label sk-toggleable\"><input class=\"sk-toggleable__control sk-hidden--visually\" id=\"sk-estimator-id-7\" type=\"checkbox\" ><label for=\"sk-estimator-id-7\" class=\"sk-toggleable__label sk-toggleable__label-arrow\">GridSearchCV</label><div class=\"sk-toggleable__content\"><pre>GridSearchCV(estimator=RandomForestClassifier(),\n",
       "             param_grid={&#x27;criterion&#x27;: [&#x27;gini&#x27;, &#x27;squared_error&#x27;],\n",
       "                         &#x27;max_depth&#x27;: [1, 2, 3],\n",
       "                         &#x27;max_features&#x27;: [&#x27;auto&#x27;, &#x27;sqrt&#x27;, &#x27;log2&#x27;],\n",
       "                         &#x27;n_estimators&#x27;: [50, 100, 150, 200]})</pre></div></div></div><div class=\"sk-parallel\"><div class=\"sk-parallel-item\"><div class=\"sk-item\"><div class=\"sk-label-container\"><div class=\"sk-label sk-toggleable\"><input class=\"sk-toggleable__control sk-hidden--visually\" id=\"sk-estimator-id-8\" type=\"checkbox\" ><label for=\"sk-estimator-id-8\" class=\"sk-toggleable__label sk-toggleable__label-arrow\">estimator: RandomForestClassifier</label><div class=\"sk-toggleable__content\"><pre>RandomForestClassifier()</pre></div></div></div><div class=\"sk-serial\"><div class=\"sk-item\"><div class=\"sk-estimator sk-toggleable\"><input class=\"sk-toggleable__control sk-hidden--visually\" id=\"sk-estimator-id-9\" type=\"checkbox\" ><label for=\"sk-estimator-id-9\" class=\"sk-toggleable__label sk-toggleable__label-arrow\">RandomForestClassifier</label><div class=\"sk-toggleable__content\"><pre>RandomForestClassifier()</pre></div></div></div></div></div></div></div></div></div></div>"
      ],
      "text/plain": [
       "GridSearchCV(estimator=RandomForestClassifier(),\n",
       "             param_grid={'criterion': ['gini', 'squared_error'],\n",
       "                         'max_depth': [1, 2, 3],\n",
       "                         'max_features': ['auto', 'sqrt', 'log2'],\n",
       "                         'n_estimators': [50, 100, 150, 200]})"
      ]
     },
     "execution_count": 76,
     "metadata": {},
     "output_type": "execute_result"
    }
   ],
   "source": [
    "parameters={'n_estimators':[50,100,150,200],\n",
    "            'criterion':['gini','squared_error'],\n",
    "            'max_depth':[1,2,3],\n",
    "            'max_features':['auto','sqrt','log2']}\n",
    "gscv_rfc=GridSearchCV(estimator=rfc,param_grid=parameters)\n",
    "gscv_rfc.fit(x_train,y_train)"
   ]
  },
  {
   "cell_type": "code",
   "execution_count": 77,
   "id": "487f4113",
   "metadata": {},
   "outputs": [
    {
     "name": "stdout",
     "output_type": "stream",
     "text": [
      "0.7327140748031497\n",
      "{'criterion': 'gini', 'max_depth': 3, 'max_features': 'sqrt', 'n_estimators': 150}\n",
      "RandomForestClassifier(max_depth=3, n_estimators=150)\n"
     ]
    }
   ],
   "source": [
    "print(gscv_rfc.best_score_)\n",
    "print(gscv_rfc.best_params_)\n",
    "print(gscv_rfc.best_estimator_)"
   ]
  },
  {
   "cell_type": "code",
   "execution_count": 78,
   "id": "14abc007",
   "metadata": {},
   "outputs": [
    {
     "data": {
      "text/html": [
       "<style>#sk-container-id-4 {color: black;background-color: white;}#sk-container-id-4 pre{padding: 0;}#sk-container-id-4 div.sk-toggleable {background-color: white;}#sk-container-id-4 label.sk-toggleable__label {cursor: pointer;display: block;width: 100%;margin-bottom: 0;padding: 0.3em;box-sizing: border-box;text-align: center;}#sk-container-id-4 label.sk-toggleable__label-arrow:before {content: \"▸\";float: left;margin-right: 0.25em;color: #696969;}#sk-container-id-4 label.sk-toggleable__label-arrow:hover:before {color: black;}#sk-container-id-4 div.sk-estimator:hover label.sk-toggleable__label-arrow:before {color: black;}#sk-container-id-4 div.sk-toggleable__content {max-height: 0;max-width: 0;overflow: hidden;text-align: left;background-color: #f0f8ff;}#sk-container-id-4 div.sk-toggleable__content pre {margin: 0.2em;color: black;border-radius: 0.25em;background-color: #f0f8ff;}#sk-container-id-4 input.sk-toggleable__control:checked~div.sk-toggleable__content {max-height: 200px;max-width: 100%;overflow: auto;}#sk-container-id-4 input.sk-toggleable__control:checked~label.sk-toggleable__label-arrow:before {content: \"▾\";}#sk-container-id-4 div.sk-estimator input.sk-toggleable__control:checked~label.sk-toggleable__label {background-color: #d4ebff;}#sk-container-id-4 div.sk-label input.sk-toggleable__control:checked~label.sk-toggleable__label {background-color: #d4ebff;}#sk-container-id-4 input.sk-hidden--visually {border: 0;clip: rect(1px 1px 1px 1px);clip: rect(1px, 1px, 1px, 1px);height: 1px;margin: -1px;overflow: hidden;padding: 0;position: absolute;width: 1px;}#sk-container-id-4 div.sk-estimator {font-family: monospace;background-color: #f0f8ff;border: 1px dotted black;border-radius: 0.25em;box-sizing: border-box;margin-bottom: 0.5em;}#sk-container-id-4 div.sk-estimator:hover {background-color: #d4ebff;}#sk-container-id-4 div.sk-parallel-item::after {content: \"\";width: 100%;border-bottom: 1px solid gray;flex-grow: 1;}#sk-container-id-4 div.sk-label:hover label.sk-toggleable__label {background-color: #d4ebff;}#sk-container-id-4 div.sk-serial::before {content: \"\";position: absolute;border-left: 1px solid gray;box-sizing: border-box;top: 0;bottom: 0;left: 50%;z-index: 0;}#sk-container-id-4 div.sk-serial {display: flex;flex-direction: column;align-items: center;background-color: white;padding-right: 0.2em;padding-left: 0.2em;position: relative;}#sk-container-id-4 div.sk-item {position: relative;z-index: 1;}#sk-container-id-4 div.sk-parallel {display: flex;align-items: stretch;justify-content: center;background-color: white;position: relative;}#sk-container-id-4 div.sk-item::before, #sk-container-id-4 div.sk-parallel-item::before {content: \"\";position: absolute;border-left: 1px solid gray;box-sizing: border-box;top: 0;bottom: 0;left: 50%;z-index: -1;}#sk-container-id-4 div.sk-parallel-item {display: flex;flex-direction: column;z-index: 1;position: relative;background-color: white;}#sk-container-id-4 div.sk-parallel-item:first-child::after {align-self: flex-end;width: 50%;}#sk-container-id-4 div.sk-parallel-item:last-child::after {align-self: flex-start;width: 50%;}#sk-container-id-4 div.sk-parallel-item:only-child::after {width: 0;}#sk-container-id-4 div.sk-dashed-wrapped {border: 1px dashed gray;margin: 0 0.4em 0.5em 0.4em;box-sizing: border-box;padding-bottom: 0.4em;background-color: white;}#sk-container-id-4 div.sk-label label {font-family: monospace;font-weight: bold;display: inline-block;line-height: 1.2em;}#sk-container-id-4 div.sk-label-container {text-align: center;}#sk-container-id-4 div.sk-container {/* jupyter's `normalize.less` sets `[hidden] { display: none; }` but bootstrap.min.css set `[hidden] { display: none !important; }` so we also need the `!important` here to be able to override the default hidden behavior on the sphinx rendered scikit-learn.org. See: https://github.com/scikit-learn/scikit-learn/issues/21755 */display: inline-block !important;position: relative;}#sk-container-id-4 div.sk-text-repr-fallback {display: none;}</style><div id=\"sk-container-id-4\" class=\"sk-top-container\"><div class=\"sk-text-repr-fallback\"><pre>GridSearchCV(estimator=GradientBoostingClassifier(),\n",
       "             param_grid={&#x27;criterion&#x27;: [&#x27;gini&#x27;, &#x27;squared_error&#x27;],\n",
       "                         &#x27;max_depth&#x27;: [1, 2, 3],\n",
       "                         &#x27;max_features&#x27;: [&#x27;auto&#x27;, &#x27;sqrt&#x27;, &#x27;log2&#x27;],\n",
       "                         &#x27;n_estimators&#x27;: [50, 100, 150, 200]})</pre><b>In a Jupyter environment, please rerun this cell to show the HTML representation or trust the notebook. <br />On GitHub, the HTML representation is unable to render, please try loading this page with nbviewer.org.</b></div><div class=\"sk-container\" hidden><div class=\"sk-item sk-dashed-wrapped\"><div class=\"sk-label-container\"><div class=\"sk-label sk-toggleable\"><input class=\"sk-toggleable__control sk-hidden--visually\" id=\"sk-estimator-id-10\" type=\"checkbox\" ><label for=\"sk-estimator-id-10\" class=\"sk-toggleable__label sk-toggleable__label-arrow\">GridSearchCV</label><div class=\"sk-toggleable__content\"><pre>GridSearchCV(estimator=GradientBoostingClassifier(),\n",
       "             param_grid={&#x27;criterion&#x27;: [&#x27;gini&#x27;, &#x27;squared_error&#x27;],\n",
       "                         &#x27;max_depth&#x27;: [1, 2, 3],\n",
       "                         &#x27;max_features&#x27;: [&#x27;auto&#x27;, &#x27;sqrt&#x27;, &#x27;log2&#x27;],\n",
       "                         &#x27;n_estimators&#x27;: [50, 100, 150, 200]})</pre></div></div></div><div class=\"sk-parallel\"><div class=\"sk-parallel-item\"><div class=\"sk-item\"><div class=\"sk-label-container\"><div class=\"sk-label sk-toggleable\"><input class=\"sk-toggleable__control sk-hidden--visually\" id=\"sk-estimator-id-11\" type=\"checkbox\" ><label for=\"sk-estimator-id-11\" class=\"sk-toggleable__label sk-toggleable__label-arrow\">estimator: GradientBoostingClassifier</label><div class=\"sk-toggleable__content\"><pre>GradientBoostingClassifier()</pre></div></div></div><div class=\"sk-serial\"><div class=\"sk-item\"><div class=\"sk-estimator sk-toggleable\"><input class=\"sk-toggleable__control sk-hidden--visually\" id=\"sk-estimator-id-12\" type=\"checkbox\" ><label for=\"sk-estimator-id-12\" class=\"sk-toggleable__label sk-toggleable__label-arrow\">GradientBoostingClassifier</label><div class=\"sk-toggleable__content\"><pre>GradientBoostingClassifier()</pre></div></div></div></div></div></div></div></div></div></div>"
      ],
      "text/plain": [
       "GridSearchCV(estimator=GradientBoostingClassifier(),\n",
       "             param_grid={'criterion': ['gini', 'squared_error'],\n",
       "                         'max_depth': [1, 2, 3],\n",
       "                         'max_features': ['auto', 'sqrt', 'log2'],\n",
       "                         'n_estimators': [50, 100, 150, 200]})"
      ]
     },
     "execution_count": 78,
     "metadata": {},
     "output_type": "execute_result"
    }
   ],
   "source": [
    "parameters={'n_estimators':[50,100,150,200],\n",
    "            'criterion':['gini','squared_error'],\n",
    "            'max_depth':[1,2,3],\n",
    "            'max_features':['auto','sqrt','log2']}\n",
    "gscv_gbc=GridSearchCV(estimator=gbc,param_grid=parameters)\n",
    "gscv_gbc.fit(x_train,y_train)"
   ]
  },
  {
   "cell_type": "code",
   "execution_count": 79,
   "id": "d5dbb55a",
   "metadata": {},
   "outputs": [
    {
     "name": "stdout",
     "output_type": "stream",
     "text": [
      "0.7782849409448819\n",
      "{'criterion': 'squared_error', 'max_depth': 3, 'max_features': 'log2', 'n_estimators': 200}\n",
      "GradientBoostingClassifier(criterion='squared_error', max_features='log2',\n",
      "                           n_estimators=200)\n"
     ]
    }
   ],
   "source": [
    "print(gscv_gbc.best_score_)\n",
    "print(gscv_gbc.best_params_)\n",
    "print(gscv_gbc.best_estimator_)"
   ]
  },
  {
   "cell_type": "code",
   "execution_count": 80,
   "id": "6fa5d282",
   "metadata": {},
   "outputs": [],
   "source": [
    "svc=SVC()\n",
    "kernel_value={'kernel':['rbf','linear','poly']}"
   ]
  },
  {
   "cell_type": "code",
   "execution_count": 81,
   "id": "36481e6e",
   "metadata": {},
   "outputs": [
    {
     "data": {
      "text/html": [
       "<style>#sk-container-id-5 {color: black;background-color: white;}#sk-container-id-5 pre{padding: 0;}#sk-container-id-5 div.sk-toggleable {background-color: white;}#sk-container-id-5 label.sk-toggleable__label {cursor: pointer;display: block;width: 100%;margin-bottom: 0;padding: 0.3em;box-sizing: border-box;text-align: center;}#sk-container-id-5 label.sk-toggleable__label-arrow:before {content: \"▸\";float: left;margin-right: 0.25em;color: #696969;}#sk-container-id-5 label.sk-toggleable__label-arrow:hover:before {color: black;}#sk-container-id-5 div.sk-estimator:hover label.sk-toggleable__label-arrow:before {color: black;}#sk-container-id-5 div.sk-toggleable__content {max-height: 0;max-width: 0;overflow: hidden;text-align: left;background-color: #f0f8ff;}#sk-container-id-5 div.sk-toggleable__content pre {margin: 0.2em;color: black;border-radius: 0.25em;background-color: #f0f8ff;}#sk-container-id-5 input.sk-toggleable__control:checked~div.sk-toggleable__content {max-height: 200px;max-width: 100%;overflow: auto;}#sk-container-id-5 input.sk-toggleable__control:checked~label.sk-toggleable__label-arrow:before {content: \"▾\";}#sk-container-id-5 div.sk-estimator input.sk-toggleable__control:checked~label.sk-toggleable__label {background-color: #d4ebff;}#sk-container-id-5 div.sk-label input.sk-toggleable__control:checked~label.sk-toggleable__label {background-color: #d4ebff;}#sk-container-id-5 input.sk-hidden--visually {border: 0;clip: rect(1px 1px 1px 1px);clip: rect(1px, 1px, 1px, 1px);height: 1px;margin: -1px;overflow: hidden;padding: 0;position: absolute;width: 1px;}#sk-container-id-5 div.sk-estimator {font-family: monospace;background-color: #f0f8ff;border: 1px dotted black;border-radius: 0.25em;box-sizing: border-box;margin-bottom: 0.5em;}#sk-container-id-5 div.sk-estimator:hover {background-color: #d4ebff;}#sk-container-id-5 div.sk-parallel-item::after {content: \"\";width: 100%;border-bottom: 1px solid gray;flex-grow: 1;}#sk-container-id-5 div.sk-label:hover label.sk-toggleable__label {background-color: #d4ebff;}#sk-container-id-5 div.sk-serial::before {content: \"\";position: absolute;border-left: 1px solid gray;box-sizing: border-box;top: 0;bottom: 0;left: 50%;z-index: 0;}#sk-container-id-5 div.sk-serial {display: flex;flex-direction: column;align-items: center;background-color: white;padding-right: 0.2em;padding-left: 0.2em;position: relative;}#sk-container-id-5 div.sk-item {position: relative;z-index: 1;}#sk-container-id-5 div.sk-parallel {display: flex;align-items: stretch;justify-content: center;background-color: white;position: relative;}#sk-container-id-5 div.sk-item::before, #sk-container-id-5 div.sk-parallel-item::before {content: \"\";position: absolute;border-left: 1px solid gray;box-sizing: border-box;top: 0;bottom: 0;left: 50%;z-index: -1;}#sk-container-id-5 div.sk-parallel-item {display: flex;flex-direction: column;z-index: 1;position: relative;background-color: white;}#sk-container-id-5 div.sk-parallel-item:first-child::after {align-self: flex-end;width: 50%;}#sk-container-id-5 div.sk-parallel-item:last-child::after {align-self: flex-start;width: 50%;}#sk-container-id-5 div.sk-parallel-item:only-child::after {width: 0;}#sk-container-id-5 div.sk-dashed-wrapped {border: 1px dashed gray;margin: 0 0.4em 0.5em 0.4em;box-sizing: border-box;padding-bottom: 0.4em;background-color: white;}#sk-container-id-5 div.sk-label label {font-family: monospace;font-weight: bold;display: inline-block;line-height: 1.2em;}#sk-container-id-5 div.sk-label-container {text-align: center;}#sk-container-id-5 div.sk-container {/* jupyter's `normalize.less` sets `[hidden] { display: none; }` but bootstrap.min.css set `[hidden] { display: none !important; }` so we also need the `!important` here to be able to override the default hidden behavior on the sphinx rendered scikit-learn.org. See: https://github.com/scikit-learn/scikit-learn/issues/21755 */display: inline-block !important;position: relative;}#sk-container-id-5 div.sk-text-repr-fallback {display: none;}</style><div id=\"sk-container-id-5\" class=\"sk-top-container\"><div class=\"sk-text-repr-fallback\"><pre>GridSearchCV(estimator=SVC(), param_grid={&#x27;kernel&#x27;: [&#x27;rbf&#x27;, &#x27;linear&#x27;, &#x27;poly&#x27;]})</pre><b>In a Jupyter environment, please rerun this cell to show the HTML representation or trust the notebook. <br />On GitHub, the HTML representation is unable to render, please try loading this page with nbviewer.org.</b></div><div class=\"sk-container\" hidden><div class=\"sk-item sk-dashed-wrapped\"><div class=\"sk-label-container\"><div class=\"sk-label sk-toggleable\"><input class=\"sk-toggleable__control sk-hidden--visually\" id=\"sk-estimator-id-13\" type=\"checkbox\" ><label for=\"sk-estimator-id-13\" class=\"sk-toggleable__label sk-toggleable__label-arrow\">GridSearchCV</label><div class=\"sk-toggleable__content\"><pre>GridSearchCV(estimator=SVC(), param_grid={&#x27;kernel&#x27;: [&#x27;rbf&#x27;, &#x27;linear&#x27;, &#x27;poly&#x27;]})</pre></div></div></div><div class=\"sk-parallel\"><div class=\"sk-parallel-item\"><div class=\"sk-item\"><div class=\"sk-label-container\"><div class=\"sk-label sk-toggleable\"><input class=\"sk-toggleable__control sk-hidden--visually\" id=\"sk-estimator-id-14\" type=\"checkbox\" ><label for=\"sk-estimator-id-14\" class=\"sk-toggleable__label sk-toggleable__label-arrow\">estimator: SVC</label><div class=\"sk-toggleable__content\"><pre>SVC()</pre></div></div></div><div class=\"sk-serial\"><div class=\"sk-item\"><div class=\"sk-estimator sk-toggleable\"><input class=\"sk-toggleable__control sk-hidden--visually\" id=\"sk-estimator-id-15\" type=\"checkbox\" ><label for=\"sk-estimator-id-15\" class=\"sk-toggleable__label sk-toggleable__label-arrow\">SVC</label><div class=\"sk-toggleable__content\"><pre>SVC()</pre></div></div></div></div></div></div></div></div></div></div>"
      ],
      "text/plain": [
       "GridSearchCV(estimator=SVC(), param_grid={'kernel': ['rbf', 'linear', 'poly']})"
      ]
     },
     "execution_count": 81,
     "metadata": {},
     "output_type": "execute_result"
    }
   ],
   "source": [
    "gscv_svc=GridSearchCV(estimator=svc,param_grid=kernel_value)\n",
    "gscv_svc.fit(x_train,y_train)"
   ]
  },
  {
   "cell_type": "code",
   "execution_count": 82,
   "id": "dd400b92",
   "metadata": {},
   "outputs": [
    {
     "name": "stdout",
     "output_type": "stream",
     "text": [
      "0.7091166338582677\n",
      "SVC()\n",
      "{'kernel': 'rbf'}\n"
     ]
    }
   ],
   "source": [
    "print(gscv_svc.best_score_)\n",
    "print(gscv_svc.best_estimator_)\n",
    "print(gscv_svc.best_params_)"
   ]
  },
  {
   "cell_type": "markdown",
   "id": "92588e25",
   "metadata": {},
   "source": [
    "# ROC_CURVE"
   ]
  },
  {
   "cell_type": "code",
   "execution_count": 83,
   "id": "44315b92",
   "metadata": {},
   "outputs": [],
   "source": [
    "from sklearn.metrics import roc_curve"
   ]
  },
  {
   "cell_type": "code",
   "execution_count": 84,
   "id": "7e3c7c1e",
   "metadata": {},
   "outputs": [],
   "source": [
    "fpr,tpr,thresholds=roc_curve(y_test,etc.predict(x_test))"
   ]
  },
  {
   "cell_type": "code",
   "execution_count": 85,
   "id": "db0926c2",
   "metadata": {},
   "outputs": [
    {
     "data": {
      "text/plain": [
       "array([0.        , 0.17741935, 1.        ])"
      ]
     },
     "execution_count": 85,
     "metadata": {},
     "output_type": "execute_result"
    }
   ],
   "source": [
    "fpr"
   ]
  },
  {
   "cell_type": "code",
   "execution_count": 86,
   "id": "dc50d458",
   "metadata": {},
   "outputs": [
    {
     "data": {
      "text/plain": [
       "array([0.       , 0.8877551, 1.       ])"
      ]
     },
     "execution_count": 86,
     "metadata": {},
     "output_type": "execute_result"
    }
   ],
   "source": [
    "tpr"
   ]
  },
  {
   "cell_type": "code",
   "execution_count": 87,
   "id": "8f1d955a",
   "metadata": {},
   "outputs": [
    {
     "data": {
      "text/plain": [
       "array([2, 1, 0])"
      ]
     },
     "execution_count": 87,
     "metadata": {},
     "output_type": "execute_result"
    }
   ],
   "source": [
    "thresholds"
   ]
  },
  {
   "cell_type": "code",
   "execution_count": 88,
   "id": "fe9c2a57",
   "metadata": {},
   "outputs": [
    {
     "data": {
      "image/png": "[encoded data removed]",
      "text/plain": [
       "<Figure size 432x288 with 1 Axes>"
      ]
     },
     "metadata": {
      "needs_background": "light"
     },
     "output_type": "display_data"
    }
   ],
   "source": [
    "from sklearn.metrics import roc_curve,auc\n",
    "fpr,tpr,thresholds=roc_curve(y_test,etc.predict(x_test))\n",
    "roc_auc=auc(fpr,tpr)\n",
    "\n",
    "plt.figure()\n",
    "plt.plot(fpr,tpr,color='red',label=roc_auc)\n",
    "plt.plot([0,1],[0,1],color='navy',linestyle='--')\n",
    "plt.xlabel('FalsePositiveRate')\n",
    "plt.ylabel('TruePositiveRate')\n",
    "plt.xlim([0.0,1.0])\n",
    "plt.ylim([0.0,1.05])\n",
    "plt.title('ExtraTreesClassifier')\n",
    "plt.legend(loc='lower right')\n",
    "plt.show()"
   ]
  },
  {
   "cell_type": "code",
   "execution_count": 89,
   "id": "54f1f5a9",
   "metadata": {},
   "outputs": [
    {
     "data": {
      "image/png": "[encoded data removed]",
      "text/plain": [
       "<Figure size 576x432 with 1 Axes>"
      ]
     },
     "metadata": {
      "needs_background": "light"
     },
     "output_type": "display_data"
    }
   ],
   "source": [
    "plt.figure(figsize=(8,6))\n",
    "plt.xlabel(\"Actual charges\")\n",
    "plt.ylabel(\"Predicted charges\")\n",
    "plt.scatter(x=y_test,y=etc.predict(x_test),color='r')\n",
    "plt.plot(y_test,y_test,color='b')\n",
    "plt.savefig('=etc-loan.png')\n",
    "plt.show()"
   ]
  },
  {
   "cell_type": "markdown",
   "id": "6820f6ed",
   "metadata": {},
   "source": [
    "# ROC_AUC_PLOT"
   ]
  },
  {
   "cell_type": "code",
   "execution_count": 90,
   "id": "d99e8dc5",
   "metadata": {},
   "outputs": [
    {
     "data": {
      "image/png": "[encoded data removed]",
      "text/plain": [
       "<Figure size 432x288 with 1 Axes>"
      ]
     },
     "metadata": {
      "needs_background": "light"
     },
     "output_type": "display_data"
    }
   ],
   "source": [
    "from sklearn.metrics import plot_roc_curve\n",
    "plot_roc_curve(gscv_etc.best_estimator_,x_test,y_test)\n",
    "plt.title('ROC AUC PLOT')\n",
    "plt.show()"
   ]
  },
  {
   "cell_type": "code",
   "execution_count": 91,
   "id": "356e5e7d",
   "metadata": {},
   "outputs": [
    {
     "name": "stdout",
     "output_type": "stream",
     "text": [
      "ACCURACY_SCORE OF THE BEST FITTED MODEL --EXTRA TREES CLASSIFIER 87.5\n",
      "[[52 10]\n",
      " [10 88]]\n",
      "              precision    recall  f1-score   support\n",
      "\n",
      "           0       0.84      0.84      0.84        62\n",
      "           1       0.90      0.90      0.90        98\n",
      "\n",
      "    accuracy                           0.88       160\n",
      "   macro avg       0.87      0.87      0.87       160\n",
      "weighted avg       0.88      0.88      0.88       160\n",
      "\n"
     ]
    }
   ],
   "source": [
    "etc=ExtraTreesClassifier()\n",
    "etc.fit(x_train,y_train)\n",
    "predetc=etc.predict(x_test)\n",
    "score=accuracy_score(y_test,predetc)\n",
    "print('ACCURACY_SCORE OF THE BEST FITTED MODEL --EXTRA TREES CLASSIFIER',score*100)\n",
    "print(confusion_matrix(y_test,predetc))\n",
    "print(classification_report(y_test,predetc))"
   ]
  },
  {
   "cell_type": "code",
   "execution_count": 92,
   "id": "68cd838f",
   "metadata": {},
   "outputs": [
    {
     "data": {
      "text/plain": [
       "[<matplotlib.lines.Line2D at 0x1f3103add00>]"
      ]
     },
     "execution_count": 92,
     "metadata": {},
     "output_type": "execute_result"
    },
    {
     "data": {
      "image/png": "[encoded data removed]",
      "text/plain": [
       "<Figure size 432x288 with 1 Axes>"
      ]
     },
     "metadata": {
      "needs_background": "light"
     },
     "output_type": "display_data"
    }
   ],
   "source": [
    "plt.scatter(predetc,y_test)\n",
    "plt.plot(y_test,y_test,linewidth=4,color='Red')"
   ]
  },
  {
   "cell_type": "markdown",
   "id": "2dc9dce1",
   "metadata": {},
   "source": [
    "# PLOT_ROC_CURVE  OF ALL MODELS"
   ]
  },
  {
   "cell_type": "code",
   "execution_count": 93,
   "id": "10cb67a5",
   "metadata": {},
   "outputs": [],
   "source": [
    "from sklearn.metrics import roc_curve,plot_roc_curve"
   ]
  },
  {
   "cell_type": "code",
   "execution_count": 94,
   "id": "a29314ac",
   "metadata": {},
   "outputs": [
    {
     "data": {
      "image/png": "[encoded data removed]",
      "text/plain": [
       "<Figure size 432x288 with 1 Axes>"
      ]
     },
     "metadata": {
      "needs_background": "light"
     },
     "output_type": "display_data"
    }
   ],
   "source": [
    "disp=plot_roc_curve(etc,x_test,y_test)\n",
    "plot_roc_curve(rfc,x_test,y_test,ax = disp.ax_)\n",
    "plot_roc_curve(etc,x_test,y_test,ax = disp.ax_)\n",
    "plot_roc_curve(gbc,x_test,y_test,ax = disp.ax_)\n",
    "plot_roc_curve(abc,x_test,y_test,ax = disp.ax_)\n",
    "plot_roc_curve(dtc,x_test,y_test,ax = disp.ax_)\n",
    "plot_roc_curve(knc,x_test,y_test,ax = disp.ax_)\n",
    "plt.legend(prop={'size':11},loc='lower right')\n",
    "plt.show()"
   ]
  },
  {
   "cell_type": "markdown",
   "id": "7f71e590",
   "metadata": {},
   "source": [
    "# COMPARING WITH ALL MODELS EXTRA TREES CLASSIFIER SHOWS BEST RESULT IN ALL WAYS SO SAVING IT"
   ]
  },
  {
   "cell_type": "code",
   "execution_count": 95,
   "id": "77df1d66",
   "metadata": {},
   "outputs": [],
   "source": [
    "import pickle\n",
    "filename='loan_application_status_prediction.pkl'"
   ]
  },
  {
   "cell_type": "code",
   "execution_count": 96,
   "id": "43bc4f95",
   "metadata": {},
   "outputs": [],
   "source": [
    "pickle.dump(etc,open(filename,'wb'))"
   ]
  },
  {
   "cell_type": "markdown",
   "id": "11f8f36f",
   "metadata": {},
   "source": [
    "# LOADING THE BEST SAVED MODEL"
   ]
  },
  {
   "cell_type": "code",
   "execution_count": 97,
   "id": "a04b4f29",
   "metadata": {},
   "outputs": [
    {
     "data": {
      "text/html": [
       "<style>#sk-container-id-6 {color: black;background-color: white;}#sk-container-id-6 pre{padding: 0;}#sk-container-id-6 div.sk-toggleable {background-color: white;}#sk-container-id-6 label.sk-toggleable__label {cursor: pointer;display: block;width: 100%;margin-bottom: 0;padding: 0.3em;box-sizing: border-box;text-align: center;}#sk-container-id-6 label.sk-toggleable__label-arrow:before {content: \"▸\";float: left;margin-right: 0.25em;color: #696969;}#sk-container-id-6 label.sk-toggleable__label-arrow:hover:before {color: black;}#sk-container-id-6 div.sk-estimator:hover label.sk-toggleable__label-arrow:before {color: black;}#sk-container-id-6 div.sk-toggleable__content {max-height: 0;max-width: 0;overflow: hidden;text-align: left;background-color: #f0f8ff;}#sk-container-id-6 div.sk-toggleable__content pre {margin: 0.2em;color: black;border-radius: 0.25em;background-color: #f0f8ff;}#sk-container-id-6 input.sk-toggleable__control:checked~div.sk-toggleable__content {max-height: 200px;max-width: 100%;overflow: auto;}#sk-container-id-6 input.sk-toggleable__control:checked~label.sk-toggleable__label-arrow:before {content: \"▾\";}#sk-container-id-6 div.sk-estimator input.sk-toggleable__control:checked~label.sk-toggleable__label {background-color: #d4ebff;}#sk-container-id-6 div.sk-label input.sk-toggleable__control:checked~label.sk-toggleable__label {background-color: #d4ebff;}#sk-container-id-6 input.sk-hidden--visually {border: 0;clip: rect(1px 1px 1px 1px);clip: rect(1px, 1px, 1px, 1px);height: 1px;margin: -1px;overflow: hidden;padding: 0;position: absolute;width: 1px;}#sk-container-id-6 div.sk-estimator {font-family: monospace;background-color: #f0f8ff;border: 1px dotted black;border-radius: 0.25em;box-sizing: border-box;margin-bottom: 0.5em;}#sk-container-id-6 div.sk-estimator:hover {background-color: #d4ebff;}#sk-container-id-6 div.sk-parallel-item::after {content: \"\";width: 100%;border-bottom: 1px solid gray;flex-grow: 1;}#sk-container-id-6 div.sk-label:hover label.sk-toggleable__label {background-color: #d4ebff;}#sk-container-id-6 div.sk-serial::before {content: \"\";position: absolute;border-left: 1px solid gray;box-sizing: border-box;top: 0;bottom: 0;left: 50%;z-index: 0;}#sk-container-id-6 div.sk-serial {display: flex;flex-direction: column;align-items: center;background-color: white;padding-right: 0.2em;padding-left: 0.2em;position: relative;}#sk-container-id-6 div.sk-item {position: relative;z-index: 1;}#sk-container-id-6 div.sk-parallel {display: flex;align-items: stretch;justify-content: center;background-color: white;position: relative;}#sk-container-id-6 div.sk-item::before, #sk-container-id-6 div.sk-parallel-item::before {content: \"\";position: absolute;border-left: 1px solid gray;box-sizing: border-box;top: 0;bottom: 0;left: 50%;z-index: -1;}#sk-container-id-6 div.sk-parallel-item {display: flex;flex-direction: column;z-index: 1;position: relative;background-color: white;}#sk-container-id-6 div.sk-parallel-item:first-child::after {align-self: flex-end;width: 50%;}#sk-container-id-6 div.sk-parallel-item:last-child::after {align-self: flex-start;width: 50%;}#sk-container-id-6 div.sk-parallel-item:only-child::after {width: 0;}#sk-container-id-6 div.sk-dashed-wrapped {border: 1px dashed gray;margin: 0 0.4em 0.5em 0.4em;box-sizing: border-box;padding-bottom: 0.4em;background-color: white;}#sk-container-id-6 div.sk-label label {font-family: monospace;font-weight: bold;display: inline-block;line-height: 1.2em;}#sk-container-id-6 div.sk-label-container {text-align: center;}#sk-container-id-6 div.sk-container {/* jupyter's `normalize.less` sets `[hidden] { display: none; }` but bootstrap.min.css set `[hidden] { display: none !important; }` so we also need the `!important` here to be able to override the default hidden behavior on the sphinx rendered scikit-learn.org. See: https://github.com/scikit-learn/scikit-learn/issues/21755 */display: inline-block !important;position: relative;}#sk-container-id-6 div.sk-text-repr-fallback {display: none;}</style><div id=\"sk-container-id-6\" class=\"sk-top-container\"><div class=\"sk-text-repr-fallback\"><pre>ExtraTreesClassifier()</pre><b>In a Jupyter environment, please rerun this cell to show the HTML representation or trust the notebook. <br />On GitHub, the HTML representation is unable to render, please try loading this page with nbviewer.org.</b></div><div class=\"sk-container\" hidden><div class=\"sk-item\"><div class=\"sk-estimator sk-toggleable\"><input class=\"sk-toggleable__control sk-hidden--visually\" id=\"sk-estimator-id-16\" type=\"checkbox\" checked><label for=\"sk-estimator-id-16\" class=\"sk-toggleable__label sk-toggleable__label-arrow\">ExtraTreesClassifier</label><div class=\"sk-toggleable__content\"><pre>ExtraTreesClassifier()</pre></div></div></div></div></div>"
      ],
      "text/plain": [
       "ExtraTreesClassifier()"
      ]
     },
     "execution_count": 97,
     "metadata": {},
     "output_type": "execute_result"
    }
   ],
   "source": [
    "pickle.load(open(filename,'rb'))"
   ]
  },
  {
   "cell_type": "code",
   "execution_count": null,
   "id": "d314cfc8",
   "metadata": {},
   "outputs": [],
   "source": []
  }
 ],
 "metadata": {
  "kernelspec": {
   "display_name": "Python 3 (ipykernel)",
   "language": "python",
   "name": "python3"
  },
  "language_info": {
   "codemirror_mode": {
    "name": "ipython",
    "version": 3
   },
   "file_extension": ".py",
   "mimetype": "text/x-python",
   "name": "python",
   "nbconvert_exporter": "python",
   "pygments_lexer": "ipython3",
   "version": "3.9.12"
  }
 },
 "nbformat": 4,
 "nbformat_minor": 5
}
